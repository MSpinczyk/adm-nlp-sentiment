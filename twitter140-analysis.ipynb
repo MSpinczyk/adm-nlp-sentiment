{
 "cells": [
  {
   "cell_type": "code",
   "execution_count": 22,
   "id": "initial_id",
   "metadata": {
    "is_executing": true
   },
   "outputs": [],
   "source": [
    "import pandas as pd\n",
    "import matplotlib.pyplot as plt\n",
    "import langid\n",
    "import pyprind\n",
    "from tqdm import tqdm\n",
    "import string\n",
    "import seaborn as sns\n",
    "from wordcloud import WordCloud\n",
    "import nltk\n",
    "from nltk.corpus import stopwords\n",
    "import unicodedata\n",
    "from nltk.stem.porter import PorterStemmer\n",
    "import contractions\n",
    "from num2words import num2words \n",
    "import re\n",
    "from cleantext import clean\n",
    "import cleantext\n",
    "from autocorrect import Speller"
   ]
  },
  {
   "cell_type": "code",
   "execution_count": 3,
   "id": "01c14d9a",
   "metadata": {},
   "outputs": [],
   "source": [
    "pd.set_option('display.max_colwidth', None)"
   ]
  },
  {
   "cell_type": "code",
   "execution_count": 4,
   "id": "4464b194929b1a84",
   "metadata": {},
   "outputs": [],
   "source": [
    "columns  = [\"sentiment\", \"ids\", \"date\", \"flag\", \"user\", \"text\"]\n",
    "df = pd.read_csv('twiter140.csv', encoding = \"ISO-8859-1\", names=columns)"
   ]
  },
  {
   "cell_type": "code",
   "execution_count": 5,
   "id": "3e123e03",
   "metadata": {},
   "outputs": [
    {
     "data": {
      "text/html": [
       "<div>\n",
       "<style scoped>\n",
       "    .dataframe tbody tr th:only-of-type {\n",
       "        vertical-align: middle;\n",
       "    }\n",
       "\n",
       "    .dataframe tbody tr th {\n",
       "        vertical-align: top;\n",
       "    }\n",
       "\n",
       "    .dataframe thead th {\n",
       "        text-align: right;\n",
       "    }\n",
       "</style>\n",
       "<table border=\"1\" class=\"dataframe\">\n",
       "  <thead>\n",
       "    <tr style=\"text-align: right;\">\n",
       "      <th></th>\n",
       "      <th>sentiment</th>\n",
       "      <th>ids</th>\n",
       "      <th>date</th>\n",
       "      <th>flag</th>\n",
       "      <th>user</th>\n",
       "      <th>text</th>\n",
       "    </tr>\n",
       "  </thead>\n",
       "  <tbody>\n",
       "    <tr>\n",
       "      <th>0</th>\n",
       "      <td>0</td>\n",
       "      <td>1467810369</td>\n",
       "      <td>Mon Apr 06 22:19:45 PDT 2009</td>\n",
       "      <td>NO_QUERY</td>\n",
       "      <td>_TheSpecialOne_</td>\n",
       "      <td>@switchfoot http://twitpic.com/2y1zl - Awww, that's a bummer.  You shoulda got David Carr of Third Day to do it. ;D</td>\n",
       "    </tr>\n",
       "    <tr>\n",
       "      <th>1</th>\n",
       "      <td>0</td>\n",
       "      <td>1467810672</td>\n",
       "      <td>Mon Apr 06 22:19:49 PDT 2009</td>\n",
       "      <td>NO_QUERY</td>\n",
       "      <td>scotthamilton</td>\n",
       "      <td>is upset that he can't update his Facebook by texting it... and might cry as a result  School today also. Blah!</td>\n",
       "    </tr>\n",
       "    <tr>\n",
       "      <th>2</th>\n",
       "      <td>0</td>\n",
       "      <td>1467810917</td>\n",
       "      <td>Mon Apr 06 22:19:53 PDT 2009</td>\n",
       "      <td>NO_QUERY</td>\n",
       "      <td>mattycus</td>\n",
       "      <td>@Kenichan I dived many times for the ball. Managed to save 50%  The rest go out of bounds</td>\n",
       "    </tr>\n",
       "    <tr>\n",
       "      <th>3</th>\n",
       "      <td>0</td>\n",
       "      <td>1467811184</td>\n",
       "      <td>Mon Apr 06 22:19:57 PDT 2009</td>\n",
       "      <td>NO_QUERY</td>\n",
       "      <td>ElleCTF</td>\n",
       "      <td>my whole body feels itchy and like its on fire</td>\n",
       "    </tr>\n",
       "    <tr>\n",
       "      <th>4</th>\n",
       "      <td>0</td>\n",
       "      <td>1467811193</td>\n",
       "      <td>Mon Apr 06 22:19:57 PDT 2009</td>\n",
       "      <td>NO_QUERY</td>\n",
       "      <td>Karoli</td>\n",
       "      <td>@nationwideclass no, it's not behaving at all. i'm mad. why am i here? because I can't see you all over there.</td>\n",
       "    </tr>\n",
       "  </tbody>\n",
       "</table>\n",
       "</div>"
      ],
      "text/plain": [
       "   sentiment         ids                          date      flag  \\\n",
       "0          0  1467810369  Mon Apr 06 22:19:45 PDT 2009  NO_QUERY   \n",
       "1          0  1467810672  Mon Apr 06 22:19:49 PDT 2009  NO_QUERY   \n",
       "2          0  1467810917  Mon Apr 06 22:19:53 PDT 2009  NO_QUERY   \n",
       "3          0  1467811184  Mon Apr 06 22:19:57 PDT 2009  NO_QUERY   \n",
       "4          0  1467811193  Mon Apr 06 22:19:57 PDT 2009  NO_QUERY   \n",
       "\n",
       "              user  \\\n",
       "0  _TheSpecialOne_   \n",
       "1    scotthamilton   \n",
       "2         mattycus   \n",
       "3          ElleCTF   \n",
       "4           Karoli   \n",
       "\n",
       "                                                                                                                  text  \n",
       "0  @switchfoot http://twitpic.com/2y1zl - Awww, that's a bummer.  You shoulda got David Carr of Third Day to do it. ;D  \n",
       "1      is upset that he can't update his Facebook by texting it... and might cry as a result  School today also. Blah!  \n",
       "2                            @Kenichan I dived many times for the ball. Managed to save 50%  The rest go out of bounds  \n",
       "3                                                                      my whole body feels itchy and like its on fire   \n",
       "4      @nationwideclass no, it's not behaving at all. i'm mad. why am i here? because I can't see you all over there.   "
      ]
     },
     "execution_count": 5,
     "metadata": {},
     "output_type": "execute_result"
    }
   ],
   "source": [
    "df.head(5)\n"
   ]
  },
  {
   "cell_type": "code",
   "execution_count": 6,
   "id": "3b189c79",
   "metadata": {},
   "outputs": [],
   "source": [
    "data = df[['text', 'sentiment']].copy()"
   ]
  },
  {
   "cell_type": "markdown",
   "id": "0022a2f7",
   "metadata": {},
   "source": [
    "### sentiment labels ratio"
   ]
  },
  {
   "cell_type": "code",
   "execution_count": 64,
   "id": "b9f3a9f9",
   "metadata": {},
   "outputs": [
    {
     "data": {
      "text/plain": [
       "sentiment\n",
       "0    800000\n",
       "4    800000\n",
       "dtype: int64"
      ]
     },
     "execution_count": 64,
     "metadata": {},
     "output_type": "execute_result"
    }
   ],
   "source": [
    "data.groupby(['sentiment']).size()"
   ]
  },
  {
   "cell_type": "code",
   "execution_count": 65,
   "id": "52b11be5",
   "metadata": {},
   "outputs": [],
   "source": [
    "data['number_of_letters'] = data['text'].apply(lambda x: len(x.replace(\" \", \"\")))\n"
   ]
  },
  {
   "cell_type": "code",
   "execution_count": 66,
   "id": "6ac5b91b",
   "metadata": {},
   "outputs": [
    {
     "data": {
      "image/png": "[encoded data removed]",
      "text/plain": [
       "<Figure size 640x480 with 1 Axes>"
      ]
     },
     "metadata": {},
     "output_type": "display_data"
    }
   ],
   "source": [
    "# Create a histogram of letter counts\n",
    "sns.histplot(data['number_of_letters'])\n",
    "plt.xlabel('Number of Letters')\n",
    "plt.ylabel('Frequency')\n",
    "plt.title('Distribution of Letter Counts')\n",
    "plt.show()"
   ]
  },
  {
   "cell_type": "markdown",
   "id": "d3b1a172",
   "metadata": {},
   "source": [
    "### shortest and longest twitt"
   ]
  },
  {
   "cell_type": "code",
   "execution_count": 11,
   "id": "b9521915",
   "metadata": {},
   "outputs": [
    {
     "data": {
      "text/plain": [
       "(text                 Ugh   \n",
       " sentiment                 0\n",
       " number_of_letters         3\n",
       " Name: 310554, dtype: object,\n",
       " text                 @catfish_ohm à¹à¸à¹à¸²à¹à¸«à¹à¸?à¸²à¸£à¹...\n",
       " sentiment                                                            4\n",
       " number_of_letters                                                  371\n",
       " Name: 1295281, dtype: object)"
      ]
     },
     "execution_count": 11,
     "metadata": {},
     "output_type": "execute_result"
    }
   ],
   "source": [
    "data.iloc[data['number_of_letters'].idxmin()], data.iloc[data['number_of_letters'].idxmax()]"
   ]
  },
  {
   "cell_type": "code",
   "execution_count": 12,
   "id": "bc8651d5",
   "metadata": {},
   "outputs": [
    {
     "data": {
      "text/html": [
       "<div>\n",
       "<style scoped>\n",
       "    .dataframe tbody tr th:only-of-type {\n",
       "        vertical-align: middle;\n",
       "    }\n",
       "\n",
       "    .dataframe tbody tr th {\n",
       "        vertical-align: top;\n",
       "    }\n",
       "\n",
       "    .dataframe thead th {\n",
       "        text-align: right;\n",
       "    }\n",
       "</style>\n",
       "<table border=\"1\" class=\"dataframe\">\n",
       "  <thead>\n",
       "    <tr style=\"text-align: right;\">\n",
       "      <th></th>\n",
       "      <th>text</th>\n",
       "      <th>sentiment</th>\n",
       "      <th>number_of_letters</th>\n",
       "    </tr>\n",
       "  </thead>\n",
       "  <tbody>\n",
       "    <tr>\n",
       "      <th>0</th>\n",
       "      <td>@switchfoot http://twitpic.com/2y1zl - Awww, t...</td>\n",
       "      <td>0</td>\n",
       "      <td>96</td>\n",
       "    </tr>\n",
       "    <tr>\n",
       "      <th>1</th>\n",
       "      <td>is upset that he can't update his Facebook by ...</td>\n",
       "      <td>0</td>\n",
       "      <td>90</td>\n",
       "    </tr>\n",
       "    <tr>\n",
       "      <th>2</th>\n",
       "      <td>@Kenichan I dived many times for the ball. Man...</td>\n",
       "      <td>0</td>\n",
       "      <td>71</td>\n",
       "    </tr>\n",
       "    <tr>\n",
       "      <th>3</th>\n",
       "      <td>my whole body feels itchy and like its on fire</td>\n",
       "      <td>0</td>\n",
       "      <td>37</td>\n",
       "    </tr>\n",
       "    <tr>\n",
       "      <th>4</th>\n",
       "      <td>@nationwideclass no, it's not behaving at all....</td>\n",
       "      <td>0</td>\n",
       "      <td>90</td>\n",
       "    </tr>\n",
       "    <tr>\n",
       "      <th>...</th>\n",
       "      <td>...</td>\n",
       "      <td>...</td>\n",
       "      <td>...</td>\n",
       "    </tr>\n",
       "    <tr>\n",
       "      <th>1599995</th>\n",
       "      <td>Just woke up. Having no school is the best fee...</td>\n",
       "      <td>4</td>\n",
       "      <td>45</td>\n",
       "    </tr>\n",
       "    <tr>\n",
       "      <th>1599996</th>\n",
       "      <td>TheWDB.com - Very cool to hear old Walt interv...</td>\n",
       "      <td>4</td>\n",
       "      <td>67</td>\n",
       "    </tr>\n",
       "    <tr>\n",
       "      <th>1599997</th>\n",
       "      <td>Are you ready for your MoJo Makeover? Ask me f...</td>\n",
       "      <td>4</td>\n",
       "      <td>46</td>\n",
       "    </tr>\n",
       "    <tr>\n",
       "      <th>1599998</th>\n",
       "      <td>Happy 38th Birthday to my boo of alll time!!! ...</td>\n",
       "      <td>4</td>\n",
       "      <td>53</td>\n",
       "    </tr>\n",
       "    <tr>\n",
       "      <th>1599999</th>\n",
       "      <td>happy #charitytuesday @theNSPCC @SparksCharity...</td>\n",
       "      <td>4</td>\n",
       "      <td>57</td>\n",
       "    </tr>\n",
       "  </tbody>\n",
       "</table>\n",
       "<p>1600000 rows × 3 columns</p>\n",
       "</div>"
      ],
      "text/plain": [
       "                                                      text  sentiment  \\\n",
       "0        @switchfoot http://twitpic.com/2y1zl - Awww, t...          0   \n",
       "1        is upset that he can't update his Facebook by ...          0   \n",
       "2        @Kenichan I dived many times for the ball. Man...          0   \n",
       "3          my whole body feels itchy and like its on fire           0   \n",
       "4        @nationwideclass no, it's not behaving at all....          0   \n",
       "...                                                    ...        ...   \n",
       "1599995  Just woke up. Having no school is the best fee...          4   \n",
       "1599996  TheWDB.com - Very cool to hear old Walt interv...          4   \n",
       "1599997  Are you ready for your MoJo Makeover? Ask me f...          4   \n",
       "1599998  Happy 38th Birthday to my boo of alll time!!! ...          4   \n",
       "1599999  happy #charitytuesday @theNSPCC @SparksCharity...          4   \n",
       "\n",
       "         number_of_letters  \n",
       "0                       96  \n",
       "1                       90  \n",
       "2                       71  \n",
       "3                       37  \n",
       "4                       90  \n",
       "...                    ...  \n",
       "1599995                 45  \n",
       "1599996                 67  \n",
       "1599997                 46  \n",
       "1599998                 53  \n",
       "1599999                 57  \n",
       "\n",
       "[1600000 rows x 3 columns]"
      ]
     },
     "execution_count": 12,
     "metadata": {},
     "output_type": "execute_result"
    }
   ],
   "source": [
    "data"
   ]
  },
  {
   "cell_type": "code",
   "execution_count": 13,
   "id": "ce37f878",
   "metadata": {},
   "outputs": [
    {
     "data": {
      "text/plain": [
       "text                 False\n",
       "sentiment            False\n",
       "number_of_letters    False\n",
       "dtype: bool"
      ]
     },
     "execution_count": 13,
     "metadata": {},
     "output_type": "execute_result"
    }
   ],
   "source": [
    "data.isnull().any()"
   ]
  },
  {
   "cell_type": "code",
   "execution_count": 14,
   "id": "2576c635",
   "metadata": {},
   "outputs": [
    {
     "data": {
      "text/plain": [
       "0          @switchfoot http://twitpic.com/2y1zl - Awww, t...\n",
       "1          is upset that he can't update his Facebook by ...\n",
       "2          @Kenichan I dived many times for the ball. Man...\n",
       "3            my whole body feels itchy and like its on fire \n",
       "4          @nationwideclass no, it's not behaving at all....\n",
       "                                 ...                        \n",
       "1599995    Just woke up. Having no school is the best fee...\n",
       "1599996    TheWDB.com - Very cool to hear old Walt interv...\n",
       "1599997    Are you ready for your MoJo Makeover? Ask me f...\n",
       "1599998    Happy 38th Birthday to my boo of alll time!!! ...\n",
       "1599999    happy #charitytuesday @theNSPCC @SparksCharity...\n",
       "Name: text, Length: 1600000, dtype: object"
      ]
     },
     "execution_count": 14,
     "metadata": {},
     "output_type": "execute_result"
    }
   ],
   "source": [
    "data.text"
   ]
  },
  {
   "cell_type": "code",
   "execution_count": 59,
   "id": "560eb8e8",
   "metadata": {},
   "outputs": [
    {
     "data": {
      "image/png": "[encoded data removed]",
      "text/plain": [
       "<Figure size 1000x500 with 1 Axes>"
      ]
     },
     "metadata": {},
     "output_type": "display_data"
    }
   ],
   "source": [
    "text = ' '.join(data['text'])\n",
    "\n",
    "# Tworzenie chmury słów \n",
    "wordcloud = WordCloud(width=800, height=400, background_color='white').generate(text)\n",
    "\n",
    "# Wyświetlenie chmury słów\n",
    "plt.figure(figsize=(10, 5))\n",
    "plt.imshow(wordcloud, interpolation='bilinear')\n",
    "plt.axis('off')\n",
    "plt.show()"
   ]
  },
  {
   "cell_type": "code",
   "execution_count": 40,
   "id": "c073fb85",
   "metadata": {},
   "outputs": [
    {
     "name": "stdout",
     "output_type": "stream",
     "text": [
      "@switchfoot http://twitpic.com/2y1zl - Awww, that's a bummer.  You shoulda got David Carr of Third Day to do it. ;D is upset that he can't update his Facebook by texting it... and might cry as a result  School today also. Blah! @Kenichan I dived many times for the ball. Managed to save 50%  The rest go out of bounds my whole body feels itchy and like its on fire  @nationwideclass no, it's not behaving at all. i'm mad. why am i here? because I can't see you all over there.  @Kwesidei not the whole crew  Need a hug  @LOLTrish hey  long time no see! Yes.. Rains a bit ,only a bit  LOL , I'm fine thanks , how's you ? @Tatiana_K nope they didn't have it  @twittera que me muera ?  spring break in plain city... it's snowing  I just re-pierced my ears  @caregiving I couldn't bear to watch it.  And I thought the UA loss was embarrassing . . . . . @octolinz16 It it counts, idk why I did either. you never talk to me anymore  @smarrison i would've been the first, but i didn't have a gun.    not rea\n"
     ]
    }
   ],
   "source": [
    "print(text[0:1000])"
   ]
  },
  {
   "cell_type": "code",
   "execution_count": 16,
   "id": "244aa971",
   "metadata": {},
   "outputs": [
    {
     "data": {
      "text/html": [
       "<div>\n",
       "<style scoped>\n",
       "    .dataframe tbody tr th:only-of-type {\n",
       "        vertical-align: middle;\n",
       "    }\n",
       "\n",
       "    .dataframe tbody tr th {\n",
       "        vertical-align: top;\n",
       "    }\n",
       "\n",
       "    .dataframe thead th {\n",
       "        text-align: right;\n",
       "    }\n",
       "</style>\n",
       "<table border=\"1\" class=\"dataframe\">\n",
       "  <thead>\n",
       "    <tr style=\"text-align: right;\">\n",
       "      <th></th>\n",
       "      <th>text</th>\n",
       "      <th>sentiment</th>\n",
       "      <th>number_of_letters</th>\n",
       "    </tr>\n",
       "  </thead>\n",
       "  <tbody>\n",
       "    <tr>\n",
       "      <th>103</th>\n",
       "      <td>watching &amp;quot;House&amp;quot;</td>\n",
       "      <td>0</td>\n",
       "      <td>25</td>\n",
       "    </tr>\n",
       "    <tr>\n",
       "      <th>119</th>\n",
       "      <td>@eRRe_sC aaw i miss ya all too.. im leaving to...</td>\n",
       "      <td>0</td>\n",
       "      <td>104</td>\n",
       "    </tr>\n",
       "    <tr>\n",
       "      <th>124</th>\n",
       "      <td>Late night snack, glass of OJ b/c I'm &amp;quot;do...</td>\n",
       "      <td>0</td>\n",
       "      <td>102</td>\n",
       "    </tr>\n",
       "    <tr>\n",
       "      <th>183</th>\n",
       "      <td>Downloading NIN's new album &amp;quot;the slip&amp;quo...</td>\n",
       "      <td>0</td>\n",
       "      <td>98</td>\n",
       "    </tr>\n",
       "    <tr>\n",
       "      <th>206</th>\n",
       "      <td>My mind and body are severely protesting this ...</td>\n",
       "      <td>0</td>\n",
       "      <td>84</td>\n",
       "    </tr>\n",
       "    <tr>\n",
       "      <th>...</th>\n",
       "      <td>...</td>\n",
       "      <td>...</td>\n",
       "      <td>...</td>\n",
       "    </tr>\n",
       "    <tr>\n",
       "      <th>1599835</th>\n",
       "      <td>@alexandervelky that's polite version - i only...</td>\n",
       "      <td>4</td>\n",
       "      <td>120</td>\n",
       "    </tr>\n",
       "    <tr>\n",
       "      <th>1599840</th>\n",
       "      <td>What a pretty day  &amp;quot;Just smile&amp;quot;</td>\n",
       "      <td>4</td>\n",
       "      <td>35</td>\n",
       "    </tr>\n",
       "    <tr>\n",
       "      <th>1599946</th>\n",
       "      <td>@chriscuzzy someone wanted a &amp;quot;Cuzzy&amp;quot;...</td>\n",
       "      <td>4</td>\n",
       "      <td>53</td>\n",
       "    </tr>\n",
       "    <tr>\n",
       "      <th>1599977</th>\n",
       "      <td>@MayorDorisWolfe Thats my girl - dishing out t...</td>\n",
       "      <td>4</td>\n",
       "      <td>59</td>\n",
       "    </tr>\n",
       "    <tr>\n",
       "      <th>1599985</th>\n",
       "      <td>if ur the lead singer in a band, beware fallin...</td>\n",
       "      <td>4</td>\n",
       "      <td>120</td>\n",
       "    </tr>\n",
       "  </tbody>\n",
       "</table>\n",
       "<p>35252 rows × 3 columns</p>\n",
       "</div>"
      ],
      "text/plain": [
       "                                                      text  sentiment  \\\n",
       "103                            watching &quot;House&quot;           0   \n",
       "119      @eRRe_sC aaw i miss ya all too.. im leaving to...          0   \n",
       "124      Late night snack, glass of OJ b/c I'm &quot;do...          0   \n",
       "183      Downloading NIN's new album &quot;the slip&quo...          0   \n",
       "206      My mind and body are severely protesting this ...          0   \n",
       "...                                                    ...        ...   \n",
       "1599835  @alexandervelky that's polite version - i only...          4   \n",
       "1599840          What a pretty day  &quot;Just smile&quot;          4   \n",
       "1599946  @chriscuzzy someone wanted a &quot;Cuzzy&quot;...          4   \n",
       "1599977  @MayorDorisWolfe Thats my girl - dishing out t...          4   \n",
       "1599985  if ur the lead singer in a band, beware fallin...          4   \n",
       "\n",
       "         number_of_letters  \n",
       "103                     25  \n",
       "119                    104  \n",
       "124                    102  \n",
       "183                     98  \n",
       "206                     84  \n",
       "...                    ...  \n",
       "1599835                120  \n",
       "1599840                 35  \n",
       "1599946                 53  \n",
       "1599977                 59  \n",
       "1599985                120  \n",
       "\n",
       "[35252 rows x 3 columns]"
      ]
     },
     "execution_count": 16,
     "metadata": {},
     "output_type": "execute_result"
    }
   ],
   "source": [
    "result_df = data[data['text'].str.contains('quot')]\n",
    "result_df"
   ]
  },
  {
   "cell_type": "markdown",
   "id": "b95da1b1",
   "metadata": {},
   "source": [
    "# cleaning the data"
   ]
  },
  {
   "cell_type": "markdown",
   "id": "47254e2b",
   "metadata": {},
   "source": [
    "Cleaning the tweets\n",
    "- Lower Casing: Each text is converted to lowercase.\n",
    "- Removing URLs: Links starting with 'http' or 'https' or 'www' are replaced by space.\n",
    "- Removing Usernames: Replace @Usernames with word space.\n",
    "- Replacing Emojies : replace all emojis from the emoji shortcodes [eg: 👍 to 'thumbs up']\n",
    "- Replacing the chat words and numbers : replace all chat abrevations from the normal words [eg: lol to 'laugh out loud' and 1 to one]\n",
    "- Replacing Contractions: Replacing contractions with their meanings. [eg: \"can't\" to 'can not']\n",
    "- Removing Puntuations: Replacing characters other than Digits, Alphabets and pre-defined Symbols with a space.\n",
    "- Lemmatization and replacing Consecutive letters: lemmatizing the words and replacing 3 or more consecutive letters are replaced by 1 letters. [eg: 'damnnnnnn' to 'damn']\n",
    "- Replacing mistake of spellings : correcting the spelling mistakes. [eg. caar to car]\n",
    "- Removing stopwords : words which are not meaningful to the sentiment of the sentence."
   ]
  },
  {
   "cell_type": "markdown",
   "id": "02b4bcb6",
   "metadata": {},
   "source": [
    "### chatwords to words xd"
   ]
  },
  {
   "cell_type": "code",
   "execution_count": 13,
   "id": "68d4d7a5",
   "metadata": {},
   "outputs": [
    {
     "data": {
      "text/html": [
       "<div>\n",
       "<style scoped>\n",
       "    .dataframe tbody tr th:only-of-type {\n",
       "        vertical-align: middle;\n",
       "    }\n",
       "\n",
       "    .dataframe tbody tr th {\n",
       "        vertical-align: top;\n",
       "    }\n",
       "\n",
       "    .dataframe thead th {\n",
       "        text-align: right;\n",
       "    }\n",
       "</style>\n",
       "<table border=\"1\" class=\"dataframe\">\n",
       "  <thead>\n",
       "    <tr style=\"text-align: right;\">\n",
       "      <th></th>\n",
       "      <th>acronym</th>\n",
       "      <th>expansion</th>\n",
       "    </tr>\n",
       "  </thead>\n",
       "  <tbody>\n",
       "    <tr>\n",
       "      <th>0</th>\n",
       "      <td>2day</td>\n",
       "      <td>today</td>\n",
       "    </tr>\n",
       "    <tr>\n",
       "      <th>1</th>\n",
       "      <td>2m2h</td>\n",
       "      <td>too much too handle</td>\n",
       "    </tr>\n",
       "    <tr>\n",
       "      <th>2</th>\n",
       "      <td>2moro</td>\n",
       "      <td>tomorrow</td>\n",
       "    </tr>\n",
       "    <tr>\n",
       "      <th>3</th>\n",
       "      <td>2nite</td>\n",
       "      <td>tonight</td>\n",
       "    </tr>\n",
       "    <tr>\n",
       "      <th>4</th>\n",
       "      <td>4eae</td>\n",
       "      <td>for ever and ever</td>\n",
       "    </tr>\n",
       "    <tr>\n",
       "      <th>...</th>\n",
       "      <td>...</td>\n",
       "      <td>...</td>\n",
       "    </tr>\n",
       "    <tr>\n",
       "      <th>3352</th>\n",
       "      <td>yw</td>\n",
       "      <td>you are welcome</td>\n",
       "    </tr>\n",
       "    <tr>\n",
       "      <th>3353</th>\n",
       "      <td>ywca</td>\n",
       "      <td>young womens christian association</td>\n",
       "    </tr>\n",
       "    <tr>\n",
       "      <th>3354</th>\n",
       "      <td>ywimc</td>\n",
       "      <td>your wish is my command</td>\n",
       "    </tr>\n",
       "    <tr>\n",
       "      <th>3355</th>\n",
       "      <td>ywsyls</td>\n",
       "      <td>you win some you lose some</td>\n",
       "    </tr>\n",
       "    <tr>\n",
       "      <th>3356</th>\n",
       "      <td>ywu</td>\n",
       "      <td>yo waz up</td>\n",
       "    </tr>\n",
       "  </tbody>\n",
       "</table>\n",
       "<p>3357 rows × 2 columns</p>\n",
       "</div>"
      ],
      "text/plain": [
       "     acronym                           expansion\n",
       "0       2day                               today\n",
       "1       2m2h                 too much too handle\n",
       "2      2moro                            tomorrow\n",
       "3      2nite                             tonight\n",
       "4       4eae                   for ever and ever\n",
       "...      ...                                 ...\n",
       "3352      yw                     you are welcome\n",
       "3353    ywca  young womens christian association\n",
       "3354   ywimc             your wish is my command\n",
       "3355  ywsyls          you win some you lose some\n",
       "3356     ywu                           yo waz up\n",
       "\n",
       "[3357 rows x 2 columns]"
      ]
     },
     "execution_count": 13,
     "metadata": {},
     "output_type": "execute_result"
    }
   ],
   "source": [
    "slang = pd.read_csv('slang.csv')\n",
    "slang = slang[['acronym', 'expansion']]\n",
    "slang"
   ]
  },
  {
   "cell_type": "code",
   "execution_count": 14,
   "id": "8592bc3d",
   "metadata": {},
   "outputs": [],
   "source": [
    "def replace_chat_words(word):\n",
    "    normal_word = slang[slang['acronym'].isin([word])]['expansion'].values\n",
    "    if len(normal_word):\n",
    "        if word == \"lol\":\n",
    "            return normal_word[1]\n",
    "        else:\n",
    "            return normal_word[0]\n",
    "    elif word.isnumeric():\n",
    "        return num2words(word)\n",
    "    else:\n",
    "        return word"
   ]
  },
  {
   "cell_type": "markdown",
   "id": "dc41e7e7",
   "metadata": {},
   "source": [
    "# kindof pipeline"
   ]
  },
  {
   "cell_type": "code",
   "execution_count": 15,
   "id": "e8d8af23",
   "metadata": {},
   "outputs": [],
   "source": [
    "# stop_words = set(stopwords.words('english'))\n",
    "# spell = Speller(lang='en')\n",
    "# nlp = spacy.load('en_core_web_lg')\n",
    "printable = set(string.printable)\n",
    "emoji = re.compile(\"[\"\n",
    "        u\"\\U0001F600-\\U0001F64F\"  # emoticons\n",
    "        u\"\\U0001F300-\\U0001F5FF\"  # symbols & pictographs\n",
    "        u\"\\U0001F680-\\U0001F6FF\"  # transport & map symbols\n",
    "        u\"\\U0001F1E0-\\U0001F1FF\"  # flags (iOS)\n",
    "                           \"]+\", re.UNICODE)"
   ]
  },
  {
   "cell_type": "code",
   "execution_count": 20,
   "id": "fb2a502a",
   "metadata": {},
   "outputs": [],
   "source": [
    "def processing_data(data):\n",
    "    \n",
    "    # deleting urls\n",
    "    urlPattern = r\"((http://)[^ ]*|(https://)[^ ]*|(www\\.)[^ ]*)\"\n",
    "    data = data.apply(lambda x: re.sub(urlPattern, '', x, flags=re.IGNORECASE))\n",
    "    \n",
    "    # deleting hastags\n",
    "    hashPattern = r'#\\S+'\n",
    "    data = data.apply(lambda x: re.sub(hashPattern, '', x, flags=re.IGNORECASE))\n",
    "\n",
    "    # deleting webiste .com\n",
    "    websitePattern = r'\\b\\w+\\.com\\b'\n",
    "    data = data.apply(lambda x: re.sub(websitePattern, '', x, flags=re.IGNORECASE))\n",
    "    \n",
    "#     combinedPattern = r\"((http://|https://|www\\.)[^ ]*|\\b#\\w+\\b|\\b\\w+\\.com\\b)\"\n",
    "#     data = data.apply(lambda x: re.sub(combinedPattern, '', x, flags=re.IGNORECASE))\n",
    "\n",
    "\n",
    "\n",
    "    # contractions\n",
    "    data = data.apply(lambda x: contractions.fix(x))\n",
    "    \n",
    "    # replacing slang\n",
    "    data = data.apply(lambda x: \" \".join([replace_chat_words(word) \n",
    "                                             if nltk.pos_tag([word])[0][1] in ['NN', \"CD\"] else word for word in x.split()]))\n",
    "    \n",
    "#     # replacing more than 3 into 1 and lemmatiz #FIXME doesnt work\n",
    "#     data = data.apply(lambda x: \" \".join([re.sub(sequencePattern, seqReplacePattern, str(token)) \n",
    "#               if token.pos_ in [\"PROPN\", 'NOUN'] else token.lemma_ for token in nlp(x)]))\n",
    "    \n",
    "#     # deleting @user\n",
    "#     userPattern = r'@[^\\s]+'\n",
    "#     data = data.apply(lambda x: re.sub(userPattern, '', x, flags=re.IGNORECASE))\n",
    "    \n",
    "#     # deleting stop words\n",
    "#     data = data.apply(lambda text: ' '.join([word for word in text.split() if word.lower() not in stop_words]))\n",
    "    \n",
    "#     # Remove emoiji\n",
    "    data = data.apply(lambda x: re.sub(emoji, '', x))\n",
    "    \n",
    "#     # auto correct - it DOES NOT WORK well\n",
    "#     data = data.apply(lambda x: spell(x))\n",
    "\n",
    "    # delete weird characters\n",
    "    data = data.apply(lambda x: ''.join(c for c in x if unicodedata.category(c)[0] != 'C'))\n",
    "    data = data.apply(lambda x: x.encode('ascii', errors='ignore').decode())\n",
    "\n",
    "#     # Remove whitespces\n",
    "#     data = data.apply(lambda x: x.strip())\n",
    "    try:\n",
    "        data = data.apply(lambda x: cleantext.clean(x,\n",
    "            extra_spaces=True ,  # Remove extra white spaces \n",
    "            stemming=False , # Stem the words\n",
    "            stopwords=True ,# Remove stop words\n",
    "            lowercase=True ,# Convert to lowercase\n",
    "            numbers=True ,# Remove all digits \n",
    "            punct=True ,# Remove all punctuations\n",
    "            reg=r'@[^\\s]+', # Remove parts of text based on regex\n",
    "            reg_replace= '', # String to replace the regex used in reg\n",
    "            stp_lang='english'))  # Language for stop words\n",
    "    except:\n",
    "        print('wyczyszczone')\n",
    "\n",
    "\n",
    "    return data\n",
    "\n",
    "    \n",
    "\n",
    "    \n",
    "    "
   ]
  },
  {
   "cell_type": "markdown",
   "id": "0842e336",
   "metadata": {},
   "source": [
    "### dividing into batches"
   ]
  },
  {
   "cell_type": "code",
   "execution_count": 23,
   "id": "9f9638c0",
   "metadata": {},
   "outputs": [
    {
     "name": "stderr",
     "output_type": "stream",
     "text": [
      "Processing chunks:   3%|▎         | 47/1600 [02:08<1:09:41,  2.69s/it]"
     ]
    },
    {
     "name": "stdout",
     "output_type": "stream",
     "text": [
      "wyczyszczone\n"
     ]
    },
    {
     "name": "stderr",
     "output_type": "stream",
     "text": [
      "\r",
      "Processing chunks:   3%|▎         | 48/1600 [02:10<1:08:30,  2.65s/it]"
     ]
    },
    {
     "name": "stdout",
     "output_type": "stream",
     "text": [
      "wyczyszczone\n"
     ]
    },
    {
     "name": "stderr",
     "output_type": "stream",
     "text": [
      "Processing chunks:   5%|▌         | 81/1600 [03:44<1:19:46,  3.15s/it]"
     ]
    },
    {
     "name": "stdout",
     "output_type": "stream",
     "text": [
      "wyczyszczone\n"
     ]
    },
    {
     "name": "stderr",
     "output_type": "stream",
     "text": [
      "Processing chunks:   7%|▋         | 116/1600 [05:42<1:30:04,  3.64s/it]"
     ]
    },
    {
     "name": "stdout",
     "output_type": "stream",
     "text": [
      "wyczyszczone\n"
     ]
    },
    {
     "name": "stderr",
     "output_type": "stream",
     "text": [
      "Processing chunks:   8%|▊         | 136/1600 [06:43<1:15:17,  3.09s/it]"
     ]
    },
    {
     "name": "stdout",
     "output_type": "stream",
     "text": [
      "wyczyszczone\n"
     ]
    },
    {
     "name": "stderr",
     "output_type": "stream",
     "text": [
      "Processing chunks:   9%|▉         | 147/1600 [07:19<1:24:41,  3.50s/it]"
     ]
    },
    {
     "name": "stdout",
     "output_type": "stream",
     "text": [
      "wyczyszczone\n"
     ]
    },
    {
     "name": "stderr",
     "output_type": "stream",
     "text": [
      "\r",
      "Processing chunks:   9%|▉         | 148/1600 [07:22<1:22:23,  3.40s/it]"
     ]
    },
    {
     "name": "stdout",
     "output_type": "stream",
     "text": [
      "wyczyszczone\n"
     ]
    },
    {
     "name": "stderr",
     "output_type": "stream",
     "text": [
      "Processing chunks:  13%|█▎        | 204/1600 [10:25<1:09:18,  2.98s/it]"
     ]
    },
    {
     "name": "stdout",
     "output_type": "stream",
     "text": [
      "wyczyszczone\n"
     ]
    },
    {
     "name": "stderr",
     "output_type": "stream",
     "text": [
      "Processing chunks:  15%|█▍        | 238/1600 [12:11<1:06:25,  2.93s/it]"
     ]
    },
    {
     "name": "stdout",
     "output_type": "stream",
     "text": [
      "wyczyszczone\n"
     ]
    },
    {
     "name": "stderr",
     "output_type": "stream",
     "text": [
      "Processing chunks:  19%|█▊        | 299/1600 [15:53<1:22:57,  3.83s/it]"
     ]
    },
    {
     "name": "stdout",
     "output_type": "stream",
     "text": [
      "wyczyszczone\n"
     ]
    },
    {
     "name": "stderr",
     "output_type": "stream",
     "text": [
      "Processing chunks:  20%|██        | 320/1600 [17:17<1:38:52,  4.63s/it]"
     ]
    },
    {
     "name": "stdout",
     "output_type": "stream",
     "text": [
      "wyczyszczone\n"
     ]
    },
    {
     "name": "stderr",
     "output_type": "stream",
     "text": [
      "Processing chunks:  21%|██        | 331/1600 [18:02<1:24:24,  3.99s/it]"
     ]
    },
    {
     "name": "stdout",
     "output_type": "stream",
     "text": [
      "wyczyszczone\n"
     ]
    },
    {
     "name": "stderr",
     "output_type": "stream",
     "text": [
      "Processing chunks:  23%|██▎       | 362/1600 [20:03<1:16:29,  3.71s/it]"
     ]
    },
    {
     "name": "stdout",
     "output_type": "stream",
     "text": [
      "wyczyszczone\n"
     ]
    },
    {
     "name": "stderr",
     "output_type": "stream",
     "text": [
      "Processing chunks:  31%|███       | 489/1600 [27:59<1:08:15,  3.69s/it]"
     ]
    },
    {
     "name": "stdout",
     "output_type": "stream",
     "text": [
      "wyczyszczone\n"
     ]
    },
    {
     "name": "stderr",
     "output_type": "stream",
     "text": [
      "Processing chunks:  32%|███▏      | 505/1600 [29:03<1:09:48,  3.83s/it]"
     ]
    },
    {
     "name": "stdout",
     "output_type": "stream",
     "text": [
      "wyczyszczone\n"
     ]
    },
    {
     "name": "stderr",
     "output_type": "stream",
     "text": [
      "Processing chunks:  34%|███▍      | 541/1600 [31:22<1:14:31,  4.22s/it]"
     ]
    },
    {
     "name": "stdout",
     "output_type": "stream",
     "text": [
      "wyczyszczone\n"
     ]
    },
    {
     "name": "stderr",
     "output_type": "stream",
     "text": [
      "Processing chunks:  36%|███▌      | 572/1600 [33:23<1:02:58,  3.68s/it]"
     ]
    },
    {
     "name": "stdout",
     "output_type": "stream",
     "text": [
      "wyczyszczone\n"
     ]
    },
    {
     "name": "stderr",
     "output_type": "stream",
     "text": [
      "Processing chunks:  38%|███▊      | 606/1600 [35:41<1:03:39,  3.84s/it]"
     ]
    },
    {
     "name": "stdout",
     "output_type": "stream",
     "text": [
      "wyczyszczone\n"
     ]
    },
    {
     "name": "stderr",
     "output_type": "stream",
     "text": [
      "Processing chunks:  39%|███▉      | 625/1600 [36:56<1:01:27,  3.78s/it]"
     ]
    },
    {
     "name": "stdout",
     "output_type": "stream",
     "text": [
      "wyczyszczone\n"
     ]
    },
    {
     "name": "stderr",
     "output_type": "stream",
     "text": [
      "Processing chunks:  43%|████▎     | 681/1600 [40:54<1:08:31,  4.47s/it]"
     ]
    },
    {
     "name": "stdout",
     "output_type": "stream",
     "text": [
      "wyczyszczone\n"
     ]
    },
    {
     "name": "stderr",
     "output_type": "stream",
     "text": [
      "Processing chunks:  43%|████▎     | 695/1600 [41:49<58:09,  3.86s/it]  "
     ]
    },
    {
     "name": "stdout",
     "output_type": "stream",
     "text": [
      "wyczyszczone\n"
     ]
    },
    {
     "name": "stderr",
     "output_type": "stream",
     "text": [
      "Processing chunks:  46%|████▌     | 732/1600 [44:10<50:35,  3.50s/it]  "
     ]
    },
    {
     "name": "stdout",
     "output_type": "stream",
     "text": [
      "wyczyszczone\n"
     ]
    },
    {
     "name": "stderr",
     "output_type": "stream",
     "text": [
      "Processing chunks:  48%|████▊     | 767/1600 [46:25<44:10,  3.18s/it]  "
     ]
    },
    {
     "name": "stdout",
     "output_type": "stream",
     "text": [
      "wyczyszczone\n"
     ]
    },
    {
     "name": "stderr",
     "output_type": "stream",
     "text": [
      "Processing chunks:  50%|█████     | 803/1600 [48:16<38:40,  2.91s/it]"
     ]
    },
    {
     "name": "stdout",
     "output_type": "stream",
     "text": [
      "wyczyszczone\n"
     ]
    },
    {
     "name": "stderr",
     "output_type": "stream",
     "text": [
      "Processing chunks:  50%|█████     | 805/1600 [48:21<38:10,  2.88s/it]"
     ]
    },
    {
     "name": "stdout",
     "output_type": "stream",
     "text": [
      "wyczyszczone\n"
     ]
    },
    {
     "name": "stderr",
     "output_type": "stream",
     "text": [
      "Processing chunks:  51%|█████     | 814/1600 [48:47<38:19,  2.93s/it]"
     ]
    },
    {
     "name": "stdout",
     "output_type": "stream",
     "text": [
      "wyczyszczone\n"
     ]
    },
    {
     "name": "stderr",
     "output_type": "stream",
     "text": [
      "Processing chunks:  52%|█████▏    | 831/1600 [49:36<37:09,  2.90s/it]"
     ]
    },
    {
     "name": "stdout",
     "output_type": "stream",
     "text": [
      "wyczyszczone\n"
     ]
    },
    {
     "name": "stderr",
     "output_type": "stream",
     "text": [
      "Processing chunks:  54%|█████▍    | 863/1600 [51:09<35:52,  2.92s/it]"
     ]
    },
    {
     "name": "stdout",
     "output_type": "stream",
     "text": [
      "wyczyszczone\n"
     ]
    },
    {
     "name": "stderr",
     "output_type": "stream",
     "text": [
      "Processing chunks:  54%|█████▍    | 865/1600 [51:15<36:00,  2.94s/it]"
     ]
    },
    {
     "name": "stdout",
     "output_type": "stream",
     "text": [
      "wyczyszczone\n"
     ]
    },
    {
     "name": "stderr",
     "output_type": "stream",
     "text": [
      "Processing chunks:  55%|█████▍    | 874/1600 [51:42<35:22,  2.92s/it]"
     ]
    },
    {
     "name": "stdout",
     "output_type": "stream",
     "text": [
      "wyczyszczone\n"
     ]
    },
    {
     "name": "stderr",
     "output_type": "stream",
     "text": [
      "Processing chunks:  55%|█████▍    | 878/1600 [51:54<35:35,  2.96s/it]"
     ]
    },
    {
     "name": "stdout",
     "output_type": "stream",
     "text": [
      "wyczyszczone\n"
     ]
    },
    {
     "name": "stderr",
     "output_type": "stream",
     "text": [
      "\r",
      "Processing chunks:  55%|█████▍    | 879/1600 [51:57<35:22,  2.94s/it]"
     ]
    },
    {
     "name": "stdout",
     "output_type": "stream",
     "text": [
      "wyczyszczone\n"
     ]
    },
    {
     "name": "stderr",
     "output_type": "stream",
     "text": [
      "Processing chunks:  55%|█████▌    | 887/1600 [52:20<34:10,  2.88s/it]"
     ]
    },
    {
     "name": "stdout",
     "output_type": "stream",
     "text": [
      "wyczyszczone\n"
     ]
    },
    {
     "name": "stderr",
     "output_type": "stream",
     "text": [
      "Processing chunks:  56%|█████▌    | 891/1600 [52:31<33:39,  2.85s/it]"
     ]
    },
    {
     "name": "stdout",
     "output_type": "stream",
     "text": [
      "wyczyszczone\n"
     ]
    },
    {
     "name": "stderr",
     "output_type": "stream",
     "text": [
      "Processing chunks:  57%|█████▋    | 906/1600 [53:14<32:22,  2.80s/it]"
     ]
    },
    {
     "name": "stdout",
     "output_type": "stream",
     "text": [
      "wyczyszczone\n"
     ]
    },
    {
     "name": "stderr",
     "output_type": "stream",
     "text": [
      "Processing chunks:  57%|█████▋    | 911/1600 [53:28<31:59,  2.79s/it]"
     ]
    },
    {
     "name": "stdout",
     "output_type": "stream",
     "text": [
      "wyczyszczone\n"
     ]
    },
    {
     "name": "stderr",
     "output_type": "stream",
     "text": [
      "\r",
      "Processing chunks:  57%|█████▋    | 912/1600 [53:31<31:33,  2.75s/it]"
     ]
    },
    {
     "name": "stdout",
     "output_type": "stream",
     "text": [
      "wyczyszczone\n"
     ]
    },
    {
     "name": "stderr",
     "output_type": "stream",
     "text": [
      "Processing chunks:  59%|█████▉    | 948/1600 [55:12<29:50,  2.75s/it]"
     ]
    },
    {
     "name": "stdout",
     "output_type": "stream",
     "text": [
      "wyczyszczone\n"
     ]
    },
    {
     "name": "stderr",
     "output_type": "stream",
     "text": [
      "Processing chunks:  60%|█████▉    | 954/1600 [55:30<30:39,  2.85s/it]"
     ]
    },
    {
     "name": "stdout",
     "output_type": "stream",
     "text": [
      "wyczyszczone\n"
     ]
    },
    {
     "name": "stderr",
     "output_type": "stream",
     "text": [
      "Processing chunks:  60%|█████▉    | 957/1600 [55:38<30:10,  2.82s/it]"
     ]
    },
    {
     "name": "stdout",
     "output_type": "stream",
     "text": [
      "wyczyszczone\n"
     ]
    },
    {
     "name": "stderr",
     "output_type": "stream",
     "text": [
      "Processing chunks:  60%|██████    | 960/1600 [55:46<29:49,  2.80s/it]"
     ]
    },
    {
     "name": "stdout",
     "output_type": "stream",
     "text": [
      "wyczyszczone\n"
     ]
    },
    {
     "name": "stderr",
     "output_type": "stream",
     "text": [
      "\r",
      "Processing chunks:  60%|██████    | 961/1600 [55:49<29:39,  2.79s/it]"
     ]
    },
    {
     "name": "stdout",
     "output_type": "stream",
     "text": [
      "wyczyszczone\n"
     ]
    },
    {
     "name": "stderr",
     "output_type": "stream",
     "text": [
      "Processing chunks:  61%|██████    | 969/1600 [56:12<29:18,  2.79s/it]"
     ]
    },
    {
     "name": "stdout",
     "output_type": "stream",
     "text": [
      "wyczyszczone\n"
     ]
    },
    {
     "name": "stderr",
     "output_type": "stream",
     "text": [
      "\r",
      "Processing chunks:  61%|██████    | 970/1600 [56:14<29:18,  2.79s/it]"
     ]
    },
    {
     "name": "stdout",
     "output_type": "stream",
     "text": [
      "wyczyszczone\n"
     ]
    },
    {
     "name": "stderr",
     "output_type": "stream",
     "text": [
      "\r",
      "Processing chunks:  61%|██████    | 971/1600 [56:17<28:51,  2.75s/it]"
     ]
    },
    {
     "name": "stdout",
     "output_type": "stream",
     "text": [
      "wyczyszczone\n"
     ]
    },
    {
     "name": "stderr",
     "output_type": "stream",
     "text": [
      "Processing chunks:  61%|██████▏   | 982/1600 [56:49<30:24,  2.95s/it]"
     ]
    },
    {
     "name": "stdout",
     "output_type": "stream",
     "text": [
      "wyczyszczone\n"
     ]
    },
    {
     "name": "stderr",
     "output_type": "stream",
     "text": [
      "\r",
      "Processing chunks:  61%|██████▏   | 983/1600 [56:52<30:01,  2.92s/it]"
     ]
    },
    {
     "name": "stdout",
     "output_type": "stream",
     "text": [
      "wyczyszczone\n"
     ]
    },
    {
     "name": "stderr",
     "output_type": "stream",
     "text": [
      "Processing chunks:  62%|██████▏   | 985/1600 [56:58<29:33,  2.88s/it]"
     ]
    },
    {
     "name": "stdout",
     "output_type": "stream",
     "text": [
      "wyczyszczone\n"
     ]
    },
    {
     "name": "stderr",
     "output_type": "stream",
     "text": [
      "Processing chunks:  63%|██████▎   | 1004/1600 [57:52<28:14,  2.84s/it]"
     ]
    },
    {
     "name": "stdout",
     "output_type": "stream",
     "text": [
      "wyczyszczone\n"
     ]
    },
    {
     "name": "stderr",
     "output_type": "stream",
     "text": [
      "\r",
      "Processing chunks:  63%|██████▎   | 1005/1600 [57:55<27:48,  2.80s/it]"
     ]
    },
    {
     "name": "stdout",
     "output_type": "stream",
     "text": [
      "wyczyszczone\n"
     ]
    },
    {
     "name": "stderr",
     "output_type": "stream",
     "text": [
      "Processing chunks:  63%|██████▎   | 1009/1600 [58:06<27:34,  2.80s/it]"
     ]
    },
    {
     "name": "stdout",
     "output_type": "stream",
     "text": [
      "wyczyszczone\n"
     ]
    },
    {
     "name": "stderr",
     "output_type": "stream",
     "text": [
      "\r",
      "Processing chunks:  63%|██████▎   | 1010/1600 [58:09<27:39,  2.81s/it]"
     ]
    },
    {
     "name": "stdout",
     "output_type": "stream",
     "text": [
      "wyczyszczone\n"
     ]
    },
    {
     "name": "stderr",
     "output_type": "stream",
     "text": [
      "\r",
      "Processing chunks:  63%|██████▎   | 1011/1600 [58:12<27:46,  2.83s/it]"
     ]
    },
    {
     "name": "stdout",
     "output_type": "stream",
     "text": [
      "wyczyszczone\n"
     ]
    },
    {
     "name": "stderr",
     "output_type": "stream",
     "text": [
      "\r",
      "Processing chunks:  63%|██████▎   | 1012/1600 [58:15<27:36,  2.82s/it]"
     ]
    },
    {
     "name": "stdout",
     "output_type": "stream",
     "text": [
      "wyczyszczone\n"
     ]
    },
    {
     "name": "stderr",
     "output_type": "stream",
     "text": [
      "Processing chunks:  63%|██████▎   | 1015/1600 [58:23<26:40,  2.74s/it]"
     ]
    },
    {
     "name": "stdout",
     "output_type": "stream",
     "text": [
      "wyczyszczone\n"
     ]
    },
    {
     "name": "stderr",
     "output_type": "stream",
     "text": [
      "Processing chunks:  66%|██████▌   | 1049/1600 [1:00:00<25:35,  2.79s/it]"
     ]
    },
    {
     "name": "stdout",
     "output_type": "stream",
     "text": [
      "wyczyszczone\n"
     ]
    },
    {
     "name": "stderr",
     "output_type": "stream",
     "text": [
      "Processing chunks:  66%|██████▌   | 1051/1600 [1:00:06<25:24,  2.78s/it]"
     ]
    },
    {
     "name": "stdout",
     "output_type": "stream",
     "text": [
      "wyczyszczone\n"
     ]
    },
    {
     "name": "stderr",
     "output_type": "stream",
     "text": [
      "Processing chunks:  66%|██████▌   | 1055/1600 [1:00:17<25:07,  2.77s/it]"
     ]
    },
    {
     "name": "stdout",
     "output_type": "stream",
     "text": [
      "wyczyszczone\n"
     ]
    },
    {
     "name": "stderr",
     "output_type": "stream",
     "text": [
      "Processing chunks:  68%|██████▊   | 1086/1600 [1:01:44<24:15,  2.83s/it]"
     ]
    },
    {
     "name": "stdout",
     "output_type": "stream",
     "text": [
      "wyczyszczone\n"
     ]
    },
    {
     "name": "stderr",
     "output_type": "stream",
     "text": [
      "Processing chunks:  68%|██████▊   | 1091/1600 [1:01:58<24:09,  2.85s/it]"
     ]
    },
    {
     "name": "stdout",
     "output_type": "stream",
     "text": [
      "wyczyszczone\n"
     ]
    },
    {
     "name": "stderr",
     "output_type": "stream",
     "text": [
      "Processing chunks:  69%|██████▉   | 1110/1600 [1:02:52<22:37,  2.77s/it]"
     ]
    },
    {
     "name": "stdout",
     "output_type": "stream",
     "text": [
      "wyczyszczone\n"
     ]
    },
    {
     "name": "stderr",
     "output_type": "stream",
     "text": [
      "\r",
      "Processing chunks:  69%|██████▉   | 1111/1600 [1:02:54<22:29,  2.76s/it]"
     ]
    },
    {
     "name": "stdout",
     "output_type": "stream",
     "text": [
      "wyczyszczone\n"
     ]
    },
    {
     "name": "stderr",
     "output_type": "stream",
     "text": [
      "Processing chunks:  70%|██████▉   | 1119/1600 [1:03:16<21:42,  2.71s/it]"
     ]
    },
    {
     "name": "stdout",
     "output_type": "stream",
     "text": [
      "wyczyszczone\n"
     ]
    },
    {
     "name": "stderr",
     "output_type": "stream",
     "text": [
      "Processing chunks:  72%|███████▏  | 1144/1600 [1:04:26<21:05,  2.78s/it]"
     ]
    },
    {
     "name": "stdout",
     "output_type": "stream",
     "text": [
      "wyczyszczone\n"
     ]
    },
    {
     "name": "stderr",
     "output_type": "stream",
     "text": [
      "Processing chunks:  73%|███████▎  | 1162/1600 [1:05:17<20:49,  2.85s/it]"
     ]
    },
    {
     "name": "stdout",
     "output_type": "stream",
     "text": [
      "wyczyszczone\n"
     ]
    },
    {
     "name": "stderr",
     "output_type": "stream",
     "text": [
      "Processing chunks:  73%|███████▎  | 1165/1600 [1:05:26<20:28,  2.82s/it]"
     ]
    },
    {
     "name": "stdout",
     "output_type": "stream",
     "text": [
      "wyczyszczone\n"
     ]
    },
    {
     "name": "stderr",
     "output_type": "stream",
     "text": [
      "Processing chunks:  73%|███████▎  | 1168/1600 [1:05:34<20:00,  2.78s/it]"
     ]
    },
    {
     "name": "stdout",
     "output_type": "stream",
     "text": [
      "wyczyszczone\n"
     ]
    },
    {
     "name": "stderr",
     "output_type": "stream",
     "text": [
      "Processing chunks:  73%|███████▎  | 1174/1600 [1:05:51<20:01,  2.82s/it]"
     ]
    },
    {
     "name": "stdout",
     "output_type": "stream",
     "text": [
      "wyczyszczone\n"
     ]
    },
    {
     "name": "stderr",
     "output_type": "stream",
     "text": [
      "Processing chunks:  74%|███████▎  | 1177/1600 [1:06:00<19:50,  2.81s/it]"
     ]
    },
    {
     "name": "stdout",
     "output_type": "stream",
     "text": [
      "wyczyszczone\n"
     ]
    },
    {
     "name": "stderr",
     "output_type": "stream",
     "text": [
      "Processing chunks:  74%|███████▎  | 1179/1600 [1:06:05<19:13,  2.74s/it]"
     ]
    },
    {
     "name": "stdout",
     "output_type": "stream",
     "text": [
      "wyczyszczone\n"
     ]
    },
    {
     "name": "stderr",
     "output_type": "stream",
     "text": [
      "Processing chunks:  74%|███████▍  | 1182/1600 [1:06:13<19:21,  2.78s/it]"
     ]
    },
    {
     "name": "stdout",
     "output_type": "stream",
     "text": [
      "wyczyszczone\n"
     ]
    },
    {
     "name": "stderr",
     "output_type": "stream",
     "text": [
      "\r",
      "Processing chunks:  74%|███████▍  | 1183/1600 [1:06:16<19:10,  2.76s/it]"
     ]
    },
    {
     "name": "stdout",
     "output_type": "stream",
     "text": [
      "wyczyszczone\n"
     ]
    },
    {
     "name": "stderr",
     "output_type": "stream",
     "text": [
      "Processing chunks:  74%|███████▍  | 1190/1600 [1:06:36<19:15,  2.82s/it]"
     ]
    },
    {
     "name": "stdout",
     "output_type": "stream",
     "text": [
      "wyczyszczone\n"
     ]
    },
    {
     "name": "stderr",
     "output_type": "stream",
     "text": [
      "Processing chunks:  76%|███████▌  | 1211/1600 [1:07:35<18:31,  2.86s/it]"
     ]
    },
    {
     "name": "stdout",
     "output_type": "stream",
     "text": [
      "wyczyszczone\n"
     ]
    },
    {
     "name": "stderr",
     "output_type": "stream",
     "text": [
      "Processing chunks:  76%|███████▌  | 1215/1600 [1:07:46<18:14,  2.84s/it]"
     ]
    },
    {
     "name": "stdout",
     "output_type": "stream",
     "text": [
      "wyczyszczone\n"
     ]
    },
    {
     "name": "stderr",
     "output_type": "stream",
     "text": [
      "Processing chunks:  76%|███████▌  | 1218/1600 [1:07:55<17:54,  2.81s/it]"
     ]
    },
    {
     "name": "stdout",
     "output_type": "stream",
     "text": [
      "wyczyszczone\n"
     ]
    },
    {
     "name": "stderr",
     "output_type": "stream",
     "text": [
      "Processing chunks:  77%|███████▋  | 1231/1600 [1:08:34<18:09,  2.95s/it]"
     ]
    },
    {
     "name": "stdout",
     "output_type": "stream",
     "text": [
      "wyczyszczone\n"
     ]
    },
    {
     "name": "stderr",
     "output_type": "stream",
     "text": [
      "Processing chunks:  78%|███████▊  | 1253/1600 [1:09:36<16:06,  2.79s/it]"
     ]
    },
    {
     "name": "stdout",
     "output_type": "stream",
     "text": [
      "wyczyszczone\n"
     ]
    },
    {
     "name": "stderr",
     "output_type": "stream",
     "text": [
      "Processing chunks:  78%|███████▊  | 1255/1600 [1:09:42<15:48,  2.75s/it]"
     ]
    },
    {
     "name": "stdout",
     "output_type": "stream",
     "text": [
      "wyczyszczone\n"
     ]
    },
    {
     "name": "stderr",
     "output_type": "stream",
     "text": [
      "Processing chunks:  79%|███████▉  | 1263/1600 [1:10:04<15:55,  2.84s/it]"
     ]
    },
    {
     "name": "stdout",
     "output_type": "stream",
     "text": [
      "wyczyszczone\n"
     ]
    },
    {
     "name": "stderr",
     "output_type": "stream",
     "text": [
      "\r",
      "Processing chunks:  79%|███████▉  | 1264/1600 [1:10:07<15:48,  2.82s/it]"
     ]
    },
    {
     "name": "stdout",
     "output_type": "stream",
     "text": [
      "wyczyszczone\n"
     ]
    },
    {
     "name": "stderr",
     "output_type": "stream",
     "text": [
      "Processing chunks:  80%|████████  | 1286/1600 [1:11:10<14:58,  2.86s/it]"
     ]
    },
    {
     "name": "stdout",
     "output_type": "stream",
     "text": [
      "wyczyszczone\n"
     ]
    },
    {
     "name": "stderr",
     "output_type": "stream",
     "text": [
      "Processing chunks:  81%|████████  | 1294/1600 [1:11:33<14:14,  2.79s/it]"
     ]
    },
    {
     "name": "stdout",
     "output_type": "stream",
     "text": [
      "wyczyszczone\n"
     ]
    },
    {
     "name": "stderr",
     "output_type": "stream",
     "text": [
      "\r",
      "Processing chunks:  81%|████████  | 1295/1600 [1:11:35<14:03,  2.76s/it]"
     ]
    },
    {
     "name": "stdout",
     "output_type": "stream",
     "text": [
      "wyczyszczone\n"
     ]
    },
    {
     "name": "stderr",
     "output_type": "stream",
     "text": [
      "\r",
      "Processing chunks:  81%|████████  | 1296/1600 [1:11:38<13:54,  2.75s/it]"
     ]
    },
    {
     "name": "stdout",
     "output_type": "stream",
     "text": [
      "wyczyszczone\n"
     ]
    },
    {
     "name": "stderr",
     "output_type": "stream",
     "text": [
      "\r",
      "Processing chunks:  81%|████████  | 1297/1600 [1:11:41<13:53,  2.75s/it]"
     ]
    },
    {
     "name": "stdout",
     "output_type": "stream",
     "text": [
      "wyczyszczone\n"
     ]
    },
    {
     "name": "stderr",
     "output_type": "stream",
     "text": [
      "Processing chunks:  81%|████████▏ | 1300/1600 [1:11:49<13:58,  2.80s/it]"
     ]
    },
    {
     "name": "stdout",
     "output_type": "stream",
     "text": [
      "wyczyszczone\n"
     ]
    },
    {
     "name": "stderr",
     "output_type": "stream",
     "text": [
      "Processing chunks:  82%|████████▏ | 1305/1600 [1:12:03<13:51,  2.82s/it]"
     ]
    },
    {
     "name": "stdout",
     "output_type": "stream",
     "text": [
      "wyczyszczone\n"
     ]
    },
    {
     "name": "stderr",
     "output_type": "stream",
     "text": [
      "Processing chunks:  84%|████████▍ | 1340/1600 [1:13:44<12:15,  2.83s/it]"
     ]
    },
    {
     "name": "stdout",
     "output_type": "stream",
     "text": [
      "wyczyszczone\n"
     ]
    },
    {
     "name": "stderr",
     "output_type": "stream",
     "text": [
      "Processing chunks:  84%|████████▍ | 1348/1600 [1:14:07<11:48,  2.81s/it]"
     ]
    },
    {
     "name": "stdout",
     "output_type": "stream",
     "text": [
      "wyczyszczone\n"
     ]
    },
    {
     "name": "stderr",
     "output_type": "stream",
     "text": [
      "\r",
      "Processing chunks:  84%|████████▍ | 1349/1600 [1:14:10<11:41,  2.80s/it]"
     ]
    },
    {
     "name": "stdout",
     "output_type": "stream",
     "text": [
      "wyczyszczone\n"
     ]
    },
    {
     "name": "stderr",
     "output_type": "stream",
     "text": [
      "\r",
      "Processing chunks:  84%|████████▍ | 1350/1600 [1:14:12<11:37,  2.79s/it]"
     ]
    },
    {
     "name": "stdout",
     "output_type": "stream",
     "text": [
      "wyczyszczone\n"
     ]
    },
    {
     "name": "stderr",
     "output_type": "stream",
     "text": [
      "Processing chunks:  85%|████████▍ | 1353/1600 [1:14:20<11:08,  2.71s/it]"
     ]
    },
    {
     "name": "stdout",
     "output_type": "stream",
     "text": [
      "wyczyszczone\n"
     ]
    },
    {
     "name": "stderr",
     "output_type": "stream",
     "text": [
      "Processing chunks:  85%|████████▍ | 1355/1600 [1:14:26<11:13,  2.75s/it]"
     ]
    },
    {
     "name": "stdout",
     "output_type": "stream",
     "text": [
      "wyczyszczone\n"
     ]
    },
    {
     "name": "stderr",
     "output_type": "stream",
     "text": [
      "Processing chunks:  85%|████████▍ | 1357/1600 [1:14:31<11:09,  2.75s/it]"
     ]
    },
    {
     "name": "stdout",
     "output_type": "stream",
     "text": [
      "wyczyszczone\n"
     ]
    },
    {
     "name": "stderr",
     "output_type": "stream",
     "text": [
      "\r",
      "Processing chunks:  85%|████████▍ | 1358/1600 [1:14:34<11:02,  2.74s/it]"
     ]
    },
    {
     "name": "stdout",
     "output_type": "stream",
     "text": [
      "wyczyszczone\n"
     ]
    },
    {
     "name": "stderr",
     "output_type": "stream",
     "text": [
      "\r",
      "Processing chunks:  85%|████████▍ | 1359/1600 [1:14:37<11:04,  2.76s/it]"
     ]
    },
    {
     "name": "stdout",
     "output_type": "stream",
     "text": [
      "wyczyszczone\n"
     ]
    },
    {
     "name": "stderr",
     "output_type": "stream",
     "text": [
      "\r",
      "Processing chunks:  85%|████████▌ | 1360/1600 [1:14:40<10:57,  2.74s/it]"
     ]
    },
    {
     "name": "stdout",
     "output_type": "stream",
     "text": [
      "wyczyszczone\n"
     ]
    },
    {
     "name": "stderr",
     "output_type": "stream",
     "text": [
      "\r",
      "Processing chunks:  85%|████████▌ | 1361/1600 [1:14:43<11:03,  2.77s/it]"
     ]
    },
    {
     "name": "stdout",
     "output_type": "stream",
     "text": [
      "wyczyszczone\n"
     ]
    },
    {
     "name": "stderr",
     "output_type": "stream",
     "text": [
      "\r",
      "Processing chunks:  85%|████████▌ | 1362/1600 [1:14:45<10:52,  2.74s/it]"
     ]
    },
    {
     "name": "stdout",
     "output_type": "stream",
     "text": [
      "wyczyszczone\n"
     ]
    },
    {
     "name": "stderr",
     "output_type": "stream",
     "text": [
      "\r",
      "Processing chunks:  85%|████████▌ | 1363/1600 [1:14:48<10:39,  2.70s/it]"
     ]
    },
    {
     "name": "stdout",
     "output_type": "stream",
     "text": [
      "wyczyszczone\n"
     ]
    },
    {
     "name": "stderr",
     "output_type": "stream",
     "text": [
      "\r",
      "Processing chunks:  85%|████████▌ | 1364/1600 [1:14:50<10:29,  2.67s/it]"
     ]
    },
    {
     "name": "stdout",
     "output_type": "stream",
     "text": [
      "wyczyszczone\n"
     ]
    },
    {
     "name": "stderr",
     "output_type": "stream",
     "text": [
      "\r",
      "Processing chunks:  85%|████████▌ | 1365/1600 [1:14:53<10:33,  2.70s/it]"
     ]
    },
    {
     "name": "stdout",
     "output_type": "stream",
     "text": [
      "wyczyszczone\n"
     ]
    },
    {
     "name": "stderr",
     "output_type": "stream",
     "text": [
      "\r",
      "Processing chunks:  85%|████████▌ | 1366/1600 [1:14:56<10:25,  2.67s/it]"
     ]
    },
    {
     "name": "stdout",
     "output_type": "stream",
     "text": [
      "wyczyszczone\n"
     ]
    },
    {
     "name": "stderr",
     "output_type": "stream",
     "text": [
      "Processing chunks:  86%|████████▌ | 1369/1600 [1:15:04<10:30,  2.73s/it]"
     ]
    },
    {
     "name": "stdout",
     "output_type": "stream",
     "text": [
      "wyczyszczone\n"
     ]
    },
    {
     "name": "stderr",
     "output_type": "stream",
     "text": [
      "Processing chunks:  86%|████████▌ | 1371/1600 [1:15:10<10:29,  2.75s/it]"
     ]
    },
    {
     "name": "stdout",
     "output_type": "stream",
     "text": [
      "wyczyszczone\n"
     ]
    },
    {
     "name": "stderr",
     "output_type": "stream",
     "text": [
      "Processing chunks:  88%|████████▊ | 1405/1600 [1:16:46<09:07,  2.81s/it]"
     ]
    },
    {
     "name": "stdout",
     "output_type": "stream",
     "text": [
      "wyczyszczone\n"
     ]
    },
    {
     "name": "stderr",
     "output_type": "stream",
     "text": [
      "\r",
      "Processing chunks:  88%|████████▊ | 1406/1600 [1:16:49<09:03,  2.80s/it]"
     ]
    },
    {
     "name": "stdout",
     "output_type": "stream",
     "text": [
      "wyczyszczone\n"
     ]
    },
    {
     "name": "stderr",
     "output_type": "stream",
     "text": [
      "\r",
      "Processing chunks:  88%|████████▊ | 1407/1600 [1:16:52<08:52,  2.76s/it]"
     ]
    },
    {
     "name": "stdout",
     "output_type": "stream",
     "text": [
      "wyczyszczone\n"
     ]
    },
    {
     "name": "stderr",
     "output_type": "stream",
     "text": [
      "\r",
      "Processing chunks:  88%|████████▊ | 1408/1600 [1:16:54<08:45,  2.74s/it]"
     ]
    },
    {
     "name": "stdout",
     "output_type": "stream",
     "text": [
      "wyczyszczone\n"
     ]
    },
    {
     "name": "stderr",
     "output_type": "stream",
     "text": [
      "\r",
      "Processing chunks:  88%|████████▊ | 1409/1600 [1:16:57<08:38,  2.72s/it]"
     ]
    },
    {
     "name": "stdout",
     "output_type": "stream",
     "text": [
      "wyczyszczone\n"
     ]
    },
    {
     "name": "stderr",
     "output_type": "stream",
     "text": [
      "Processing chunks:  88%|████████▊ | 1412/1600 [1:17:05<08:35,  2.74s/it]"
     ]
    },
    {
     "name": "stdout",
     "output_type": "stream",
     "text": [
      "wyczyszczone\n"
     ]
    },
    {
     "name": "stderr",
     "output_type": "stream",
     "text": [
      "Processing chunks:  88%|████████▊ | 1415/1600 [1:17:13<08:27,  2.74s/it]"
     ]
    },
    {
     "name": "stdout",
     "output_type": "stream",
     "text": [
      "wyczyszczone\n"
     ]
    },
    {
     "name": "stderr",
     "output_type": "stream",
     "text": [
      "Processing chunks:  89%|████████▊ | 1417/1600 [1:17:19<08:32,  2.80s/it]"
     ]
    },
    {
     "name": "stdout",
     "output_type": "stream",
     "text": [
      "wyczyszczone\n"
     ]
    },
    {
     "name": "stderr",
     "output_type": "stream",
     "text": [
      "Processing chunks:  89%|████████▊ | 1419/1600 [1:17:25<08:20,  2.77s/it]"
     ]
    },
    {
     "name": "stdout",
     "output_type": "stream",
     "text": [
      "wyczyszczone\n"
     ]
    },
    {
     "name": "stderr",
     "output_type": "stream",
     "text": [
      "Processing chunks:  89%|████████▉ | 1421/1600 [1:17:30<08:17,  2.78s/it]"
     ]
    },
    {
     "name": "stdout",
     "output_type": "stream",
     "text": [
      "wyczyszczone\n"
     ]
    },
    {
     "name": "stderr",
     "output_type": "stream",
     "text": [
      "Processing chunks:  89%|████████▉ | 1423/1600 [1:17:36<08:22,  2.84s/it]"
     ]
    },
    {
     "name": "stdout",
     "output_type": "stream",
     "text": [
      "wyczyszczone\n"
     ]
    },
    {
     "name": "stderr",
     "output_type": "stream",
     "text": [
      "Processing chunks:  89%|████████▉ | 1426/1600 [1:17:44<08:09,  2.82s/it]"
     ]
    },
    {
     "name": "stdout",
     "output_type": "stream",
     "text": [
      "wyczyszczone\n"
     ]
    },
    {
     "name": "stderr",
     "output_type": "stream",
     "text": [
      "Processing chunks:  90%|████████▉ | 1434/1600 [1:18:06<07:25,  2.68s/it]"
     ]
    },
    {
     "name": "stdout",
     "output_type": "stream",
     "text": [
      "wyczyszczone\n"
     ]
    },
    {
     "name": "stderr",
     "output_type": "stream",
     "text": [
      "Processing chunks:  90%|████████▉ | 1437/1600 [1:18:14<07:17,  2.68s/it]"
     ]
    },
    {
     "name": "stdout",
     "output_type": "stream",
     "text": [
      "wyczyszczone\n"
     ]
    },
    {
     "name": "stderr",
     "output_type": "stream",
     "text": [
      "Processing chunks:  90%|█████████ | 1441/1600 [1:18:25<07:19,  2.76s/it]"
     ]
    },
    {
     "name": "stdout",
     "output_type": "stream",
     "text": [
      "wyczyszczone\n"
     ]
    },
    {
     "name": "stderr",
     "output_type": "stream",
     "text": [
      "Processing chunks:  93%|█████████▎| 1484/1600 [1:20:26<05:20,  2.77s/it]"
     ]
    },
    {
     "name": "stdout",
     "output_type": "stream",
     "text": [
      "wyczyszczone\n"
     ]
    },
    {
     "name": "stderr",
     "output_type": "stream",
     "text": [
      "\r",
      "Processing chunks:  93%|█████████▎| 1485/1600 [1:20:29<05:13,  2.73s/it]"
     ]
    },
    {
     "name": "stdout",
     "output_type": "stream",
     "text": [
      "wyczyszczone\n"
     ]
    },
    {
     "name": "stderr",
     "output_type": "stream",
     "text": [
      "Processing chunks:  94%|█████████▍| 1509/1600 [1:21:35<04:11,  2.77s/it]"
     ]
    },
    {
     "name": "stdout",
     "output_type": "stream",
     "text": [
      "wyczyszczone\n"
     ]
    },
    {
     "name": "stderr",
     "output_type": "stream",
     "text": [
      "Processing chunks:  95%|█████████▍| 1513/1600 [1:21:46<04:05,  2.82s/it]"
     ]
    },
    {
     "name": "stdout",
     "output_type": "stream",
     "text": [
      "wyczyszczone\n"
     ]
    },
    {
     "name": "stderr",
     "output_type": "stream",
     "text": [
      "Processing chunks:  95%|█████████▍| 1518/1600 [1:22:01<03:52,  2.83s/it]"
     ]
    },
    {
     "name": "stdout",
     "output_type": "stream",
     "text": [
      "wyczyszczone\n"
     ]
    },
    {
     "name": "stderr",
     "output_type": "stream",
     "text": [
      "Processing chunks:  96%|█████████▌| 1531/1600 [1:22:37<03:12,  2.79s/it]"
     ]
    },
    {
     "name": "stdout",
     "output_type": "stream",
     "text": [
      "wyczyszczone\n"
     ]
    },
    {
     "name": "stderr",
     "output_type": "stream",
     "text": [
      "Processing chunks:  96%|█████████▌| 1537/1600 [1:22:53<02:53,  2.76s/it]"
     ]
    },
    {
     "name": "stdout",
     "output_type": "stream",
     "text": [
      "wyczyszczone\n"
     ]
    },
    {
     "name": "stderr",
     "output_type": "stream",
     "text": [
      "Processing chunks:  96%|█████████▋| 1543/1600 [1:23:10<02:37,  2.76s/it]"
     ]
    },
    {
     "name": "stdout",
     "output_type": "stream",
     "text": [
      "wyczyszczone\n"
     ]
    },
    {
     "name": "stderr",
     "output_type": "stream",
     "text": [
      "Processing chunks: 100%|█████████▉| 1595/1600 [1:25:35<00:13,  2.75s/it]"
     ]
    },
    {
     "name": "stdout",
     "output_type": "stream",
     "text": [
      "wyczyszczone\n"
     ]
    },
    {
     "name": "stderr",
     "output_type": "stream",
     "text": [
      "Processing chunks: 100%|██████████| 1600/1600 [1:25:49<00:00,  3.22s/it]\n"
     ]
    }
   ],
   "source": [
    "from tqdm import trange\n",
    "import pandas as pd\n",
    "\n",
    "df_list = []\n",
    "clean_df_1 = pd.DataFrame()\n",
    "chunk_size = 1000\n",
    "\n",
    "# Inicjalizacja paska postępu\n",
    "total_chunks = len(range(0, len(data), chunk_size))\n",
    "for i in trange(0, len(data), chunk_size, desc=\"Processing chunks\", total=total_chunks):\n",
    "    chunk = data.iloc[i:i+chunk_size].copy()\n",
    "    chunk['after_proc'] = processing_data(chunk['text'])\n",
    "    df_list.append(chunk)\n",
    "\n",
    "clean_df_1 = pd.concat(df_list, ignore_index=True)\n"
   ]
  },
  {
   "cell_type": "code",
   "execution_count": 26,
   "id": "8b350af5",
   "metadata": {},
   "outputs": [
    {
     "data": {
      "text/html": [
       "<div>\n",
       "<style scoped>\n",
       "    .dataframe tbody tr th:only-of-type {\n",
       "        vertical-align: middle;\n",
       "    }\n",
       "\n",
       "    .dataframe tbody tr th {\n",
       "        vertical-align: top;\n",
       "    }\n",
       "\n",
       "    .dataframe thead th {\n",
       "        text-align: right;\n",
       "    }\n",
       "</style>\n",
       "<table border=\"1\" class=\"dataframe\">\n",
       "  <thead>\n",
       "    <tr style=\"text-align: right;\">\n",
       "      <th></th>\n",
       "      <th>text</th>\n",
       "      <th>sentiment</th>\n",
       "      <th>after_proc</th>\n",
       "    </tr>\n",
       "  </thead>\n",
       "  <tbody>\n",
       "    <tr>\n",
       "      <th>0</th>\n",
       "      <td>@switchfoot http://twitpic.com/2y1zl - Awww, that's a bummer.  You shoulda got David Carr of Third Day to do it. ;D</td>\n",
       "      <td>0</td>\n",
       "      <td>awww bummer shoulda got david carr third day</td>\n",
       "    </tr>\n",
       "    <tr>\n",
       "      <th>1</th>\n",
       "      <td>is upset that he can't update his Facebook by texting it... and might cry as a result  School today also. Blah!</td>\n",
       "      <td>0</td>\n",
       "      <td>upset cannot update facebook texting might cry result school today also blah</td>\n",
       "    </tr>\n",
       "    <tr>\n",
       "      <th>2</th>\n",
       "      <td>@Kenichan I dived many times for the ball. Managed to save 50%  The rest go out of bounds</td>\n",
       "      <td>0</td>\n",
       "      <td>dived many times ball managed save rest go bounds</td>\n",
       "    </tr>\n",
       "    <tr>\n",
       "      <th>3</th>\n",
       "      <td>my whole body feels itchy and like its on fire</td>\n",
       "      <td>0</td>\n",
       "      <td>whole body feels itchy like fire</td>\n",
       "    </tr>\n",
       "    <tr>\n",
       "      <th>4</th>\n",
       "      <td>@nationwideclass no, it's not behaving at all. i'm mad. why am i here? because I can't see you all over there.</td>\n",
       "      <td>0</td>\n",
       "      <td>behaving mad cannot see</td>\n",
       "    </tr>\n",
       "    <tr>\n",
       "      <th>...</th>\n",
       "      <td>...</td>\n",
       "      <td>...</td>\n",
       "      <td>...</td>\n",
       "    </tr>\n",
       "    <tr>\n",
       "      <th>1599995</th>\n",
       "      <td>Just woke up. Having no school is the best feeling ever</td>\n",
       "      <td>4</td>\n",
       "      <td>woke school best feeling ever</td>\n",
       "    </tr>\n",
       "    <tr>\n",
       "      <th>1599996</th>\n",
       "      <td>TheWDB.com - Very cool to hear old Walt interviews!  â« http://blip.fm/~8bmta</td>\n",
       "      <td>4</td>\n",
       "      <td>cool hear old walt interviews</td>\n",
       "    </tr>\n",
       "    <tr>\n",
       "      <th>1599997</th>\n",
       "      <td>Are you ready for your MoJo Makeover? Ask me for details</td>\n",
       "      <td>4</td>\n",
       "      <td>ready mojo makeover ask details</td>\n",
       "    </tr>\n",
       "    <tr>\n",
       "      <th>1599998</th>\n",
       "      <td>Happy 38th Birthday to my boo of alll time!!! Tupac Amaru Shakur</td>\n",
       "      <td>4</td>\n",
       "      <td>happy th birthday boo alll time tupac amaru shakur</td>\n",
       "    </tr>\n",
       "    <tr>\n",
       "      <th>1599999</th>\n",
       "      <td>happy #charitytuesday @theNSPCC @SparksCharity @SpeakingUpH4H</td>\n",
       "      <td>4</td>\n",
       "      <td>happy</td>\n",
       "    </tr>\n",
       "  </tbody>\n",
       "</table>\n",
       "<p>1600000 rows × 3 columns</p>\n",
       "</div>"
      ],
      "text/plain": [
       "                                                                                                                        text  \\\n",
       "0        @switchfoot http://twitpic.com/2y1zl - Awww, that's a bummer.  You shoulda got David Carr of Third Day to do it. ;D   \n",
       "1            is upset that he can't update his Facebook by texting it... and might cry as a result  School today also. Blah!   \n",
       "2                                  @Kenichan I dived many times for the ball. Managed to save 50%  The rest go out of bounds   \n",
       "3                                                                            my whole body feels itchy and like its on fire    \n",
       "4            @nationwideclass no, it's not behaving at all. i'm mad. why am i here? because I can't see you all over there.    \n",
       "...                                                                                                                      ...   \n",
       "1599995                                                             Just woke up. Having no school is the best feeling ever    \n",
       "1599996                                       TheWDB.com - Very cool to hear old Walt interviews!  â« http://blip.fm/~8bmta   \n",
       "1599997                                                            Are you ready for your MoJo Makeover? Ask me for details    \n",
       "1599998                                                    Happy 38th Birthday to my boo of alll time!!! Tupac Amaru Shakur    \n",
       "1599999                                                       happy #charitytuesday @theNSPCC @SparksCharity @SpeakingUpH4H    \n",
       "\n",
       "         sentiment  \\\n",
       "0                0   \n",
       "1                0   \n",
       "2                0   \n",
       "3                0   \n",
       "4                0   \n",
       "...            ...   \n",
       "1599995          4   \n",
       "1599996          4   \n",
       "1599997          4   \n",
       "1599998          4   \n",
       "1599999          4   \n",
       "\n",
       "                                                                           after_proc  \n",
       "0                                        awww bummer shoulda got david carr third day  \n",
       "1        upset cannot update facebook texting might cry result school today also blah  \n",
       "2                                   dived many times ball managed save rest go bounds  \n",
       "3                                                    whole body feels itchy like fire  \n",
       "4                                                             behaving mad cannot see  \n",
       "...                                                                               ...  \n",
       "1599995                                                 woke school best feeling ever  \n",
       "1599996                                                 cool hear old walt interviews  \n",
       "1599997                                               ready mojo makeover ask details  \n",
       "1599998                            happy th birthday boo alll time tupac amaru shakur  \n",
       "1599999                                                                         happy  \n",
       "\n",
       "[1600000 rows x 3 columns]"
      ]
     },
     "execution_count": 26,
     "metadata": {},
     "output_type": "execute_result"
    }
   ],
   "source": [
    "clean_df_1"
   ]
  },
  {
   "cell_type": "markdown",
   "id": "233f485f",
   "metadata": {},
   "source": [
    "### drop empty records"
   ]
  },
  {
   "cell_type": "code",
   "execution_count": 27,
   "id": "55cef669",
   "metadata": {},
   "outputs": [
    {
     "data": {
      "text/html": [
       "<div>\n",
       "<style scoped>\n",
       "    .dataframe tbody tr th:only-of-type {\n",
       "        vertical-align: middle;\n",
       "    }\n",
       "\n",
       "    .dataframe tbody tr th {\n",
       "        vertical-align: top;\n",
       "    }\n",
       "\n",
       "    .dataframe thead th {\n",
       "        text-align: right;\n",
       "    }\n",
       "</style>\n",
       "<table border=\"1\" class=\"dataframe\">\n",
       "  <thead>\n",
       "    <tr style=\"text-align: right;\">\n",
       "      <th></th>\n",
       "      <th>text</th>\n",
       "      <th>sentiment</th>\n",
       "      <th>after_proc</th>\n",
       "    </tr>\n",
       "  </thead>\n",
       "  <tbody>\n",
       "    <tr>\n",
       "      <th>83</th>\n",
       "      <td>@markhardy1974 Me too  #itm</td>\n",
       "      <td>0</td>\n",
       "      <td></td>\n",
       "    </tr>\n",
       "    <tr>\n",
       "      <th>208</th>\n",
       "      <td>@mandayyy</td>\n",
       "      <td>0</td>\n",
       "      <td></td>\n",
       "    </tr>\n",
       "    <tr>\n",
       "      <th>249</th>\n",
       "      <td>@mandayyy</td>\n",
       "      <td>0</td>\n",
       "      <td></td>\n",
       "    </tr>\n",
       "    <tr>\n",
       "      <th>282</th>\n",
       "      <td>@ITS_NEMESIS -------</td>\n",
       "      <td>0</td>\n",
       "      <td></td>\n",
       "    </tr>\n",
       "    <tr>\n",
       "      <th>398</th>\n",
       "      <td>@danadearmond</td>\n",
       "      <td>0</td>\n",
       "      <td></td>\n",
       "    </tr>\n",
       "    <tr>\n",
       "      <th>...</th>\n",
       "      <td>...</td>\n",
       "      <td>...</td>\n",
       "      <td>...</td>\n",
       "    </tr>\n",
       "    <tr>\n",
       "      <th>1598921</th>\n",
       "      <td>If only?</td>\n",
       "      <td>4</td>\n",
       "      <td></td>\n",
       "    </tr>\n",
       "    <tr>\n",
       "      <th>1599494</th>\n",
       "      <td>@Sworn4DaBosses</td>\n",
       "      <td>4</td>\n",
       "      <td></td>\n",
       "    </tr>\n",
       "    <tr>\n",
       "      <th>1599552</th>\n",
       "      <td>@francii_ me too</td>\n",
       "      <td>4</td>\n",
       "      <td></td>\n",
       "    </tr>\n",
       "    <tr>\n",
       "      <th>1599811</th>\n",
       "      <td>to be with you</td>\n",
       "      <td>4</td>\n",
       "      <td></td>\n",
       "    </tr>\n",
       "    <tr>\n",
       "      <th>1599993</th>\n",
       "      <td>@SCOOBY_GRITBOYS</td>\n",
       "      <td>4</td>\n",
       "      <td></td>\n",
       "    </tr>\n",
       "  </tbody>\n",
       "</table>\n",
       "<p>8096 rows × 3 columns</p>\n",
       "</div>"
      ],
      "text/plain": [
       "                                text  sentiment after_proc\n",
       "83       @markhardy1974 Me too  #itm          0           \n",
       "208                       @mandayyy           0           \n",
       "249                     @mandayyy             0           \n",
       "282            @ITS_NEMESIS -------           0           \n",
       "398                   @danadearmond           0           \n",
       "...                              ...        ...        ...\n",
       "1598921                    If only?           4           \n",
       "1599494             @Sworn4DaBosses           4           \n",
       "1599552            @francii_ me too           4           \n",
       "1599811              to be with you           4           \n",
       "1599993            @SCOOBY_GRITBOYS           4           \n",
       "\n",
       "[8096 rows x 3 columns]"
      ]
     },
     "execution_count": 27,
     "metadata": {},
     "output_type": "execute_result"
    }
   ],
   "source": [
    "empty_rows = clean_df_1[clean_df_1['after_proc'] == '']\n",
    "empty_rows"
   ]
  },
  {
   "cell_type": "code",
   "execution_count": 28,
   "id": "7ce4f6b8",
   "metadata": {},
   "outputs": [],
   "source": [
    "clean_df_2 = clean_df_1[clean_df_1['after_proc'] != '']"
   ]
  },
  {
   "cell_type": "code",
   "execution_count": 69,
   "id": "879d270d",
   "metadata": {},
   "outputs": [
    {
     "data": {
      "text/html": [
       "<div>\n",
       "<style scoped>\n",
       "    .dataframe tbody tr th:only-of-type {\n",
       "        vertical-align: middle;\n",
       "    }\n",
       "\n",
       "    .dataframe tbody tr th {\n",
       "        vertical-align: top;\n",
       "    }\n",
       "\n",
       "    .dataframe thead th {\n",
       "        text-align: right;\n",
       "    }\n",
       "</style>\n",
       "<table border=\"1\" class=\"dataframe\">\n",
       "  <thead>\n",
       "    <tr style=\"text-align: right;\">\n",
       "      <th></th>\n",
       "      <th>text</th>\n",
       "      <th>sentiment</th>\n",
       "      <th>after_proc</th>\n",
       "    </tr>\n",
       "  </thead>\n",
       "  <tbody>\n",
       "    <tr>\n",
       "      <th>0</th>\n",
       "      <td>@switchfoot http://twitpic.com/2y1zl - Awww, that's a bummer.  You shoulda got David Carr of Third Day to do it. ;D</td>\n",
       "      <td>0</td>\n",
       "      <td>awww bummer shoulda got david carr third day</td>\n",
       "    </tr>\n",
       "    <tr>\n",
       "      <th>1</th>\n",
       "      <td>is upset that he can't update his Facebook by texting it... and might cry as a result  School today also. Blah!</td>\n",
       "      <td>0</td>\n",
       "      <td>upset cannot update facebook texting might cry result school today also blah</td>\n",
       "    </tr>\n",
       "    <tr>\n",
       "      <th>2</th>\n",
       "      <td>@Kenichan I dived many times for the ball. Managed to save 50%  The rest go out of bounds</td>\n",
       "      <td>0</td>\n",
       "      <td>dived many times ball managed save rest go bounds</td>\n",
       "    </tr>\n",
       "    <tr>\n",
       "      <th>3</th>\n",
       "      <td>my whole body feels itchy and like its on fire</td>\n",
       "      <td>0</td>\n",
       "      <td>whole body feels itchy like fire</td>\n",
       "    </tr>\n",
       "    <tr>\n",
       "      <th>4</th>\n",
       "      <td>@nationwideclass no, it's not behaving at all. i'm mad. why am i here? because I can't see you all over there.</td>\n",
       "      <td>0</td>\n",
       "      <td>behaving mad cannot see</td>\n",
       "    </tr>\n",
       "    <tr>\n",
       "      <th>5</th>\n",
       "      <td>@Kwesidei not the whole crew</td>\n",
       "      <td>0</td>\n",
       "      <td>whole crew</td>\n",
       "    </tr>\n",
       "    <tr>\n",
       "      <th>6</th>\n",
       "      <td>Need a hug</td>\n",
       "      <td>0</td>\n",
       "      <td>need hug</td>\n",
       "    </tr>\n",
       "    <tr>\n",
       "      <th>7</th>\n",
       "      <td>@LOLTrish hey  long time no see! Yes.. Rains a bit ,only a bit  LOL , I'm fine thanks , how's you ?</td>\n",
       "      <td>0</td>\n",
       "      <td>hey long tears eyes see yes rains bit bit lol fine thanks</td>\n",
       "    </tr>\n",
       "    <tr>\n",
       "      <th>8</th>\n",
       "      <td>@Tatiana_K nope they didn't have it</td>\n",
       "      <td>0</td>\n",
       "      <td>nope</td>\n",
       "    </tr>\n",
       "    <tr>\n",
       "      <th>9</th>\n",
       "      <td>@twittera que me muera ?</td>\n",
       "      <td>0</td>\n",
       "      <td>que muera</td>\n",
       "    </tr>\n",
       "  </tbody>\n",
       "</table>\n",
       "</div>"
      ],
      "text/plain": [
       "                                                                                                                  text  \\\n",
       "0  @switchfoot http://twitpic.com/2y1zl - Awww, that's a bummer.  You shoulda got David Carr of Third Day to do it. ;D   \n",
       "1      is upset that he can't update his Facebook by texting it... and might cry as a result  School today also. Blah!   \n",
       "2                            @Kenichan I dived many times for the ball. Managed to save 50%  The rest go out of bounds   \n",
       "3                                                                      my whole body feels itchy and like its on fire    \n",
       "4      @nationwideclass no, it's not behaving at all. i'm mad. why am i here? because I can't see you all over there.    \n",
       "5                                                                                        @Kwesidei not the whole crew    \n",
       "6                                                                                                          Need a hug    \n",
       "7                  @LOLTrish hey  long time no see! Yes.. Rains a bit ,only a bit  LOL , I'm fine thanks , how's you ?   \n",
       "8                                                                                 @Tatiana_K nope they didn't have it    \n",
       "9                                                                                            @twittera que me muera ?    \n",
       "\n",
       "   sentiment  \\\n",
       "0          0   \n",
       "1          0   \n",
       "2          0   \n",
       "3          0   \n",
       "4          0   \n",
       "5          0   \n",
       "6          0   \n",
       "7          0   \n",
       "8          0   \n",
       "9          0   \n",
       "\n",
       "                                                                     after_proc  \n",
       "0                                  awww bummer shoulda got david carr third day  \n",
       "1  upset cannot update facebook texting might cry result school today also blah  \n",
       "2                             dived many times ball managed save rest go bounds  \n",
       "3                                              whole body feels itchy like fire  \n",
       "4                                                       behaving mad cannot see  \n",
       "5                                                                    whole crew  \n",
       "6                                                                      need hug  \n",
       "7                     hey long tears eyes see yes rains bit bit lol fine thanks  \n",
       "8                                                                          nope  \n",
       "9                                                                     que muera  "
      ]
     },
     "execution_count": 69,
     "metadata": {},
     "output_type": "execute_result"
    }
   ],
   "source": [
    "clean_df_2.head(10)"
   ]
  },
  {
   "cell_type": "markdown",
   "id": "cb1ba37f",
   "metadata": {},
   "source": [
    "### checking language"
   ]
  },
  {
   "cell_type": "code",
   "execution_count": null,
   "id": "64100ae0",
   "metadata": {},
   "outputs": [],
   "source": [
    "clean_df_3 = clean_df_2[clean_df_2['after_proc'].apply(lambda x: langid.classify(x)[0] == 'en')] # wywalamy nie ang"
   ]
  },
  {
   "cell_type": "code",
   "execution_count": null,
   "id": "9440fb64",
   "metadata": {},
   "outputs": [],
   "source": [
    "clean_df_3"
   ]
  },
  {
   "cell_type": "code",
   "execution_count": null,
   "id": "15399189",
   "metadata": {},
   "outputs": [],
   "source": [
    "# clean_df_4['stemmed_text'] = clean_df_3['after_proc'].apply(lambda x: ' '.join([porter_stemmer.stem(word) for word in x.split()]))"
   ]
  },
  {
   "cell_type": "markdown",
   "id": "d1e73363",
   "metadata": {},
   "source": [
    "### saving to csv"
   ]
  },
  {
   "cell_type": "code",
   "execution_count": 32,
   "id": "a6f6e221",
   "metadata": {},
   "outputs": [],
   "source": [
    "clean_df_3.to_csv('clean_data2.csv', index=False) "
   ]
  },
  {
   "cell_type": "markdown",
   "id": "ea88e76c",
   "metadata": {},
   "source": [
    "# Processed data"
   ]
  },
  {
   "cell_type": "code",
   "execution_count": 64,
   "id": "c4a33b46",
   "metadata": {},
   "outputs": [],
   "source": [
    "proc_data = pd.read_csv('clean_data2.csv')\n",
    "proc_data = proc_data.drop('text', axis=1)\n",
    "proc_data['sentiment'] = proc_data['sentiment'].replace(4, 1) #### change sentiment = 4 to 1\n",
    "data = proc_data.rename(columns={'after_proc': 'text'})"
   ]
  },
  {
   "cell_type": "code",
   "execution_count": 65,
   "id": "164277c8",
   "metadata": {},
   "outputs": [
    {
     "data": {
      "text/html": [
       "<div>\n",
       "<style scoped>\n",
       "    .dataframe tbody tr th:only-of-type {\n",
       "        vertical-align: middle;\n",
       "    }\n",
       "\n",
       "    .dataframe tbody tr th {\n",
       "        vertical-align: top;\n",
       "    }\n",
       "\n",
       "    .dataframe thead th {\n",
       "        text-align: right;\n",
       "    }\n",
       "</style>\n",
       "<table border=\"1\" class=\"dataframe\">\n",
       "  <thead>\n",
       "    <tr style=\"text-align: right;\">\n",
       "      <th></th>\n",
       "      <th>sentiment</th>\n",
       "      <th>text</th>\n",
       "    </tr>\n",
       "  </thead>\n",
       "  <tbody>\n",
       "    <tr>\n",
       "      <th>0</th>\n",
       "      <td>0</td>\n",
       "      <td>awww bummer shoulda got david carr third day</td>\n",
       "    </tr>\n",
       "    <tr>\n",
       "      <th>1</th>\n",
       "      <td>0</td>\n",
       "      <td>upset cannot update facebook texting might cry result school today also blah</td>\n",
       "    </tr>\n",
       "    <tr>\n",
       "      <th>2</th>\n",
       "      <td>0</td>\n",
       "      <td>dived many times ball managed save rest go bounds</td>\n",
       "    </tr>\n",
       "    <tr>\n",
       "      <th>3</th>\n",
       "      <td>0</td>\n",
       "      <td>whole body feels itchy like fire</td>\n",
       "    </tr>\n",
       "    <tr>\n",
       "      <th>4</th>\n",
       "      <td>0</td>\n",
       "      <td>behaving mad cannot see</td>\n",
       "    </tr>\n",
       "    <tr>\n",
       "      <th>...</th>\n",
       "      <td>...</td>\n",
       "      <td>...</td>\n",
       "    </tr>\n",
       "    <tr>\n",
       "      <th>1332077</th>\n",
       "      <td>1</td>\n",
       "      <td>mmmm sounds absolutely perfect schedule full tears eyes lay bed sunday ugh</td>\n",
       "    </tr>\n",
       "    <tr>\n",
       "      <th>1332078</th>\n",
       "      <td>1</td>\n",
       "      <td>yeah work better waiting end wonder tears eyes keep good blog</td>\n",
       "    </tr>\n",
       "    <tr>\n",
       "      <th>1332079</th>\n",
       "      <td>1</td>\n",
       "      <td>cool hear old walt interviews</td>\n",
       "    </tr>\n",
       "    <tr>\n",
       "      <th>1332080</th>\n",
       "      <td>1</td>\n",
       "      <td>happy th birthday boo alll time tupac amaru shakur</td>\n",
       "    </tr>\n",
       "    <tr>\n",
       "      <th>1332081</th>\n",
       "      <td>1</td>\n",
       "      <td>happy</td>\n",
       "    </tr>\n",
       "  </tbody>\n",
       "</table>\n",
       "<p>1332082 rows × 2 columns</p>\n",
       "</div>"
      ],
      "text/plain": [
       "         sentiment  \\\n",
       "0                0   \n",
       "1                0   \n",
       "2                0   \n",
       "3                0   \n",
       "4                0   \n",
       "...            ...   \n",
       "1332077          1   \n",
       "1332078          1   \n",
       "1332079          1   \n",
       "1332080          1   \n",
       "1332081          1   \n",
       "\n",
       "                                                                                 text  \n",
       "0                                        awww bummer shoulda got david carr third day  \n",
       "1        upset cannot update facebook texting might cry result school today also blah  \n",
       "2                                   dived many times ball managed save rest go bounds  \n",
       "3                                                    whole body feels itchy like fire  \n",
       "4                                                             behaving mad cannot see  \n",
       "...                                                                               ...  \n",
       "1332077    mmmm sounds absolutely perfect schedule full tears eyes lay bed sunday ugh  \n",
       "1332078                 yeah work better waiting end wonder tears eyes keep good blog  \n",
       "1332079                                                 cool hear old walt interviews  \n",
       "1332080                            happy th birthday boo alll time tupac amaru shakur  \n",
       "1332081                                                                         happy  \n",
       "\n",
       "[1332082 rows x 2 columns]"
      ]
     },
     "execution_count": 65,
     "metadata": {},
     "output_type": "execute_result"
    }
   ],
   "source": [
    "data"
   ]
  },
  {
   "cell_type": "code",
   "execution_count": null,
   "id": "76763252",
   "metadata": {},
   "outputs": [],
   "source": []
  }
 ],
 "metadata": {
  "kernelspec": {
   "display_name": "Python 3 (ipykernel)",
   "language": "python",
   "name": "python3"
  },
  "language_info": {
   "codemirror_mode": {
    "name": "ipython",
    "version": 3
   },
   "file_extension": ".py",
   "mimetype": "text/x-python",
   "name": "python",
   "nbconvert_exporter": "python",
   "pygments_lexer": "ipython3",
   "version": "3.11.3"
  }
 },
 "nbformat": 4,
 "nbformat_minor": 5
}
