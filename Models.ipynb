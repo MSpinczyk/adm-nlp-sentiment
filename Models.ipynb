{
 "cells": [
  {
   "cell_type": "code",
   "execution_count": 1,
   "id": "cc3335d5",
   "metadata": {},
   "outputs": [],
   "source": [
    "import pandas as pd\n",
    "import matplotlib.pyplot as plt\n",
    "import seaborn as sns\n",
    "import numpy as np\n",
    "from wordcloud import WordCloud\n",
    "import nltk\n",
    "from sklearn.inspection import permutation_importance\n",
    "from sklearn.model_selection import train_test_split\n",
    "from sklearn.metrics import precision_score, recall_score, f1_score, accuracy_score, roc_auc_score, roc_curve, auc, confusion_matrix, ConfusionMatrixDisplay\n",
    "from sklearn.feature_extraction.text import TfidfVectorizer\n",
    "from nltk.corpus import stopwords\n",
    "from sklearn.model_selection import train_test_split\n",
    "from num2words import num2words "
   ]
  },
  {
   "cell_type": "code",
   "execution_count": 2,
   "id": "5e8ec0b1",
   "metadata": {},
   "outputs": [],
   "source": [
    "pd.set_option('display.max_colwidth', None)"
   ]
  },
  {
   "cell_type": "code",
   "execution_count": 3,
   "id": "86ecc4a2",
   "metadata": {},
   "outputs": [],
   "source": [
    "df = pd.read_csv('Data_sets/data1_training.csv')"
   ]
  },
  {
   "cell_type": "code",
   "execution_count": 4,
   "id": "c4c8cffb",
   "metadata": {},
   "outputs": [
    {
     "data": {
      "text/html": [
       "<div>\n",
       "<style scoped>\n",
       "    .dataframe tbody tr th:only-of-type {\n",
       "        vertical-align: middle;\n",
       "    }\n",
       "\n",
       "    .dataframe tbody tr th {\n",
       "        vertical-align: top;\n",
       "    }\n",
       "\n",
       "    .dataframe thead th {\n",
       "        text-align: right;\n",
       "    }\n",
       "</style>\n",
       "<table border=\"1\" class=\"dataframe\">\n",
       "  <thead>\n",
       "    <tr style=\"text-align: right;\">\n",
       "      <th></th>\n",
       "      <th>sentiment</th>\n",
       "      <th>text</th>\n",
       "    </tr>\n",
       "  </thead>\n",
       "  <tbody>\n",
       "    <tr>\n",
       "      <th>0</th>\n",
       "      <td>0</td>\n",
       "      <td>awww bummer shoulda got david carr third day</td>\n",
       "    </tr>\n",
       "    <tr>\n",
       "      <th>1</th>\n",
       "      <td>0</td>\n",
       "      <td>upset cannot update facebook texting might cry result school today also blah</td>\n",
       "    </tr>\n",
       "    <tr>\n",
       "      <th>2</th>\n",
       "      <td>0</td>\n",
       "      <td>dived many times ball managed save rest go bounds</td>\n",
       "    </tr>\n",
       "    <tr>\n",
       "      <th>3</th>\n",
       "      <td>0</td>\n",
       "      <td>whole body feels itchy like fire</td>\n",
       "    </tr>\n",
       "    <tr>\n",
       "      <th>4</th>\n",
       "      <td>0</td>\n",
       "      <td>behaving mad cannot see</td>\n",
       "    </tr>\n",
       "    <tr>\n",
       "      <th>...</th>\n",
       "      <td>...</td>\n",
       "      <td>...</td>\n",
       "    </tr>\n",
       "    <tr>\n",
       "      <th>1332077</th>\n",
       "      <td>1</td>\n",
       "      <td>mmmm sounds absolutely perfect schedule full tears eyes lay bed sunday ugh</td>\n",
       "    </tr>\n",
       "    <tr>\n",
       "      <th>1332078</th>\n",
       "      <td>1</td>\n",
       "      <td>yeah work better waiting end wonder tears eyes keep good blog</td>\n",
       "    </tr>\n",
       "    <tr>\n",
       "      <th>1332079</th>\n",
       "      <td>1</td>\n",
       "      <td>cool hear old walt interviews</td>\n",
       "    </tr>\n",
       "    <tr>\n",
       "      <th>1332080</th>\n",
       "      <td>1</td>\n",
       "      <td>happy th birthday boo alll time tupac amaru shakur</td>\n",
       "    </tr>\n",
       "    <tr>\n",
       "      <th>1332081</th>\n",
       "      <td>1</td>\n",
       "      <td>happy</td>\n",
       "    </tr>\n",
       "  </tbody>\n",
       "</table>\n",
       "<p>1332082 rows × 2 columns</p>\n",
       "</div>"
      ],
      "text/plain": [
       "         sentiment  \\\n",
       "0                0   \n",
       "1                0   \n",
       "2                0   \n",
       "3                0   \n",
       "4                0   \n",
       "...            ...   \n",
       "1332077          1   \n",
       "1332078          1   \n",
       "1332079          1   \n",
       "1332080          1   \n",
       "1332081          1   \n",
       "\n",
       "                                                                                 text  \n",
       "0                                        awww bummer shoulda got david carr third day  \n",
       "1        upset cannot update facebook texting might cry result school today also blah  \n",
       "2                                   dived many times ball managed save rest go bounds  \n",
       "3                                                    whole body feels itchy like fire  \n",
       "4                                                             behaving mad cannot see  \n",
       "...                                                                               ...  \n",
       "1332077    mmmm sounds absolutely perfect schedule full tears eyes lay bed sunday ugh  \n",
       "1332078                 yeah work better waiting end wonder tears eyes keep good blog  \n",
       "1332079                                                 cool hear old walt interviews  \n",
       "1332080                            happy th birthday boo alll time tupac amaru shakur  \n",
       "1332081                                                                         happy  \n",
       "\n",
       "[1332082 rows x 2 columns]"
      ]
     },
     "execution_count": 4,
     "metadata": {},
     "output_type": "execute_result"
    }
   ],
   "source": [
    "df"
   ]
  },
  {
   "cell_type": "code",
   "execution_count": 5,
   "id": "2af46c27",
   "metadata": {},
   "outputs": [],
   "source": [
    "X = df['text']  # Features (text)\n",
    "y = df['sentiment']  # Labels (0 or 1)\n",
    "X_train, X_test, y_train, y_test = train_test_split(X, y, test_size=0.1, random_state=42)"
   ]
  },
  {
   "cell_type": "code",
   "execution_count": 6,
   "id": "d0a71216",
   "metadata": {},
   "outputs": [
    {
     "data": {
      "text/plain": [
       "166162     knowits like every day everyday next week revi...\n",
       "546953     oh wish could go atp documentary screening ifi...\n",
       "575127                                 stupid early saturday\n",
       "710038     hey girl picture partner crime took inside mil...\n",
       "1217254    lionel richie looking reaaally good someone pu...\n",
       "                                 ...                        \n",
       "110268     monday morning waiting results blood tests whi...\n",
       "259178                                        awww okay love\n",
       "131932     spent chatting friend tonight sued previous em...\n",
       "671155     okay last tweet retweet got name tied word mad...\n",
       "121958     in the summertime i constantly have the sensat...\n",
       "Name: text, Length: 1198873, dtype: object"
      ]
     },
     "execution_count": 6,
     "metadata": {},
     "output_type": "execute_result"
    }
   ],
   "source": [
    "X_train"
   ]
  },
  {
   "cell_type": "code",
   "execution_count": 7,
   "id": "ab77e1ac",
   "metadata": {},
   "outputs": [
    {
     "name": "stdout",
     "output_type": "stream",
     "text": [
      "(1198873, 392326)\n"
     ]
    }
   ],
   "source": [
    "tfidf_vectorizer_train = TfidfVectorizer()\n",
    "tfidf_vectorizer_train.fit(X)\n",
    "X_train_basic = tfidf_vectorizer_train.transform(X_train)\n",
    "X_test_basic = tfidf_vectorizer_train.transform(X_test)\n",
    "\n",
    "print(X_train_basic.shape)"
   ]
  },
  {
   "cell_type": "code",
   "execution_count": 8,
   "id": "f0d6b9df",
   "metadata": {},
   "outputs": [
    {
     "data": {
      "text/plain": [
       "(1198873,)"
      ]
     },
     "execution_count": 8,
     "metadata": {},
     "output_type": "execute_result"
    }
   ],
   "source": [
    "X_train.shape"
   ]
  },
  {
   "cell_type": "markdown",
   "id": "924e44d8",
   "metadata": {},
   "source": [
    "### Score and conf matrix function"
   ]
  },
  {
   "cell_type": "code",
   "execution_count": 9,
   "id": "f4a2eba2",
   "metadata": {},
   "outputs": [],
   "source": [
    "def metrixAndScoring(test, pred, fold=0): \n",
    "    if fold:\n",
    "        return [fold, precision_score(test, pred), recall_score(test, pred), f1_score(test, pred), accuracy_score(test, pred), roc_auc_score(test, pred)]\n",
    "    else:\n",
    "        # Compute ROC curve and ROC area for each class\n",
    "        fpr = dict()\n",
    "        tpr = dict()\n",
    "        roc_auc = dict()\n",
    "        fpr, tpr, _ = roc_curve(test, pred)\n",
    "        roc_auc = auc(fpr, tpr)\n",
    "\n",
    "        # Compute micro-average ROC curve and ROC area\n",
    "        fpr, tpr, _ = roc_curve(test.ravel(), pred.ravel())\n",
    "        roc_auc = auc(fpr, tpr)\n",
    "        f, axs = plt.subplots(1,3,figsize=(10,4),sharey=True)\n",
    "        f.tight_layout()\n",
    "        plt.subplot(1, 2, 1)\n",
    "        lw = 2\n",
    "        plt.plot(fpr, tpr, color='darkorange',lw=lw, label='ROC curve (area = %0.2f)' % roc_auc)\n",
    "        plt.plot([0, 1], [0, 1], color='navy', lw=lw, linestyle='--')\n",
    "        plt.xlim([0.0, 1.0])\n",
    "        plt.ylim([0.0, 1.05])\n",
    "        plt.xlabel('False Positive Rate')\n",
    "        plt.ylabel('True Positive Rate')\n",
    "        plt.title('Receiver operating characteristic curve')\n",
    "        plt.legend(loc=\"lower right\")\n",
    "        plt.subplot(1, 2, 2)\n",
    "        class_names = [0,1]  \n",
    "        \n",
    "        # Confusion Matrix Display\n",
    "        cf_matrix = confusion_matrix(test, pred)\n",
    "        group_names = [\"True Neg\",\"False Pos\",\"False Neg\",\"True Pos\"]\n",
    "        group_counts = [\"{0:0.0f}\".format(value) for value in cf_matrix.flatten()]\n",
    "        group_percentages = [\"{0:.2%}\".format(value) for value in cf_matrix.flatten()/np.sum(cf_matrix)]\n",
    "        labels = [f\"{v1}\\n{v2}\\n{v3}\" for v1, v2, v3 in zip(group_names,group_counts,group_percentages)]\n",
    "        labels = np.asarray(labels).reshape(2,2)\n",
    "        s = sns.heatmap(cf_matrix, annot=labels,fmt='')\n",
    "        s.set_title(\"Confusion metric\")\n",
    "        plt.show()\n",
    "        s.set(ylabel='True labels', xlabel='Predicted labels')\n",
    "        return [precision_score(test, pred), recall_score(test, pred), f1_score(test, pred), accuracy_score(test, pred), roc_auc_score(test, pred)] + group_percentages"
   ]
  },
  {
   "cell_type": "markdown",
   "id": "86fcadb9",
   "metadata": {},
   "source": [
    "### feature importance function"
   ]
  },
  {
   "cell_type": "code",
   "execution_count": 11,
   "id": "260af4de",
   "metadata": {},
   "outputs": [],
   "source": [
    "def variableImportance(model, X, y, reg):\n",
    "    plt.figure(figsize=(20,5))\n",
    "    # plot feature importance\n",
    "    if reg:\n",
    "        feat_importances = pd.Series(model.coef_[0], index=X.columns)\n",
    "        f, axs = plt.subplots(1,2,figsize=(20,5),sharey=True)\n",
    "        f.tight_layout()\n",
    "        plt.subplot(1, 2, 1)\n",
    "        feat_importances.nlargest(50).plot(kind='bar')\n",
    "        plt.title(\"Variable predicting class 1 (Target = 1)\")\n",
    "        plt.xlabel(\"Number of variables\")\n",
    "        plt.ylabel(\"Score\")\n",
    "        plt.xticks(fontsize=10)\n",
    "        plt.subplot(1, 2, 2)\n",
    "        feat_importances.nsmallest(50).plot(kind='bar')\n",
    "        plt.title(\"Variable predicting class 0 (Target = 0)\")\n",
    "        plt.xlabel(\"Number of variables\")\n",
    "        plt.ylabel(\"Score\")\n",
    "        plt.xticks(fontsize=10)\n",
    "        plt.show()\n",
    "    else:\n",
    "        feat_importances = pd.Series(model.feature_importances_, index=X.columns)\n",
    "        # plt.bar([x for x in range(len(importance))], importance)\n",
    "        feat_importances.nlargest(100).plot(kind='bar')\n",
    "        plt.title(\"Variable importance with positive effect (Target = 1)\")\n",
    "        plt.xlabel(\"Number of variables\")\n",
    "        plt.ylabel(\"Score\")\n",
    "        plt.xticks(fontsize=10)"
   ]
  },
  {
   "cell_type": "markdown",
   "id": "8961476a",
   "metadata": {},
   "source": [
    "### fitting function"
   ]
  },
  {
   "cell_type": "code",
   "execution_count": 12,
   "id": "148379f3",
   "metadata": {},
   "outputs": [],
   "source": [
    "AllScores = []\n",
    "def fittingModel(name, model, x_train, x_test ,y_train, y_test):\n",
    "    # fitting the data to the given model\n",
    "    model.fit(x_train, y_train)\n",
    "    # displaying the interpretated values\n",
    "    pred = model.predict(x_test)\n",
    "    returnValues = [name]+metrixAndScoring(y_test, pred)\n",
    "    AllScores.append(returnValues)\n",
    "    display(pd.DataFrame([[returnValues[1], returnValues[2], returnValues[3], returnValues[4], returnValues[5]]], columns=['Precision', 'Recall', 'F1', 'Accuracy', 'ROC AUC Score']).round(2))\n",
    "    return model, pred"
   ]
  },
  {
   "cell_type": "markdown",
   "id": "5e85820b",
   "metadata": {},
   "source": [
    "### displayin wrong classified examples"
   ]
  },
  {
   "cell_type": "code",
   "execution_count": 87,
   "id": "2dc546ce",
   "metadata": {},
   "outputs": [],
   "source": [
    "def wrong_classified(X_test, y_test, pred):\n",
    "    incorrectly_classified_mask = (pred != y_test)\n",
    "    incorrectly_classified_data = X_test.loc[incorrectly_classified_mask].to_frame()\n",
    "    incorrectly_classified_data['label'] = y_test[incorrectly_classified_mask]\n",
    "    incorrectly_classified_data['prediction'] = pred[incorrectly_classified_mask]\n",
    "\n",
    "    return incorrectly_classified_data.head(10)"
   ]
  },
  {
   "cell_type": "markdown",
   "id": "d0971564",
   "metadata": {},
   "source": [
    "## 1. Logistic regresion with most clean data"
   ]
  },
  {
   "cell_type": "code",
   "execution_count": 13,
   "id": "e34c4d26",
   "metadata": {},
   "outputs": [
    {
     "name": "stderr",
     "output_type": "stream",
     "text": [
      "/home/jmrozek/Documents/AI_ML/env/lib/python3.11/site-packages/sklearn/linear_model/_logistic.py:458: ConvergenceWarning: lbfgs failed to converge (status=1):\n",
      "STOP: TOTAL NO. of ITERATIONS REACHED LIMIT.\n",
      "\n",
      "Increase the number of iterations (max_iter) or scale the data as shown in:\n",
      "    https://scikit-learn.org/stable/modules/preprocessing.html\n",
      "Please also refer to the documentation for alternative solver options:\n",
      "    https://scikit-learn.org/stable/modules/linear_model.html#logistic-regression\n",
      "  n_iter_i = _check_optimize_result(\n",
      "/tmp/ipykernel_18736/2301599994.py:17: MatplotlibDeprecationWarning: Auto-removal of overlapping axes is deprecated since 3.6 and will be removed two minor releases later; explicitly call ax.remove() as needed.\n",
      "  plt.subplot(1, 2, 1)\n",
      "/tmp/ipykernel_18736/2301599994.py:27: MatplotlibDeprecationWarning: Auto-removal of overlapping axes is deprecated since 3.6 and will be removed two minor releases later; explicitly call ax.remove() as needed.\n",
      "  plt.subplot(1, 2, 2)\n"
     ]
    },
    {
     "data": {
      "image/png": "[encoded data removed]",
      "text/plain": [
       "<Figure size 1000x400 with 3 Axes>"
      ]
     },
     "metadata": {},
     "output_type": "display_data"
    },
    {
     "data": {
      "text/html": [
       "<div>\n",
       "<style scoped>\n",
       "    .dataframe tbody tr th:only-of-type {\n",
       "        vertical-align: middle;\n",
       "    }\n",
       "\n",
       "    .dataframe tbody tr th {\n",
       "        vertical-align: top;\n",
       "    }\n",
       "\n",
       "    .dataframe thead th {\n",
       "        text-align: right;\n",
       "    }\n",
       "</style>\n",
       "<table border=\"1\" class=\"dataframe\">\n",
       "  <thead>\n",
       "    <tr style=\"text-align: right;\">\n",
       "      <th></th>\n",
       "      <th>Precision</th>\n",
       "      <th>Recall</th>\n",
       "      <th>F1</th>\n",
       "      <th>Accuracy</th>\n",
       "      <th>ROC AUC Score</th>\n",
       "    </tr>\n",
       "  </thead>\n",
       "  <tbody>\n",
       "    <tr>\n",
       "      <th>0</th>\n",
       "      <td>0.78</td>\n",
       "      <td>0.8</td>\n",
       "      <td>0.79</td>\n",
       "      <td>0.79</td>\n",
       "      <td>0.79</td>\n",
       "    </tr>\n",
       "  </tbody>\n",
       "</table>\n",
       "</div>"
      ],
      "text/plain": [
       "   Precision  Recall    F1  Accuracy  ROC AUC Score\n",
       "0       0.78     0.8  0.79      0.79           0.79"
      ]
     },
     "metadata": {},
     "output_type": "display_data"
    }
   ],
   "source": [
    "from sklearn.linear_model import LogisticRegression\n",
    "\n",
    "log_model = fittingModel(\"LogisticRegression\" , LogisticRegression(),\n",
    "                         X_train_basic, X_test_basic, y_train, y_test)"
   ]
  },
  {
   "cell_type": "code",
   "execution_count": 90,
   "id": "329dde2d",
   "metadata": {},
   "outputs": [
    {
     "data": {
      "text/html": [
       "<div>\n",
       "<style scoped>\n",
       "    .dataframe tbody tr th:only-of-type {\n",
       "        vertical-align: middle;\n",
       "    }\n",
       "\n",
       "    .dataframe tbody tr th {\n",
       "        vertical-align: top;\n",
       "    }\n",
       "\n",
       "    .dataframe thead th {\n",
       "        text-align: right;\n",
       "    }\n",
       "</style>\n",
       "<table border=\"1\" class=\"dataframe\">\n",
       "  <thead>\n",
       "    <tr style=\"text-align: right;\">\n",
       "      <th></th>\n",
       "      <th>text</th>\n",
       "      <th>label</th>\n",
       "      <th>prediction</th>\n",
       "    </tr>\n",
       "  </thead>\n",
       "  <tbody>\n",
       "    <tr>\n",
       "      <th>378593</th>\n",
       "      <td>sitting wondering barbecue better quick countdown officially start wait</td>\n",
       "      <td>0</td>\n",
       "      <td>1</td>\n",
       "    </tr>\n",
       "    <tr>\n",
       "      <th>234331</th>\n",
       "      <td>found baby robin yardno mommie touch put woods hope finds cute opened mouth feed</td>\n",
       "      <td>0</td>\n",
       "      <td>1</td>\n",
       "    </tr>\n",
       "    <tr>\n",
       "      <th>1293940</th>\n",
       "      <td>tell us really feel going backforth sql compactfull mean data migration andor something else</td>\n",
       "      <td>1</td>\n",
       "      <td>0</td>\n",
       "    </tr>\n",
       "    <tr>\n",
       "      <th>235072</th>\n",
       "      <td>listened people ragging viola</td>\n",
       "      <td>0</td>\n",
       "      <td>1</td>\n",
       "    </tr>\n",
       "    <tr>\n",
       "      <th>1087348</th>\n",
       "      <td>want live vicariously</td>\n",
       "      <td>1</td>\n",
       "      <td>0</td>\n",
       "    </tr>\n",
       "    <tr>\n",
       "      <th>986044</th>\n",
       "      <td>go th floor official quiet floor</td>\n",
       "      <td>1</td>\n",
       "      <td>0</td>\n",
       "    </tr>\n",
       "    <tr>\n",
       "      <th>257760</th>\n",
       "      <td>wow laughing loud woke buahaha tears eyes difference lol cannot see background using itouch</td>\n",
       "      <td>0</td>\n",
       "      <td>1</td>\n",
       "    </tr>\n",
       "    <tr>\n",
       "      <th>948622</th>\n",
       "      <td>got work returned apartmentturned tv saw weather channel tell last</td>\n",
       "      <td>1</td>\n",
       "      <td>0</td>\n",
       "    </tr>\n",
       "    <tr>\n",
       "      <th>130547</th>\n",
       "      <td>google wave dev preview video firefox client crashed</td>\n",
       "      <td>0</td>\n",
       "      <td>1</td>\n",
       "    </tr>\n",
       "    <tr>\n",
       "      <th>325621</th>\n",
       "      <td>knw hv restrictions hey evryday quotlike alwaysquot inshalla spend like birthday may</td>\n",
       "      <td>0</td>\n",
       "      <td>1</td>\n",
       "    </tr>\n",
       "  </tbody>\n",
       "</table>\n",
       "</div>"
      ],
      "text/plain": [
       "                                                                                                 text  \\\n",
       "378593                        sitting wondering barbecue better quick countdown officially start wait   \n",
       "234331               found baby robin yardno mommie touch put woods hope finds cute opened mouth feed   \n",
       "1293940  tell us really feel going backforth sql compactfull mean data migration andor something else   \n",
       "235072                                                                  listened people ragging viola   \n",
       "1087348                                                                         want live vicariously   \n",
       "986044                                                               go th floor official quiet floor   \n",
       "257760    wow laughing loud woke buahaha tears eyes difference lol cannot see background using itouch   \n",
       "948622                             got work returned apartmentturned tv saw weather channel tell last   \n",
       "130547                                           google wave dev preview video firefox client crashed   \n",
       "325621           knw hv restrictions hey evryday quotlike alwaysquot inshalla spend like birthday may   \n",
       "\n",
       "         label  prediction  \n",
       "378593       0           1  \n",
       "234331       0           1  \n",
       "1293940      1           0  \n",
       "235072       0           1  \n",
       "1087348      1           0  \n",
       "986044       1           0  \n",
       "257760       0           1  \n",
       "948622       1           0  \n",
       "130547       0           1  \n",
       "325621       0           1  "
      ]
     },
     "execution_count": 90,
     "metadata": {},
     "output_type": "execute_result"
    }
   ],
   "source": [
    "wrong_classified(X_test, y_test, log_model[1])"
   ]
  },
  {
   "cell_type": "markdown",
   "id": "a7556258",
   "metadata": {},
   "source": [
    "# 2. NN"
   ]
  },
  {
   "cell_type": "markdown",
   "id": "65a95b30",
   "metadata": {},
   "source": [
    "## Splitting into test and val"
   ]
  },
  {
   "cell_type": "code",
   "execution_count": 44,
   "id": "7083eeb8",
   "metadata": {},
   "outputs": [],
   "source": [
    "X = df['text']  # Features (text)\n",
    "y = df['sentiment']  # Labels (0 or 1)\n",
    "X_train, X_test, y_train, y_test = train_test_split(X, y, test_size=0.1, random_state=42)"
   ]
  },
  {
   "cell_type": "code",
   "execution_count": 59,
   "id": "e3d88a8d",
   "metadata": {},
   "outputs": [],
   "source": [
    " # X_test, X_val, y_test, y_val = train_test_split(X_test, y_test, test_size=0.5, random_state=42)"
   ]
  },
  {
   "cell_type": "markdown",
   "id": "b0718199",
   "metadata": {},
   "source": [
    "### tokenization"
   ]
  },
  {
   "cell_type": "code",
   "execution_count": 47,
   "id": "f847dab3",
   "metadata": {},
   "outputs": [],
   "source": [
    "textToken = [text.split() for text in X_train]"
   ]
  },
  {
   "cell_type": "markdown",
   "id": "e1afcc1b",
   "metadata": {},
   "source": [
    "### creating embeeding model with wrod2vec"
   ]
  },
  {
   "cell_type": "code",
   "execution_count": 48,
   "id": "818c675c",
   "metadata": {},
   "outputs": [],
   "source": [
    "from gensim.models import Word2Vec\n",
    "import gensim\n",
    "import gensim.downloader as api"
   ]
  },
  {
   "cell_type": "code",
   "execution_count": 55,
   "id": "73cf5843",
   "metadata": {},
   "outputs": [],
   "source": [
    "# WORD2VEC \n",
    "WORD2VEC_MODEL = \"model.w2v\"\n",
    "W2V_SIZE = 300\n",
    "W2V_WINDOW = 7\n",
    "W2V_EPOCH = 32\n",
    "W2V_MIN_COUNT = 10"
   ]
  },
  {
   "cell_type": "code",
   "execution_count": 50,
   "id": "db8bab27",
   "metadata": {},
   "outputs": [],
   "source": [
    "w2v_model = gensim.models.word2vec.Word2Vec(vector_size=W2V_SIZE, \n",
    "                                            window=W2V_WINDOW, \n",
    "                                            min_count=W2V_MIN_COUNT, \n",
    "                                            workers=8)"
   ]
  },
  {
   "cell_type": "code",
   "execution_count": 51,
   "id": "7d905986",
   "metadata": {},
   "outputs": [],
   "source": [
    "w2v_model.build_vocab(textToken)"
   ]
  },
  {
   "cell_type": "code",
   "execution_count": 52,
   "id": "6870da42",
   "metadata": {},
   "outputs": [
    {
     "name": "stdout",
     "output_type": "stream",
     "text": [
      "Vocab size 32581\n"
     ]
    }
   ],
   "source": [
    "words = w2v_model.wv.key_to_index.keys()\n",
    "vocab_size = len(words)\n",
    "print(\"Vocab size\", vocab_size)"
   ]
  },
  {
   "cell_type": "code",
   "execution_count": 53,
   "id": "ff318231",
   "metadata": {},
   "outputs": [
    {
     "name": "stdout",
     "output_type": "stream",
     "text": [
      "CPU times: user 22min 59s, sys: 3.82 s, total: 23min 3s\n",
      "Wall time: 4min 9s\n"
     ]
    },
    {
     "data": {
      "text/plain": [
       "(265615583, 304501536)"
      ]
     },
     "execution_count": 53,
     "metadata": {},
     "output_type": "execute_result"
    }
   ],
   "source": [
    "%%time\n",
    "w2v_model.train(textToken, total_examples=len(textToken), epochs=W2V_EPOCH)\n"
   ]
  },
  {
   "cell_type": "code",
   "execution_count": 56,
   "id": "3579bd48",
   "metadata": {},
   "outputs": [
    {
     "data": {
      "text/plain": [
       "[('adore', 0.628588080406189),\n",
       " ('loves', 0.5329499840736389),\n",
       " ('loved', 0.5313991904258728),\n",
       " ('looove', 0.5162301659584045),\n",
       " ('lovee', 0.5027317404747009),\n",
       " ('lt', 0.49240684509277344),\n",
       " ('loove', 0.48155686259269714),\n",
       " ('miss', 0.4778088927268982),\n",
       " ('loooove', 0.46292611956596375),\n",
       " ('looooove', 0.4417315125465393)]"
      ]
     },
     "execution_count": 56,
     "metadata": {},
     "output_type": "execute_result"
    }
   ],
   "source": [
    "w2v_model.wv.most_similar(\"love\")"
   ]
  },
  {
   "cell_type": "code",
   "execution_count": 58,
   "id": "aac58cf5",
   "metadata": {},
   "outputs": [],
   "source": [
    "w2v_model.save(WORD2VEC_MODEL)"
   ]
  },
  {
   "cell_type": "markdown",
   "id": "fca90274",
   "metadata": {},
   "source": [
    "#### Tokenizer"
   ]
  },
  {
   "cell_type": "code",
   "execution_count": 65,
   "id": "a95fd21e",
   "metadata": {},
   "outputs": [
    {
     "name": "stderr",
     "output_type": "stream",
     "text": [
      "2023-11-03 19:19:37.662668: E tensorflow/compiler/xla/stream_executor/cuda/cuda_dnn.cc:9342] Unable to register cuDNN factory: Attempting to register factory for plugin cuDNN when one has already been registered\n",
      "2023-11-03 19:19:37.662710: E tensorflow/compiler/xla/stream_executor/cuda/cuda_fft.cc:609] Unable to register cuFFT factory: Attempting to register factory for plugin cuFFT when one has already been registered\n",
      "2023-11-03 19:19:37.662740: E tensorflow/compiler/xla/stream_executor/cuda/cuda_blas.cc:1518] Unable to register cuBLAS factory: Attempting to register factory for plugin cuBLAS when one has already been registered\n",
      "2023-11-03 19:19:37.669721: I tensorflow/core/platform/cpu_feature_guard.cc:182] This TensorFlow binary is optimized to use available CPU instructions in performance-critical operations.\n",
      "To enable the following instructions: AVX2 FMA, in other operations, rebuild TensorFlow with the appropriate compiler flags.\n",
      "2023-11-03 19:19:38.332123: W tensorflow/compiler/tf2tensorrt/utils/py_utils.cc:38] TF-TRT Warning: Could not find TensorRT\n"
     ]
    }
   ],
   "source": [
    "from keras.preprocessing.text import Tokenizer"
   ]
  },
  {
   "cell_type": "code",
   "execution_count": 66,
   "id": "8aed854d",
   "metadata": {},
   "outputs": [
    {
     "name": "stdout",
     "output_type": "stream",
     "text": [
      "Total words 364751\n",
      "CPU times: user 12.7 s, sys: 87.9 ms, total: 12.8 s\n",
      "Wall time: 12.8 s\n"
     ]
    }
   ],
   "source": [
    "%%time\n",
    "tokenizer = Tokenizer()\n",
    "tokenizer.fit_on_texts(X_train)\n",
    "\n",
    "vocab_size = len(tokenizer.word_index) + 1\n",
    "print(\"Total words\", vocab_size)"
   ]
  },
  {
   "cell_type": "code",
   "execution_count": null,
   "id": "fd8f6474",
   "metadata": {},
   "outputs": [],
   "source": []
  }
 ],
 "metadata": {
  "kernelspec": {
   "display_name": "Python 3 (ipykernel)",
   "language": "python",
   "name": "python3"
  },
  "language_info": {
   "codemirror_mode": {
    "name": "ipython",
    "version": 3
   },
   "file_extension": ".py",
   "mimetype": "text/x-python",
   "name": "python",
   "nbconvert_exporter": "python",
   "pygments_lexer": "ipython3",
   "version": "3.11.3"
  }
 },
 "nbformat": 4,
 "nbformat_minor": 5
}
