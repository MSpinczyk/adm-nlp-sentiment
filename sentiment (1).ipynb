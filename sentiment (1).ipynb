{
 "cells": [
  {
   "cell_type": "code",
   "execution_count": 1,
   "id": "561c0297",
   "metadata": {
    "execution": {
     "iopub.execute_input": "2023-11-06T22:01:06.009279Z",
     "iopub.status.busy": "2023-11-06T22:01:06.008827Z",
     "iopub.status.idle": "2023-11-06T22:01:22.271942Z",
     "shell.execute_reply": "2023-11-06T22:01:22.270150Z"
    },
    "papermill": {
     "duration": 16.28719,
     "end_time": "2023-11-06T22:01:22.275519",
     "exception": false,
     "start_time": "2023-11-06T22:01:05.988329",
     "status": "completed"
    },
    "tags": []
   },
   "outputs": [
    {
     "name": "stdout",
     "output_type": "stream",
     "text": [
      "Collecting num2words\r\n",
      "  Downloading num2words-0.5.13-py3-none-any.whl (143 kB)\r\n",
      "\u001b[2K     \u001b[90m━━━━━━━━━━━━━━━━━━━━━━━━━━━━━━━━━━━━━━━\u001b[0m \u001b[32m143.3/143.3 kB\u001b[0m \u001b[31m4.6 MB/s\u001b[0m eta \u001b[36m0:00:00\u001b[0m\r\n",
      "\u001b[?25hRequirement already satisfied: docopt>=0.6.2 in /opt/conda/lib/python3.10/site-packages (from num2words) (0.6.2)\r\n",
      "Installing collected packages: num2words\r\n",
      "Successfully installed num2words-0.5.13\r\n"
     ]
    }
   ],
   "source": [
    "!pip install num2words"
   ]
  },
  {
   "cell_type": "code",
   "execution_count": 2,
   "id": "a7263734",
   "metadata": {
    "execution": {
     "iopub.execute_input": "2023-11-06T22:01:22.315042Z",
     "iopub.status.busy": "2023-11-06T22:01:22.314519Z",
     "iopub.status.idle": "2023-11-06T22:01:25.798913Z",
     "shell.execute_reply": "2023-11-06T22:01:25.797615Z"
    },
    "papermill": {
     "duration": 3.508788,
     "end_time": "2023-11-06T22:01:25.802860",
     "exception": false,
     "start_time": "2023-11-06T22:01:22.294072",
     "status": "completed"
    },
    "tags": []
   },
   "outputs": [],
   "source": [
    "import pandas as pd\n",
    "import matplotlib.pyplot as plt\n",
    "import seaborn as sns\n",
    "import numpy as np\n",
    "from wordcloud import WordCloud\n",
    "import nltk\n",
    "from sklearn.inspection import permutation_importance\n",
    "from sklearn.model_selection import train_test_split\n",
    "from sklearn.metrics import precision_score, recall_score, f1_score, accuracy_score, roc_auc_score, roc_curve, auc, confusion_matrix, ConfusionMatrixDisplay\n",
    "from sklearn.feature_extraction.text import TfidfVectorizer\n",
    "from nltk.corpus import stopwords\n",
    "from sklearn.model_selection import train_test_split\n",
    "from num2words import num2words "
   ]
  },
  {
   "cell_type": "code",
   "execution_count": 3,
   "id": "8fbd85fb",
   "metadata": {
    "execution": {
     "iopub.execute_input": "2023-11-06T22:01:25.843041Z",
     "iopub.status.busy": "2023-11-06T22:01:25.841402Z",
     "iopub.status.idle": "2023-11-06T22:01:25.847920Z",
     "shell.execute_reply": "2023-11-06T22:01:25.846898Z"
    },
    "papermill": {
     "duration": 0.029092,
     "end_time": "2023-11-06T22:01:25.850394",
     "exception": false,
     "start_time": "2023-11-06T22:01:25.821302",
     "status": "completed"
    },
    "tags": []
   },
   "outputs": [],
   "source": [
    "pd.set_option('display.max_colwidth', None)"
   ]
  },
  {
   "cell_type": "code",
   "execution_count": 4,
   "id": "ea2b6c8a",
   "metadata": {
    "execution": {
     "iopub.execute_input": "2023-11-06T22:01:25.890645Z",
     "iopub.status.busy": "2023-11-06T22:01:25.889851Z",
     "iopub.status.idle": "2023-11-06T22:01:28.585215Z",
     "shell.execute_reply": "2023-11-06T22:01:28.584143Z"
    },
    "papermill": {
     "duration": 2.718834,
     "end_time": "2023-11-06T22:01:28.588295",
     "exception": false,
     "start_time": "2023-11-06T22:01:25.869461",
     "status": "completed"
    },
    "tags": []
   },
   "outputs": [],
   "source": [
    "df = pd.read_csv('/kaggle/input/data-sentiment/data1_training.csv')"
   ]
  },
  {
   "cell_type": "code",
   "execution_count": 5,
   "id": "de1933a5",
   "metadata": {
    "execution": {
     "iopub.execute_input": "2023-11-06T22:01:28.629365Z",
     "iopub.status.busy": "2023-11-06T22:01:28.628616Z",
     "iopub.status.idle": "2023-11-06T22:01:28.655244Z",
     "shell.execute_reply": "2023-11-06T22:01:28.653820Z"
    },
    "papermill": {
     "duration": 0.050492,
     "end_time": "2023-11-06T22:01:28.658135",
     "exception": false,
     "start_time": "2023-11-06T22:01:28.607643",
     "status": "completed"
    },
    "tags": []
   },
   "outputs": [
    {
     "data": {
      "text/html": [
       "<div>\n",
       "<style scoped>\n",
       "    .dataframe tbody tr th:only-of-type {\n",
       "        vertical-align: middle;\n",
       "    }\n",
       "\n",
       "    .dataframe tbody tr th {\n",
       "        vertical-align: top;\n",
       "    }\n",
       "\n",
       "    .dataframe thead th {\n",
       "        text-align: right;\n",
       "    }\n",
       "</style>\n",
       "<table border=\"1\" class=\"dataframe\">\n",
       "  <thead>\n",
       "    <tr style=\"text-align: right;\">\n",
       "      <th></th>\n",
       "      <th>sentiment</th>\n",
       "      <th>text</th>\n",
       "    </tr>\n",
       "  </thead>\n",
       "  <tbody>\n",
       "    <tr>\n",
       "      <th>0</th>\n",
       "      <td>0</td>\n",
       "      <td>awww bummer shoulda got david carr third day</td>\n",
       "    </tr>\n",
       "    <tr>\n",
       "      <th>1</th>\n",
       "      <td>0</td>\n",
       "      <td>upset cannot update facebook texting might cry result school today also blah</td>\n",
       "    </tr>\n",
       "    <tr>\n",
       "      <th>2</th>\n",
       "      <td>0</td>\n",
       "      <td>dived many times ball managed save rest go bounds</td>\n",
       "    </tr>\n",
       "    <tr>\n",
       "      <th>3</th>\n",
       "      <td>0</td>\n",
       "      <td>whole body feels itchy like fire</td>\n",
       "    </tr>\n",
       "    <tr>\n",
       "      <th>4</th>\n",
       "      <td>0</td>\n",
       "      <td>behaving mad cannot see</td>\n",
       "    </tr>\n",
       "    <tr>\n",
       "      <th>...</th>\n",
       "      <td>...</td>\n",
       "      <td>...</td>\n",
       "    </tr>\n",
       "    <tr>\n",
       "      <th>1332077</th>\n",
       "      <td>1</td>\n",
       "      <td>mmmm sounds absolutely perfect schedule full tears eyes lay bed sunday ugh</td>\n",
       "    </tr>\n",
       "    <tr>\n",
       "      <th>1332078</th>\n",
       "      <td>1</td>\n",
       "      <td>yeah work better waiting end wonder tears eyes keep good blog</td>\n",
       "    </tr>\n",
       "    <tr>\n",
       "      <th>1332079</th>\n",
       "      <td>1</td>\n",
       "      <td>cool hear old walt interviews</td>\n",
       "    </tr>\n",
       "    <tr>\n",
       "      <th>1332080</th>\n",
       "      <td>1</td>\n",
       "      <td>happy th birthday boo alll time tupac amaru shakur</td>\n",
       "    </tr>\n",
       "    <tr>\n",
       "      <th>1332081</th>\n",
       "      <td>1</td>\n",
       "      <td>happy</td>\n",
       "    </tr>\n",
       "  </tbody>\n",
       "</table>\n",
       "<p>1332082 rows × 2 columns</p>\n",
       "</div>"
      ],
      "text/plain": [
       "         sentiment  \\\n",
       "0                0   \n",
       "1                0   \n",
       "2                0   \n",
       "3                0   \n",
       "4                0   \n",
       "...            ...   \n",
       "1332077          1   \n",
       "1332078          1   \n",
       "1332079          1   \n",
       "1332080          1   \n",
       "1332081          1   \n",
       "\n",
       "                                                                                 text  \n",
       "0                                        awww bummer shoulda got david carr third day  \n",
       "1        upset cannot update facebook texting might cry result school today also blah  \n",
       "2                                   dived many times ball managed save rest go bounds  \n",
       "3                                                    whole body feels itchy like fire  \n",
       "4                                                             behaving mad cannot see  \n",
       "...                                                                               ...  \n",
       "1332077    mmmm sounds absolutely perfect schedule full tears eyes lay bed sunday ugh  \n",
       "1332078                 yeah work better waiting end wonder tears eyes keep good blog  \n",
       "1332079                                                 cool hear old walt interviews  \n",
       "1332080                            happy th birthday boo alll time tupac amaru shakur  \n",
       "1332081                                                                         happy  \n",
       "\n",
       "[1332082 rows x 2 columns]"
      ]
     },
     "execution_count": 5,
     "metadata": {},
     "output_type": "execute_result"
    }
   ],
   "source": [
    "df"
   ]
  },
  {
   "cell_type": "code",
   "execution_count": 6,
   "id": "cc1c37a8",
   "metadata": {
    "execution": {
     "iopub.execute_input": "2023-11-06T22:01:28.697890Z",
     "iopub.status.busy": "2023-11-06T22:01:28.697362Z",
     "iopub.status.idle": "2023-11-06T22:01:29.102765Z",
     "shell.execute_reply": "2023-11-06T22:01:29.101661Z"
    },
    "papermill": {
     "duration": 0.428935,
     "end_time": "2023-11-06T22:01:29.105973",
     "exception": false,
     "start_time": "2023-11-06T22:01:28.677038",
     "status": "completed"
    },
    "tags": []
   },
   "outputs": [],
   "source": [
    "X = df['text']  # Features (text)\n",
    "y = df['sentiment']  # Labels (0 or 1)\n",
    "X_train, X_test, y_train, y_test = train_test_split(X, y, test_size=0.1, random_state=42)"
   ]
  },
  {
   "cell_type": "code",
   "execution_count": 7,
   "id": "f47aa69b",
   "metadata": {
    "execution": {
     "iopub.execute_input": "2023-11-06T22:01:29.145863Z",
     "iopub.status.busy": "2023-11-06T22:01:29.145337Z",
     "iopub.status.idle": "2023-11-06T22:01:29.157027Z",
     "shell.execute_reply": "2023-11-06T22:01:29.155827Z"
    },
    "papermill": {
     "duration": 0.035703,
     "end_time": "2023-11-06T22:01:29.160636",
     "exception": false,
     "start_time": "2023-11-06T22:01:29.124933",
     "status": "completed"
    },
    "tags": []
   },
   "outputs": [
    {
     "data": {
      "text/plain": [
       "166162                    knowits like every day everyday next week revising dreading nxt week coz got six exams\n",
       "546953                 oh wish could go atp documentary screening ifi tomorrow night followed dj set barry hogan\n",
       "575127                                                                                     stupid early saturday\n",
       "710038                                    hey girl picture partner crime took inside millers bar send one please\n",
       "1217254                                                      lionel richie looking reaaally good someone pushing\n",
       "                                                           ...                                                  \n",
       "110268     monday morning waiting results blood tests white cell count hate chemo could watch farrah documentary\n",
       "259178                                                                                            awww okay love\n",
       "131932                     spent chatting friend tonight sued previous employer talking old customers contractor\n",
       "671155                                     okay last tweet retweet got name tied word madness time go bed gnight\n",
       "121958                          in the summertime i constantly have the sensation of bugs or crawling on my skin\n",
       "Name: text, Length: 1198873, dtype: object"
      ]
     },
     "execution_count": 7,
     "metadata": {},
     "output_type": "execute_result"
    }
   ],
   "source": [
    "X_train"
   ]
  },
  {
   "cell_type": "code",
   "execution_count": 8,
   "id": "b6dc4003",
   "metadata": {
    "execution": {
     "iopub.execute_input": "2023-11-06T22:01:29.202092Z",
     "iopub.status.busy": "2023-11-06T22:01:29.201633Z",
     "iopub.status.idle": "2023-11-06T22:02:13.622483Z",
     "shell.execute_reply": "2023-11-06T22:02:13.621049Z"
    },
    "papermill": {
     "duration": 44.464481,
     "end_time": "2023-11-06T22:02:13.644556",
     "exception": false,
     "start_time": "2023-11-06T22:01:29.180075",
     "status": "completed"
    },
    "tags": []
   },
   "outputs": [
    {
     "name": "stdout",
     "output_type": "stream",
     "text": [
      "(1198873, 392326)\n"
     ]
    }
   ],
   "source": [
    "tfidf_vectorizer_train = TfidfVectorizer()\n",
    "tfidf_vectorizer_train.fit(X)\n",
    "X_train_basic = tfidf_vectorizer_train.transform(X_train)\n",
    "X_test_basic = tfidf_vectorizer_train.transform(X_test)\n",
    "\n",
    "print(X_train_basic.shape)"
   ]
  },
  {
   "cell_type": "code",
   "execution_count": 9,
   "id": "aa6b025b",
   "metadata": {
    "execution": {
     "iopub.execute_input": "2023-11-06T22:02:13.688235Z",
     "iopub.status.busy": "2023-11-06T22:02:13.687452Z",
     "iopub.status.idle": "2023-11-06T22:02:13.694939Z",
     "shell.execute_reply": "2023-11-06T22:02:13.693813Z"
    },
    "papermill": {
     "duration": 0.032093,
     "end_time": "2023-11-06T22:02:13.697578",
     "exception": false,
     "start_time": "2023-11-06T22:02:13.665485",
     "status": "completed"
    },
    "tags": []
   },
   "outputs": [
    {
     "data": {
      "text/plain": [
       "(1198873,)"
      ]
     },
     "execution_count": 9,
     "metadata": {},
     "output_type": "execute_result"
    }
   ],
   "source": [
    "X_train.shape"
   ]
  },
  {
   "cell_type": "markdown",
   "id": "e786359a",
   "metadata": {
    "papermill": {
     "duration": 0.018728,
     "end_time": "2023-11-06T22:02:13.735434",
     "exception": false,
     "start_time": "2023-11-06T22:02:13.716706",
     "status": "completed"
    },
    "tags": []
   },
   "source": [
    "### Score and conf matrix function"
   ]
  },
  {
   "cell_type": "code",
   "execution_count": 10,
   "id": "4e0c70bc",
   "metadata": {
    "execution": {
     "iopub.execute_input": "2023-11-06T22:02:13.776484Z",
     "iopub.status.busy": "2023-11-06T22:02:13.775791Z",
     "iopub.status.idle": "2023-11-06T22:02:13.795052Z",
     "shell.execute_reply": "2023-11-06T22:02:13.794009Z"
    },
    "papermill": {
     "duration": 0.043528,
     "end_time": "2023-11-06T22:02:13.798010",
     "exception": false,
     "start_time": "2023-11-06T22:02:13.754482",
     "status": "completed"
    },
    "tags": []
   },
   "outputs": [],
   "source": [
    "def metrixAndScoring(test, pred, fold=0): \n",
    "    if fold:\n",
    "        return [fold, precision_score(test, pred), recall_score(test, pred), f1_score(test, pred), accuracy_score(test, pred), roc_auc_score(test, pred)]\n",
    "    else:\n",
    "        # Compute ROC curve and ROC area for each class\n",
    "        fpr = dict()\n",
    "        tpr = dict()\n",
    "        roc_auc = dict()\n",
    "        fpr, tpr, _ = roc_curve(test, pred)\n",
    "        roc_auc = auc(fpr, tpr)\n",
    "\n",
    "        # Compute micro-average ROC curve and ROC area\n",
    "        fpr, tpr, _ = roc_curve(test.ravel(), pred.ravel())\n",
    "        roc_auc = auc(fpr, tpr)\n",
    "        f, axs = plt.subplots(1,3,figsize=(10,4),sharey=True)\n",
    "        f.tight_layout()\n",
    "        plt.subplot(1, 2, 1)\n",
    "        lw = 2\n",
    "        plt.plot(fpr, tpr, color='darkorange',lw=lw, label='ROC curve (area = %0.2f)' % roc_auc)\n",
    "        plt.plot([0, 1], [0, 1], color='navy', lw=lw, linestyle='--')\n",
    "        plt.xlim([0.0, 1.0])\n",
    "        plt.ylim([0.0, 1.05])\n",
    "        plt.xlabel('False Positive Rate')\n",
    "        plt.ylabel('True Positive Rate')\n",
    "        plt.title('Receiver operating characteristic curve')\n",
    "        plt.legend(loc=\"lower right\")\n",
    "        plt.subplot(1, 2, 2)\n",
    "        class_names = [0,1]  \n",
    "        \n",
    "        # Confusion Matrix Display\n",
    "        cf_matrix = confusion_matrix(test, pred)\n",
    "        group_names = [\"True Neg\",\"False Pos\",\"False Neg\",\"True Pos\"]\n",
    "        group_counts = [\"{0:0.0f}\".format(value) for value in cf_matrix.flatten()]\n",
    "        group_percentages = [\"{0:.2%}\".format(value) for value in cf_matrix.flatten()/np.sum(cf_matrix)]\n",
    "        labels = [f\"{v1}\\n{v2}\\n{v3}\" for v1, v2, v3 in zip(group_names,group_counts,group_percentages)]\n",
    "        labels = np.asarray(labels).reshape(2,2)\n",
    "        s = sns.heatmap(cf_matrix, annot=labels,fmt='')\n",
    "        s.set_title(\"Confusion metric\")\n",
    "        plt.show()\n",
    "        s.set(ylabel='True labels', xlabel='Predicted labels')\n",
    "        return [precision_score(test, pred), recall_score(test, pred), f1_score(test, pred), accuracy_score(test, pred), roc_auc_score(test, pred)] + group_percentages"
   ]
  },
  {
   "cell_type": "markdown",
   "id": "09d66392",
   "metadata": {
    "papermill": {
     "duration": 0.019329,
     "end_time": "2023-11-06T22:02:13.944375",
     "exception": false,
     "start_time": "2023-11-06T22:02:13.925046",
     "status": "completed"
    },
    "tags": []
   },
   "source": [
    "### feature importance function"
   ]
  },
  {
   "cell_type": "code",
   "execution_count": 11,
   "id": "4987da17",
   "metadata": {
    "execution": {
     "iopub.execute_input": "2023-11-06T22:02:13.985470Z",
     "iopub.status.busy": "2023-11-06T22:02:13.984527Z",
     "iopub.status.idle": "2023-11-06T22:02:13.996291Z",
     "shell.execute_reply": "2023-11-06T22:02:13.995319Z"
    },
    "papermill": {
     "duration": 0.035653,
     "end_time": "2023-11-06T22:02:13.999228",
     "exception": false,
     "start_time": "2023-11-06T22:02:13.963575",
     "status": "completed"
    },
    "tags": []
   },
   "outputs": [],
   "source": [
    "def variableImportance(model, X, y, reg):\n",
    "    plt.figure(figsize=(20,5))\n",
    "    # plot feature importance\n",
    "    if reg:\n",
    "        feat_importances = pd.Series(model.coef_[0], index=X.columns)\n",
    "        f, axs = plt.subplots(1,2,figsize=(20,5),sharey=True)\n",
    "        f.tight_layout()\n",
    "        plt.subplot(1, 2, 1)\n",
    "        feat_importances.nlargest(50).plot(kind='bar')\n",
    "        plt.title(\"Variable predicting class 1 (Target = 1)\")\n",
    "        plt.xlabel(\"Number of variables\")\n",
    "        plt.ylabel(\"Score\")\n",
    "        plt.xticks(fontsize=10)\n",
    "        plt.subplot(1, 2, 2)\n",
    "        feat_importances.nsmallest(50).plot(kind='bar')\n",
    "        plt.title(\"Variable predicting class 0 (Target = 0)\")\n",
    "        plt.xlabel(\"Number of variables\")\n",
    "        plt.ylabel(\"Score\")\n",
    "        plt.xticks(fontsize=10)\n",
    "        plt.show()\n",
    "    else:\n",
    "        feat_importances = pd.Series(model.feature_importances_, index=X.columns)\n",
    "        # plt.bar([x for x in range(len(importance))], importance)\n",
    "        feat_importances.nlargest(100).plot(kind='bar')\n",
    "        plt.title(\"Variable importance with positive effect (Target = 1)\")\n",
    "        plt.xlabel(\"Number of variables\")\n",
    "        plt.ylabel(\"Score\")\n",
    "        plt.xticks(fontsize=10)"
   ]
  },
  {
   "cell_type": "markdown",
   "id": "d52737f4",
   "metadata": {
    "papermill": {
     "duration": 0.018859,
     "end_time": "2023-11-06T22:02:14.037183",
     "exception": false,
     "start_time": "2023-11-06T22:02:14.018324",
     "status": "completed"
    },
    "tags": []
   },
   "source": [
    "### fitting function"
   ]
  },
  {
   "cell_type": "code",
   "execution_count": 12,
   "id": "f968e3c0",
   "metadata": {
    "execution": {
     "iopub.execute_input": "2023-11-06T22:02:14.079311Z",
     "iopub.status.busy": "2023-11-06T22:02:14.078336Z",
     "iopub.status.idle": "2023-11-06T22:02:14.086944Z",
     "shell.execute_reply": "2023-11-06T22:02:14.086011Z"
    },
    "papermill": {
     "duration": 0.032487,
     "end_time": "2023-11-06T22:02:14.089663",
     "exception": false,
     "start_time": "2023-11-06T22:02:14.057176",
     "status": "completed"
    },
    "tags": []
   },
   "outputs": [],
   "source": [
    "AllScores = []\n",
    "def fittingModel(name, model, x_train, x_test ,y_train, y_test):\n",
    "    # fitting the data to the given model\n",
    "    model.fit(x_train, y_train)\n",
    "    # displaying the interpretated values\n",
    "    pred = model.predict(x_test)\n",
    "    returnValues = [name]+metrixAndScoring(y_test, pred)\n",
    "    AllScores.append(returnValues)\n",
    "    display(pd.DataFrame([[returnValues[1], returnValues[2], returnValues[3], returnValues[4], returnValues[5]]], columns=['Precision', 'Recall', 'F1', 'Accuracy', 'ROC AUC Score']).round(2))\n",
    "    return model, pred"
   ]
  },
  {
   "cell_type": "markdown",
   "id": "2d9515c1",
   "metadata": {
    "papermill": {
     "duration": 0.019001,
     "end_time": "2023-11-06T22:02:14.128200",
     "exception": false,
     "start_time": "2023-11-06T22:02:14.109199",
     "status": "completed"
    },
    "tags": []
   },
   "source": [
    "### displayin wrong classified examples"
   ]
  },
  {
   "cell_type": "code",
   "execution_count": 13,
   "id": "7d20cf4e",
   "metadata": {
    "execution": {
     "iopub.execute_input": "2023-11-06T22:02:14.170279Z",
     "iopub.status.busy": "2023-11-06T22:02:14.169191Z",
     "iopub.status.idle": "2023-11-06T22:02:14.176725Z",
     "shell.execute_reply": "2023-11-06T22:02:14.175712Z"
    },
    "papermill": {
     "duration": 0.032119,
     "end_time": "2023-11-06T22:02:14.179515",
     "exception": false,
     "start_time": "2023-11-06T22:02:14.147396",
     "status": "completed"
    },
    "tags": []
   },
   "outputs": [],
   "source": [
    "def wrong_classified(X_test, y_test, pred):\n",
    "    incorrectly_classified_mask = (pred != y_test)\n",
    "    incorrectly_classified_data = X_test.loc[incorrectly_classified_mask].to_frame()\n",
    "    incorrectly_classified_data['label'] = y_test[incorrectly_classified_mask]\n",
    "    incorrectly_classified_data['prediction'] = pred[incorrectly_classified_mask]\n",
    "\n",
    "    return incorrectly_classified_data.head(10)"
   ]
  },
  {
   "cell_type": "markdown",
   "id": "e8665c28",
   "metadata": {
    "papermill": {
     "duration": 0.019023,
     "end_time": "2023-11-06T22:02:14.218055",
     "exception": false,
     "start_time": "2023-11-06T22:02:14.199032",
     "status": "completed"
    },
    "tags": []
   },
   "source": [
    "## 1. Logistic regresion with most clean data"
   ]
  },
  {
   "cell_type": "code",
   "execution_count": 14,
   "id": "53ab5128",
   "metadata": {
    "execution": {
     "iopub.execute_input": "2023-11-06T22:02:14.258883Z",
     "iopub.status.busy": "2023-11-06T22:02:14.258366Z",
     "iopub.status.idle": "2023-11-06T22:02:55.649015Z",
     "shell.execute_reply": "2023-11-06T22:02:55.646219Z"
    },
    "papermill": {
     "duration": 41.414882,
     "end_time": "2023-11-06T22:02:55.652158",
     "exception": false,
     "start_time": "2023-11-06T22:02:14.237276",
     "status": "completed"
    },
    "tags": []
   },
   "outputs": [
    {
     "name": "stderr",
     "output_type": "stream",
     "text": [
      "/opt/conda/lib/python3.10/site-packages/sklearn/linear_model/_logistic.py:458: ConvergenceWarning: lbfgs failed to converge (status=1):\n",
      "STOP: TOTAL NO. of ITERATIONS REACHED LIMIT.\n",
      "\n",
      "Increase the number of iterations (max_iter) or scale the data as shown in:\n",
      "    https://scikit-learn.org/stable/modules/preprocessing.html\n",
      "Please also refer to the documentation for alternative solver options:\n",
      "    https://scikit-learn.org/stable/modules/linear_model.html#logistic-regression\n",
      "  n_iter_i = _check_optimize_result(\n",
      "/tmp/ipykernel_20/2301599994.py:17: MatplotlibDeprecationWarning: Auto-removal of overlapping axes is deprecated since 3.6 and will be removed two minor releases later; explicitly call ax.remove() as needed.\n",
      "  plt.subplot(1, 2, 1)\n",
      "/tmp/ipykernel_20/2301599994.py:27: MatplotlibDeprecationWarning: Auto-removal of overlapping axes is deprecated since 3.6 and will be removed two minor releases later; explicitly call ax.remove() as needed.\n",
      "  plt.subplot(1, 2, 2)\n"
     ]
    },
    {
     "data": {
      "image/png": "[encoded data removed]",
      "text/plain": [
       "<Figure size 1000x400 with 3 Axes>"
      ]
     },
     "metadata": {},
     "output_type": "display_data"
    },
    {
     "data": {
      "text/html": [
       "<div>\n",
       "<style scoped>\n",
       "    .dataframe tbody tr th:only-of-type {\n",
       "        vertical-align: middle;\n",
       "    }\n",
       "\n",
       "    .dataframe tbody tr th {\n",
       "        vertical-align: top;\n",
       "    }\n",
       "\n",
       "    .dataframe thead th {\n",
       "        text-align: right;\n",
       "    }\n",
       "</style>\n",
       "<table border=\"1\" class=\"dataframe\">\n",
       "  <thead>\n",
       "    <tr style=\"text-align: right;\">\n",
       "      <th></th>\n",
       "      <th>Precision</th>\n",
       "      <th>Recall</th>\n",
       "      <th>F1</th>\n",
       "      <th>Accuracy</th>\n",
       "      <th>ROC AUC Score</th>\n",
       "    </tr>\n",
       "  </thead>\n",
       "  <tbody>\n",
       "    <tr>\n",
       "      <th>0</th>\n",
       "      <td>0.78</td>\n",
       "      <td>0.8</td>\n",
       "      <td>0.79</td>\n",
       "      <td>0.79</td>\n",
       "      <td>0.79</td>\n",
       "    </tr>\n",
       "  </tbody>\n",
       "</table>\n",
       "</div>"
      ],
      "text/plain": [
       "   Precision  Recall    F1  Accuracy  ROC AUC Score\n",
       "0       0.78     0.8  0.79      0.79           0.79"
      ]
     },
     "metadata": {},
     "output_type": "display_data"
    }
   ],
   "source": [
    "from sklearn.linear_model import LogisticRegression\n",
    "\n",
    "log_model = fittingModel(\"LogisticRegression\" , LogisticRegression(),\n",
    "                         X_train_basic, X_test_basic, y_train, y_test)"
   ]
  },
  {
   "cell_type": "code",
   "execution_count": 15,
   "id": "c1a8c5f7",
   "metadata": {
    "execution": {
     "iopub.execute_input": "2023-11-06T22:02:55.698421Z",
     "iopub.status.busy": "2023-11-06T22:02:55.697401Z",
     "iopub.status.idle": "2023-11-06T22:02:55.719449Z",
     "shell.execute_reply": "2023-11-06T22:02:55.718113Z"
    },
    "papermill": {
     "duration": 0.04858,
     "end_time": "2023-11-06T22:02:55.722638",
     "exception": false,
     "start_time": "2023-11-06T22:02:55.674058",
     "status": "completed"
    },
    "tags": []
   },
   "outputs": [
    {
     "data": {
      "text/html": [
       "<div>\n",
       "<style scoped>\n",
       "    .dataframe tbody tr th:only-of-type {\n",
       "        vertical-align: middle;\n",
       "    }\n",
       "\n",
       "    .dataframe tbody tr th {\n",
       "        vertical-align: top;\n",
       "    }\n",
       "\n",
       "    .dataframe thead th {\n",
       "        text-align: right;\n",
       "    }\n",
       "</style>\n",
       "<table border=\"1\" class=\"dataframe\">\n",
       "  <thead>\n",
       "    <tr style=\"text-align: right;\">\n",
       "      <th></th>\n",
       "      <th>text</th>\n",
       "      <th>label</th>\n",
       "      <th>prediction</th>\n",
       "    </tr>\n",
       "  </thead>\n",
       "  <tbody>\n",
       "    <tr>\n",
       "      <th>378593</th>\n",
       "      <td>sitting wondering barbecue better quick countdown officially start wait</td>\n",
       "      <td>0</td>\n",
       "      <td>1</td>\n",
       "    </tr>\n",
       "    <tr>\n",
       "      <th>234331</th>\n",
       "      <td>found baby robin yardno mommie touch put woods hope finds cute opened mouth feed</td>\n",
       "      <td>0</td>\n",
       "      <td>1</td>\n",
       "    </tr>\n",
       "    <tr>\n",
       "      <th>1293940</th>\n",
       "      <td>tell us really feel going backforth sql compactfull mean data migration andor something else</td>\n",
       "      <td>1</td>\n",
       "      <td>0</td>\n",
       "    </tr>\n",
       "    <tr>\n",
       "      <th>235072</th>\n",
       "      <td>listened people ragging viola</td>\n",
       "      <td>0</td>\n",
       "      <td>1</td>\n",
       "    </tr>\n",
       "    <tr>\n",
       "      <th>1087348</th>\n",
       "      <td>want live vicariously</td>\n",
       "      <td>1</td>\n",
       "      <td>0</td>\n",
       "    </tr>\n",
       "    <tr>\n",
       "      <th>986044</th>\n",
       "      <td>go th floor official quiet floor</td>\n",
       "      <td>1</td>\n",
       "      <td>0</td>\n",
       "    </tr>\n",
       "    <tr>\n",
       "      <th>257760</th>\n",
       "      <td>wow laughing loud woke buahaha tears eyes difference lol cannot see background using itouch</td>\n",
       "      <td>0</td>\n",
       "      <td>1</td>\n",
       "    </tr>\n",
       "    <tr>\n",
       "      <th>948622</th>\n",
       "      <td>got work returned apartmentturned tv saw weather channel tell last</td>\n",
       "      <td>1</td>\n",
       "      <td>0</td>\n",
       "    </tr>\n",
       "    <tr>\n",
       "      <th>130547</th>\n",
       "      <td>google wave dev preview video firefox client crashed</td>\n",
       "      <td>0</td>\n",
       "      <td>1</td>\n",
       "    </tr>\n",
       "    <tr>\n",
       "      <th>325621</th>\n",
       "      <td>knw hv restrictions hey evryday quotlike alwaysquot inshalla spend like birthday may</td>\n",
       "      <td>0</td>\n",
       "      <td>1</td>\n",
       "    </tr>\n",
       "  </tbody>\n",
       "</table>\n",
       "</div>"
      ],
      "text/plain": [
       "                                                                                                 text  \\\n",
       "378593                        sitting wondering barbecue better quick countdown officially start wait   \n",
       "234331               found baby robin yardno mommie touch put woods hope finds cute opened mouth feed   \n",
       "1293940  tell us really feel going backforth sql compactfull mean data migration andor something else   \n",
       "235072                                                                  listened people ragging viola   \n",
       "1087348                                                                         want live vicariously   \n",
       "986044                                                               go th floor official quiet floor   \n",
       "257760    wow laughing loud woke buahaha tears eyes difference lol cannot see background using itouch   \n",
       "948622                             got work returned apartmentturned tv saw weather channel tell last   \n",
       "130547                                           google wave dev preview video firefox client crashed   \n",
       "325621           knw hv restrictions hey evryday quotlike alwaysquot inshalla spend like birthday may   \n",
       "\n",
       "         label  prediction  \n",
       "378593       0           1  \n",
       "234331       0           1  \n",
       "1293940      1           0  \n",
       "235072       0           1  \n",
       "1087348      1           0  \n",
       "986044       1           0  \n",
       "257760       0           1  \n",
       "948622       1           0  \n",
       "130547       0           1  \n",
       "325621       0           1  "
      ]
     },
     "execution_count": 15,
     "metadata": {},
     "output_type": "execute_result"
    }
   ],
   "source": [
    "wrong_classified(X_test, y_test, log_model[1])"
   ]
  },
  {
   "cell_type": "markdown",
   "id": "ef59b167",
   "metadata": {
    "papermill": {
     "duration": 0.021348,
     "end_time": "2023-11-06T22:02:55.766072",
     "exception": false,
     "start_time": "2023-11-06T22:02:55.744724",
     "status": "completed"
    },
    "tags": []
   },
   "source": [
    "# 2. NN"
   ]
  },
  {
   "cell_type": "markdown",
   "id": "c318712e",
   "metadata": {
    "papermill": {
     "duration": 0.021535,
     "end_time": "2023-11-06T22:02:55.810108",
     "exception": false,
     "start_time": "2023-11-06T22:02:55.788573",
     "status": "completed"
    },
    "tags": []
   },
   "source": [
    "## Splitting into test and val"
   ]
  },
  {
   "cell_type": "code",
   "execution_count": 16,
   "id": "a3847b3c",
   "metadata": {
    "execution": {
     "iopub.execute_input": "2023-11-06T22:02:55.857362Z",
     "iopub.status.busy": "2023-11-06T22:02:55.855895Z",
     "iopub.status.idle": "2023-11-06T22:02:56.226670Z",
     "shell.execute_reply": "2023-11-06T22:02:56.225160Z"
    },
    "papermill": {
     "duration": 0.397981,
     "end_time": "2023-11-06T22:02:56.230042",
     "exception": false,
     "start_time": "2023-11-06T22:02:55.832061",
     "status": "completed"
    },
    "tags": []
   },
   "outputs": [],
   "source": [
    "X = df['text']  # Features (text)\n",
    "y = df['sentiment']  # Labels (0 or 1)\n",
    "X_train, X_test, y_train, y_test = train_test_split(X, y, test_size=0.1, random_state=42)"
   ]
  },
  {
   "cell_type": "code",
   "execution_count": 17,
   "id": "c3a3a31c",
   "metadata": {
    "execution": {
     "iopub.execute_input": "2023-11-06T22:02:56.278194Z",
     "iopub.status.busy": "2023-11-06T22:02:56.276914Z",
     "iopub.status.idle": "2023-11-06T22:02:56.281959Z",
     "shell.execute_reply": "2023-11-06T22:02:56.280994Z"
    },
    "papermill": {
     "duration": 0.031877,
     "end_time": "2023-11-06T22:02:56.284440",
     "exception": false,
     "start_time": "2023-11-06T22:02:56.252563",
     "status": "completed"
    },
    "tags": []
   },
   "outputs": [],
   "source": [
    " # X_test, X_val, y_test, y_val = train_test_split(X_test, y_test, test_size=0.5, random_state=42)"
   ]
  },
  {
   "cell_type": "markdown",
   "id": "8901f59f",
   "metadata": {
    "papermill": {
     "duration": 0.021513,
     "end_time": "2023-11-06T22:02:56.327932",
     "exception": false,
     "start_time": "2023-11-06T22:02:56.306419",
     "status": "completed"
    },
    "tags": []
   },
   "source": [
    "### tokenization"
   ]
  },
  {
   "cell_type": "code",
   "execution_count": 18,
   "id": "b3d8616a",
   "metadata": {
    "execution": {
     "iopub.execute_input": "2023-11-06T22:02:56.376035Z",
     "iopub.status.busy": "2023-11-06T22:02:56.375507Z",
     "iopub.status.idle": "2023-11-06T22:03:03.193174Z",
     "shell.execute_reply": "2023-11-06T22:03:03.191731Z"
    },
    "papermill": {
     "duration": 6.845432,
     "end_time": "2023-11-06T22:03:03.196532",
     "exception": false,
     "start_time": "2023-11-06T22:02:56.351100",
     "status": "completed"
    },
    "tags": []
   },
   "outputs": [],
   "source": [
    "textToken = [text.split() for text in X_train]"
   ]
  },
  {
   "cell_type": "markdown",
   "id": "9d1fc0b8",
   "metadata": {
    "papermill": {
     "duration": 0.022012,
     "end_time": "2023-11-06T22:03:03.240415",
     "exception": false,
     "start_time": "2023-11-06T22:03:03.218403",
     "status": "completed"
    },
    "tags": []
   },
   "source": [
    "### creating embeeding model with wrod2vec"
   ]
  },
  {
   "cell_type": "code",
   "execution_count": 19,
   "id": "a4b9dcc1",
   "metadata": {
    "execution": {
     "iopub.execute_input": "2023-11-06T22:03:03.285825Z",
     "iopub.status.busy": "2023-11-06T22:03:03.285293Z",
     "iopub.status.idle": "2023-11-06T22:03:29.332233Z",
     "shell.execute_reply": "2023-11-06T22:03:29.330963Z"
    },
    "papermill": {
     "duration": 26.073438,
     "end_time": "2023-11-06T22:03:29.335649",
     "exception": false,
     "start_time": "2023-11-06T22:03:03.262211",
     "status": "completed"
    },
    "tags": []
   },
   "outputs": [],
   "source": [
    "from gensim.models import Word2Vec\n",
    "import gensim\n",
    "import gensim.downloader as api\n",
    "# from keras.preprocessing.sequence import pad_sequences\n",
    "from keras.utils import pad_sequences\n",
    "from sklearn.preprocessing import LabelEncoder\n",
    "from keras.layers import Activation, Dense, Dropout, Embedding, Flatten, Conv1D, MaxPooling1D, LSTM\n",
    "from keras.models import Sequential\n",
    "from keras.callbacks import ReduceLROnPlateau, EarlyStopping"
   ]
  },
  {
   "cell_type": "code",
   "execution_count": 20,
   "id": "3f390e4d",
   "metadata": {
    "execution": {
     "iopub.execute_input": "2023-11-06T22:03:29.384343Z",
     "iopub.status.busy": "2023-11-06T22:03:29.383413Z",
     "iopub.status.idle": "2023-11-06T22:03:29.390363Z",
     "shell.execute_reply": "2023-11-06T22:03:29.389019Z"
    },
    "papermill": {
     "duration": 0.03486,
     "end_time": "2023-11-06T22:03:29.392971",
     "exception": false,
     "start_time": "2023-11-06T22:03:29.358111",
     "status": "completed"
    },
    "tags": []
   },
   "outputs": [],
   "source": [
    "# WORD2VEC \n",
    "WORD2VEC_MODEL = \"model2.w2v\"\n",
    "W2V_SIZE = 300\n",
    "W2V_WINDOW = 7\n",
    "W2V_EPOCH = 32\n",
    "W2V_MIN_COUNT = 10"
   ]
  },
  {
   "cell_type": "code",
   "execution_count": 21,
   "id": "668508f0",
   "metadata": {
    "execution": {
     "iopub.execute_input": "2023-11-06T22:03:29.439337Z",
     "iopub.status.busy": "2023-11-06T22:03:29.437869Z",
     "iopub.status.idle": "2023-11-06T22:03:29.444177Z",
     "shell.execute_reply": "2023-11-06T22:03:29.442899Z"
    },
    "papermill": {
     "duration": 0.032248,
     "end_time": "2023-11-06T22:03:29.446956",
     "exception": false,
     "start_time": "2023-11-06T22:03:29.414708",
     "status": "completed"
    },
    "tags": []
   },
   "outputs": [],
   "source": [
    "SEQUENCE_LENGTH = 300\n",
    "EPOCHS = 3\n",
    "BATCH_SIZE = 1024"
   ]
  },
  {
   "cell_type": "code",
   "execution_count": 22,
   "id": "2d216465",
   "metadata": {
    "execution": {
     "iopub.execute_input": "2023-11-06T22:03:29.492431Z",
     "iopub.status.busy": "2023-11-06T22:03:29.491938Z",
     "iopub.status.idle": "2023-11-06T22:03:29.498828Z",
     "shell.execute_reply": "2023-11-06T22:03:29.497657Z"
    },
    "papermill": {
     "duration": 0.032549,
     "end_time": "2023-11-06T22:03:29.501208",
     "exception": false,
     "start_time": "2023-11-06T22:03:29.468659",
     "status": "completed"
    },
    "tags": []
   },
   "outputs": [],
   "source": [
    "w2v_model = gensim.models.word2vec.Word2Vec(vector_size=W2V_SIZE, \n",
    "                                            window=W2V_WINDOW, \n",
    "                                            min_count=W2V_MIN_COUNT, \n",
    "                                            workers=8)"
   ]
  },
  {
   "cell_type": "code",
   "execution_count": 23,
   "id": "67c6b18c",
   "metadata": {
    "execution": {
     "iopub.execute_input": "2023-11-06T22:03:29.547819Z",
     "iopub.status.busy": "2023-11-06T22:03:29.547279Z",
     "iopub.status.idle": "2023-11-06T22:03:35.162510Z",
     "shell.execute_reply": "2023-11-06T22:03:35.161069Z"
    },
    "papermill": {
     "duration": 5.642388,
     "end_time": "2023-11-06T22:03:35.165999",
     "exception": false,
     "start_time": "2023-11-06T22:03:29.523611",
     "status": "completed"
    },
    "tags": []
   },
   "outputs": [],
   "source": [
    "w2v_model.build_vocab(textToken)"
   ]
  },
  {
   "cell_type": "code",
   "execution_count": 24,
   "id": "007195df",
   "metadata": {
    "execution": {
     "iopub.execute_input": "2023-11-06T22:03:35.214803Z",
     "iopub.status.busy": "2023-11-06T22:03:35.214255Z",
     "iopub.status.idle": "2023-11-06T22:03:35.221104Z",
     "shell.execute_reply": "2023-11-06T22:03:35.219678Z"
    },
    "papermill": {
     "duration": 0.035446,
     "end_time": "2023-11-06T22:03:35.223858",
     "exception": false,
     "start_time": "2023-11-06T22:03:35.188412",
     "status": "completed"
    },
    "tags": []
   },
   "outputs": [
    {
     "name": "stdout",
     "output_type": "stream",
     "text": [
      "Vocab size 32581\n"
     ]
    }
   ],
   "source": [
    "words = w2v_model.wv.key_to_index.keys()\n",
    "vocab_size = len(words)\n",
    "print(\"Vocab size\", vocab_size)"
   ]
  },
  {
   "cell_type": "code",
   "execution_count": 25,
   "id": "511401ba",
   "metadata": {
    "execution": {
     "iopub.execute_input": "2023-11-06T22:03:35.270061Z",
     "iopub.status.busy": "2023-11-06T22:03:35.269156Z",
     "iopub.status.idle": "2023-11-06T22:11:25.135908Z",
     "shell.execute_reply": "2023-11-06T22:11:25.134686Z"
    },
    "papermill": {
     "duration": 469.913209,
     "end_time": "2023-11-06T22:11:25.158933",
     "exception": false,
     "start_time": "2023-11-06T22:03:35.245724",
     "status": "completed"
    },
    "tags": []
   },
   "outputs": [
    {
     "name": "stdout",
     "output_type": "stream",
     "text": [
      "CPU times: user 26min 7s, sys: 8 s, total: 26min 15s\n",
      "Wall time: 7min 49s\n"
     ]
    },
    {
     "data": {
      "text/plain": [
       "(265616469, 304501536)"
      ]
     },
     "execution_count": 25,
     "metadata": {},
     "output_type": "execute_result"
    }
   ],
   "source": [
    "%%time\n",
    "w2v_model.train(textToken, total_examples=len(textToken), epochs=W2V_EPOCH)\n"
   ]
  },
  {
   "cell_type": "code",
   "execution_count": 26,
   "id": "e77c2872",
   "metadata": {
    "execution": {
     "iopub.execute_input": "2023-11-06T22:11:25.204171Z",
     "iopub.status.busy": "2023-11-06T22:11:25.203689Z",
     "iopub.status.idle": "2023-11-06T22:11:25.255011Z",
     "shell.execute_reply": "2023-11-06T22:11:25.253641Z"
    },
    "papermill": {
     "duration": 0.078937,
     "end_time": "2023-11-06T22:11:25.258982",
     "exception": false,
     "start_time": "2023-11-06T22:11:25.180045",
     "status": "completed"
    },
    "tags": []
   },
   "outputs": [
    {
     "data": {
      "text/plain": [
       "[('adore', 0.6139412522315979),\n",
       " ('loved', 0.5440647602081299),\n",
       " ('loves', 0.539458155632019),\n",
       " ('miss', 0.48915043473243713),\n",
       " ('lovee', 0.4819703996181488),\n",
       " ('lt', 0.478708416223526),\n",
       " ('looove', 0.47375038266181946),\n",
       " ('loove', 0.46576693654060364),\n",
       " ('amazing', 0.4504588842391968),\n",
       " ('looooove', 0.4491012990474701)]"
      ]
     },
     "execution_count": 26,
     "metadata": {},
     "output_type": "execute_result"
    }
   ],
   "source": [
    "w2v_model.wv.most_similar(\"love\")"
   ]
  },
  {
   "cell_type": "code",
   "execution_count": 27,
   "id": "6b759f48",
   "metadata": {
    "execution": {
     "iopub.execute_input": "2023-11-06T22:11:25.355119Z",
     "iopub.status.busy": "2023-11-06T22:11:25.353314Z",
     "iopub.status.idle": "2023-11-06T22:11:25.594779Z",
     "shell.execute_reply": "2023-11-06T22:11:25.593328Z"
    },
    "papermill": {
     "duration": 0.292569,
     "end_time": "2023-11-06T22:11:25.598010",
     "exception": false,
     "start_time": "2023-11-06T22:11:25.305441",
     "status": "completed"
    },
    "tags": []
   },
   "outputs": [],
   "source": [
    "w2v_model.save(WORD2VEC_MODEL)"
   ]
  },
  {
   "cell_type": "code",
   "execution_count": 28,
   "id": "8ca7c8bc",
   "metadata": {
    "execution": {
     "iopub.execute_input": "2023-11-06T22:11:25.645750Z",
     "iopub.status.busy": "2023-11-06T22:11:25.644769Z",
     "iopub.status.idle": "2023-11-06T22:11:26.821091Z",
     "shell.execute_reply": "2023-11-06T22:11:26.819661Z"
    },
    "papermill": {
     "duration": 1.203869,
     "end_time": "2023-11-06T22:11:26.824239",
     "exception": false,
     "start_time": "2023-11-06T22:11:25.620370",
     "status": "completed"
    },
    "tags": []
   },
   "outputs": [],
   "source": [
    "w2v_model = Word2Vec.load('/kaggle/input/model2/model2.w2v')"
   ]
  },
  {
   "cell_type": "markdown",
   "id": "471cf971",
   "metadata": {
    "papermill": {
     "duration": 0.02157,
     "end_time": "2023-11-06T22:11:26.867799",
     "exception": false,
     "start_time": "2023-11-06T22:11:26.846229",
     "status": "completed"
    },
    "tags": []
   },
   "source": [
    "#### Tokenizer"
   ]
  },
  {
   "cell_type": "code",
   "execution_count": 29,
   "id": "8833d39a",
   "metadata": {
    "execution": {
     "iopub.execute_input": "2023-11-06T22:11:26.914917Z",
     "iopub.status.busy": "2023-11-06T22:11:26.913720Z",
     "iopub.status.idle": "2023-11-06T22:11:26.931943Z",
     "shell.execute_reply": "2023-11-06T22:11:26.930400Z"
    },
    "papermill": {
     "duration": 0.045371,
     "end_time": "2023-11-06T22:11:26.935352",
     "exception": false,
     "start_time": "2023-11-06T22:11:26.889981",
     "status": "completed"
    },
    "tags": []
   },
   "outputs": [],
   "source": [
    "from keras.preprocessing.text import Tokenizer"
   ]
  },
  {
   "cell_type": "code",
   "execution_count": 30,
   "id": "d4c74f14",
   "metadata": {
    "execution": {
     "iopub.execute_input": "2023-11-06T22:11:26.982666Z",
     "iopub.status.busy": "2023-11-06T22:11:26.981346Z",
     "iopub.status.idle": "2023-11-06T22:11:53.838398Z",
     "shell.execute_reply": "2023-11-06T22:11:53.837064Z"
    },
    "papermill": {
     "duration": 26.884087,
     "end_time": "2023-11-06T22:11:53.841605",
     "exception": false,
     "start_time": "2023-11-06T22:11:26.957518",
     "status": "completed"
    },
    "tags": []
   },
   "outputs": [
    {
     "name": "stdout",
     "output_type": "stream",
     "text": [
      "Total words 364751\n",
      "CPU times: user 26.7 s, sys: 179 ms, total: 26.8 s\n",
      "Wall time: 26.8 s\n"
     ]
    }
   ],
   "source": [
    "%%time\n",
    "tokenizer = Tokenizer()\n",
    "tokenizer.fit_on_texts(X_train)\n",
    "\n",
    "vocab_size = len(tokenizer.word_index) + 1\n",
    "print(\"Total words\", vocab_size)"
   ]
  },
  {
   "cell_type": "code",
   "execution_count": 31,
   "id": "e90702b0",
   "metadata": {
    "execution": {
     "iopub.execute_input": "2023-11-06T22:11:53.888963Z",
     "iopub.status.busy": "2023-11-06T22:11:53.888109Z",
     "iopub.status.idle": "2023-11-06T22:11:53.893551Z",
     "shell.execute_reply": "2023-11-06T22:11:53.892640Z"
    },
    "papermill": {
     "duration": 0.032111,
     "end_time": "2023-11-06T22:11:53.896009",
     "exception": false,
     "start_time": "2023-11-06T22:11:53.863898",
     "status": "completed"
    },
    "tags": []
   },
   "outputs": [],
   "source": [
    "SEQUENCE_LENGTH = 300"
   ]
  },
  {
   "cell_type": "code",
   "execution_count": 32,
   "id": "0d680f93",
   "metadata": {
    "execution": {
     "iopub.execute_input": "2023-11-06T22:11:53.943277Z",
     "iopub.status.busy": "2023-11-06T22:11:53.942307Z",
     "iopub.status.idle": "2023-11-06T22:12:27.427401Z",
     "shell.execute_reply": "2023-11-06T22:12:27.426074Z"
    },
    "papermill": {
     "duration": 33.53579,
     "end_time": "2023-11-06T22:12:27.454009",
     "exception": false,
     "start_time": "2023-11-06T22:11:53.918219",
     "status": "completed"
    },
    "tags": []
   },
   "outputs": [
    {
     "name": "stdout",
     "output_type": "stream",
     "text": [
      "CPU times: user 32.7 s, sys: 772 ms, total: 33.5 s\n",
      "Wall time: 33.5 s\n"
     ]
    }
   ],
   "source": [
    "%%time\n",
    "X_train = pad_sequences(tokenizer.texts_to_sequences(X_train), maxlen=SEQUENCE_LENGTH)\n",
    "X_test = pad_sequences(tokenizer.texts_to_sequences(X_test), maxlen=SEQUENCE_LENGTH)"
   ]
  },
  {
   "cell_type": "markdown",
   "id": "aaafc01e",
   "metadata": {
    "papermill": {
     "duration": 0.022983,
     "end_time": "2023-11-06T22:12:27.499036",
     "exception": false,
     "start_time": "2023-11-06T22:12:27.476053",
     "status": "completed"
    },
    "tags": []
   },
   "source": [
    "### labels encoders"
   ]
  },
  {
   "cell_type": "code",
   "execution_count": 33,
   "id": "231de955",
   "metadata": {
    "execution": {
     "iopub.execute_input": "2023-11-06T22:12:27.546405Z",
     "iopub.status.busy": "2023-11-06T22:12:27.545956Z",
     "iopub.status.idle": "2023-11-06T22:12:28.087012Z",
     "shell.execute_reply": "2023-11-06T22:12:28.085450Z"
    },
    "papermill": {
     "duration": 0.56852,
     "end_time": "2023-11-06T22:12:28.089913",
     "exception": false,
     "start_time": "2023-11-06T22:12:27.521393",
     "status": "completed"
    },
    "tags": []
   },
   "outputs": [
    {
     "name": "stdout",
     "output_type": "stream",
     "text": [
      "y_train (1198873, 1)\n",
      "y_test (133209, 1)\n"
     ]
    }
   ],
   "source": [
    "encoder = LabelEncoder()\n",
    "encoder.fit(y_train.tolist())\n",
    "\n",
    "y_train = encoder.transform(y_train.tolist())\n",
    "y_test = encoder.transform(y_test.tolist())\n",
    "\n",
    "y_train = y_train.reshape(-1,1)\n",
    "y_test = y_test.reshape(-1,1)\n",
    "\n",
    "print(\"y_train\",y_train.shape)\n",
    "print(\"y_test\",y_test.shape)"
   ]
  },
  {
   "cell_type": "code",
   "execution_count": 34,
   "id": "7abc0ba2",
   "metadata": {
    "execution": {
     "iopub.execute_input": "2023-11-06T22:12:28.137762Z",
     "iopub.status.busy": "2023-11-06T22:12:28.137266Z",
     "iopub.status.idle": "2023-11-06T22:12:28.144776Z",
     "shell.execute_reply": "2023-11-06T22:12:28.143402Z"
    },
    "papermill": {
     "duration": 0.035554,
     "end_time": "2023-11-06T22:12:28.147903",
     "exception": false,
     "start_time": "2023-11-06T22:12:28.112349",
     "status": "completed"
    },
    "tags": []
   },
   "outputs": [
    {
     "name": "stdout",
     "output_type": "stream",
     "text": [
      "x_train (1198873, 300)\n",
      "y_train (1198873, 1)\n",
      "\n",
      "x_test (133209, 300)\n",
      "y_test (133209, 1)\n"
     ]
    }
   ],
   "source": [
    "print(\"x_train\", X_train.shape)\n",
    "print(\"y_train\", y_train.shape)\n",
    "print()\n",
    "print(\"x_test\", X_test.shape)\n",
    "print(\"y_test\", y_test.shape)"
   ]
  },
  {
   "cell_type": "markdown",
   "id": "198cf1be",
   "metadata": {
    "papermill": {
     "duration": 0.022197,
     "end_time": "2023-11-06T22:12:28.192548",
     "exception": false,
     "start_time": "2023-11-06T22:12:28.170351",
     "status": "completed"
    },
    "tags": []
   },
   "source": [
    "#### Embedding layer"
   ]
  },
  {
   "cell_type": "code",
   "execution_count": 35,
   "id": "f673092f",
   "metadata": {
    "execution": {
     "iopub.execute_input": "2023-11-06T22:12:28.240863Z",
     "iopub.status.busy": "2023-11-06T22:12:28.239377Z",
     "iopub.status.idle": "2023-11-06T22:12:29.042444Z",
     "shell.execute_reply": "2023-11-06T22:12:29.041195Z"
    },
    "papermill": {
     "duration": 0.830648,
     "end_time": "2023-11-06T22:12:29.045646",
     "exception": false,
     "start_time": "2023-11-06T22:12:28.214998",
     "status": "completed"
    },
    "tags": []
   },
   "outputs": [
    {
     "name": "stdout",
     "output_type": "stream",
     "text": [
      "(364751, 300)\n"
     ]
    }
   ],
   "source": [
    "embedding_matrix = np.zeros((vocab_size, W2V_SIZE))\n",
    "for word, i in tokenizer.word_index.items():\n",
    "    if word in w2v_model.wv:\n",
    "        embedding_matrix[i] = w2v_model.wv[word]\n",
    "print(embedding_matrix.shape)\n",
    "embedding_layer = Embedding(vocab_size, W2V_SIZE, weights=[embedding_matrix], \n",
    "                            input_length=SEQUENCE_LENGTH, trainable=False)"
   ]
  },
  {
   "cell_type": "markdown",
   "id": "89b752d5",
   "metadata": {
    "papermill": {
     "duration": 0.022112,
     "end_time": "2023-11-06T22:12:29.090252",
     "exception": false,
     "start_time": "2023-11-06T22:12:29.068140",
     "status": "completed"
    },
    "tags": []
   },
   "source": [
    "### lstm model"
   ]
  },
  {
   "cell_type": "code",
   "execution_count": 36,
   "id": "31a2c046",
   "metadata": {
    "execution": {
     "iopub.execute_input": "2023-11-06T22:12:29.137476Z",
     "iopub.status.busy": "2023-11-06T22:12:29.137039Z",
     "iopub.status.idle": "2023-11-06T22:12:31.429908Z",
     "shell.execute_reply": "2023-11-06T22:12:31.428426Z"
    },
    "papermill": {
     "duration": 2.323752,
     "end_time": "2023-11-06T22:12:31.436483",
     "exception": false,
     "start_time": "2023-11-06T22:12:29.112731",
     "status": "completed"
    },
    "tags": []
   },
   "outputs": [
    {
     "name": "stdout",
     "output_type": "stream",
     "text": [
      "Model: \"sequential\"\n",
      "_________________________________________________________________\n",
      " Layer (type)                Output Shape              Param #   \n",
      "=================================================================\n",
      " embedding (Embedding)       (None, 300, 300)          109425300 \n",
      "                                                                 \n",
      " dropout (Dropout)           (None, 300, 300)          0         \n",
      "                                                                 \n",
      " lstm (LSTM)                 (None, 100)               160400    \n",
      "                                                                 \n",
      " dense (Dense)               (None, 1)                 101       \n",
      "                                                                 \n",
      "=================================================================\n",
      "Total params: 109,585,801\n",
      "Trainable params: 160,501\n",
      "Non-trainable params: 109,425,300\n",
      "_________________________________________________________________\n"
     ]
    }
   ],
   "source": [
    "model = Sequential()\n",
    "model.add(embedding_layer)\n",
    "model.add(Dropout(0.5))\n",
    "model.add(LSTM(100, dropout=0.2, recurrent_dropout=0.2))\n",
    "model.add(Dense(1, activation='sigmoid'))\n",
    "\n",
    "model.summary()"
   ]
  },
  {
   "cell_type": "code",
   "execution_count": 37,
   "id": "b93878fb",
   "metadata": {
    "execution": {
     "iopub.execute_input": "2023-11-06T22:12:31.487297Z",
     "iopub.status.busy": "2023-11-06T22:12:31.486512Z",
     "iopub.status.idle": "2023-11-06T22:12:31.512526Z",
     "shell.execute_reply": "2023-11-06T22:12:31.511125Z"
    },
    "papermill": {
     "duration": 0.055414,
     "end_time": "2023-11-06T22:12:31.515942",
     "exception": false,
     "start_time": "2023-11-06T22:12:31.460528",
     "status": "completed"
    },
    "tags": []
   },
   "outputs": [],
   "source": [
    "model.compile(loss='binary_crossentropy',\n",
    "              optimizer=\"adam\",\n",
    "              metrics=['accuracy'])"
   ]
  },
  {
   "cell_type": "code",
   "execution_count": 38,
   "id": "fdbb2895",
   "metadata": {
    "execution": {
     "iopub.execute_input": "2023-11-06T22:12:31.566794Z",
     "iopub.status.busy": "2023-11-06T22:12:31.565575Z",
     "iopub.status.idle": "2023-11-06T22:12:31.572096Z",
     "shell.execute_reply": "2023-11-06T22:12:31.570814Z"
    },
    "papermill": {
     "duration": 0.034847,
     "end_time": "2023-11-06T22:12:31.574789",
     "exception": false,
     "start_time": "2023-11-06T22:12:31.539942",
     "status": "completed"
    },
    "tags": []
   },
   "outputs": [],
   "source": [
    "callbacks = [ ReduceLROnPlateau(monitor='val_loss', patience=5, cooldown=0),\n",
    "              EarlyStopping(monitor='val_acc', min_delta=1e-4, patience=5)]"
   ]
  },
  {
   "cell_type": "code",
   "execution_count": 39,
   "id": "1d289bb2",
   "metadata": {
    "execution": {
     "iopub.execute_input": "2023-11-06T22:12:31.626144Z",
     "iopub.status.busy": "2023-11-06T22:12:31.625687Z",
     "iopub.status.idle": "2023-11-07T05:02:58.685745Z",
     "shell.execute_reply": "2023-11-07T05:02:58.684317Z"
    },
    "papermill": {
     "duration": 24627.089634,
     "end_time": "2023-11-07T05:02:58.688383",
     "exception": false,
     "start_time": "2023-11-06T22:12:31.598749",
     "status": "completed"
    },
    "tags": []
   },
   "outputs": [
    {
     "name": "stdout",
     "output_type": "stream",
     "text": [
      "Epoch 1/3\n",
      "1054/1054 [==============================] - 8180s 8s/step - loss: 0.4983 - accuracy: 0.7545 - val_loss: 0.4572 - val_accuracy: 0.7839 - lr: 0.0010\n",
      "Epoch 2/3\n",
      "1054/1054 [==============================] - 8222s 8s/step - loss: 0.4711 - accuracy: 0.7719 - val_loss: 0.4507 - val_accuracy: 0.7881 - lr: 0.0010\n",
      "Epoch 3/3\n",
      "1054/1054 [==============================] - 8217s 8s/step - loss: 0.4637 - accuracy: 0.7766 - val_loss: 0.4435 - val_accuracy: 0.7912 - lr: 0.0010\n",
      "CPU times: user 23h 42min 3s, sys: 2h 9min 45s, total: 1d 1h 51min 48s\n",
      "Wall time: 6h 50min 27s\n"
     ]
    }
   ],
   "source": [
    "%%time\n",
    "history = model.fit(X_train, y_train,\n",
    "                    batch_size=BATCH_SIZE,\n",
    "                    epochs=EPOCHS,\n",
    "                    validation_split=0.1,\n",
    "                    verbose=1,\n",
    "                    callbacks=callbacks)"
   ]
  },
  {
   "cell_type": "code",
   "execution_count": 40,
   "id": "f641dd42",
   "metadata": {
    "execution": {
     "iopub.execute_input": "2023-11-07T05:02:59.334842Z",
     "iopub.status.busy": "2023-11-07T05:02:59.333991Z",
     "iopub.status.idle": "2023-11-07T05:03:00.987973Z",
     "shell.execute_reply": "2023-11-07T05:03:00.986967Z"
    },
    "papermill": {
     "duration": 1.979794,
     "end_time": "2023-11-07T05:03:00.990734",
     "exception": false,
     "start_time": "2023-11-07T05:02:59.010940",
     "status": "completed"
    },
    "tags": []
   },
   "outputs": [],
   "source": [
    "model.save(\"lstm_model.h5\")"
   ]
  },
  {
   "cell_type": "code",
   "execution_count": 41,
   "id": "50785827",
   "metadata": {
    "execution": {
     "iopub.execute_input": "2023-11-07T05:03:01.637286Z",
     "iopub.status.busy": "2023-11-07T05:03:01.636607Z",
     "iopub.status.idle": "2023-11-07T05:06:36.273153Z",
     "shell.execute_reply": "2023-11-07T05:06:36.272031Z"
    },
    "papermill": {
     "duration": 214.964573,
     "end_time": "2023-11-07T05:06:36.275651",
     "exception": false,
     "start_time": "2023-11-07T05:03:01.311078",
     "status": "completed"
    },
    "tags": []
   },
   "outputs": [
    {
     "name": "stdout",
     "output_type": "stream",
     "text": [
      "131/131 [==============================] - 214s 2s/step - loss: 0.4383 - accuracy: 0.7946\n",
      "\n",
      "ACCURACY: 0.7945784330368042\n",
      "LOSS: 0.4383258521556854\n",
      "CPU times: user 11min 12s, sys: 1min 46s, total: 12min 58s\n",
      "Wall time: 3min 34s\n"
     ]
    }
   ],
   "source": [
    "%%time\n",
    "score = model.evaluate(X_test, y_test, batch_size=BATCH_SIZE)\n",
    "print()\n",
    "print(\"ACCURACY:\",score[1])\n",
    "print(\"LOSS:\",score[0])"
   ]
  },
  {
   "cell_type": "code",
   "execution_count": 42,
   "id": "ba26a4d2",
   "metadata": {
    "execution": {
     "iopub.execute_input": "2023-11-07T05:06:36.943372Z",
     "iopub.status.busy": "2023-11-07T05:06:36.941993Z",
     "iopub.status.idle": "2023-11-07T05:06:37.643163Z",
     "shell.execute_reply": "2023-11-07T05:06:37.641916Z"
    },
    "papermill": {
     "duration": 1.036069,
     "end_time": "2023-11-07T05:06:37.645991",
     "exception": false,
     "start_time": "2023-11-07T05:06:36.609922",
     "status": "completed"
    },
    "tags": []
   },
   "outputs": [
    {
     "data": {
      "image/png": "[encoded data removed]",
      "text/plain": [
       "<Figure size 640x480 with 1 Axes>"
      ]
     },
     "metadata": {},
     "output_type": "display_data"
    },
    {
     "data": {
      "image/png": "[encoded data removed]",
      "text/plain": [
       "<Figure size 640x480 with 1 Axes>"
      ]
     },
     "metadata": {},
     "output_type": "display_data"
    }
   ],
   "source": [
    "acc = history.history['accuracy']\n",
    "val_acc = history.history['val_accuracy']\n",
    "loss = history.history['loss']\n",
    "val_loss = history.history['val_loss']\n",
    " \n",
    "epochs = range(len(acc))\n",
    " \n",
    "plt.plot(epochs, acc, 'b', label='Training acc')\n",
    "plt.plot(epochs, val_acc, 'r', label='Validation acc')\n",
    "plt.title('Training and validation accuracy')\n",
    "plt.legend()\n",
    " \n",
    "plt.figure()\n",
    " \n",
    "plt.plot(epochs, loss, 'b', label='Training loss')\n",
    "plt.plot(epochs, val_loss, 'r', label='Validation loss')\n",
    "plt.title('Training and validation loss')\n",
    "plt.legend()\n",
    "\n",
    "plt.show()"
   ]
  },
  {
   "cell_type": "code",
   "execution_count": 43,
   "id": "f1bf4177",
   "metadata": {
    "execution": {
     "iopub.execute_input": "2023-11-07T05:06:38.320515Z",
     "iopub.status.busy": "2023-11-07T05:06:38.319747Z",
     "iopub.status.idle": "2023-11-07T05:12:28.294706Z",
     "shell.execute_reply": "2023-11-07T05:12:28.293640Z"
    },
    "papermill": {
     "duration": 350.315429,
     "end_time": "2023-11-07T05:12:28.297589",
     "exception": false,
     "start_time": "2023-11-07T05:06:37.982160",
     "status": "completed"
    },
    "tags": []
   },
   "outputs": [
    {
     "name": "stdout",
     "output_type": "stream",
     "text": [
      "4163/4163 [==============================] - 348s 83ms/step\n"
     ]
    }
   ],
   "source": [
    "pred = model.predict(X_test)"
   ]
  },
  {
   "cell_type": "code",
   "execution_count": 44,
   "id": "96d8772a",
   "metadata": {
    "execution": {
     "iopub.execute_input": "2023-11-07T05:12:29.730289Z",
     "iopub.status.busy": "2023-11-07T05:12:29.729876Z",
     "iopub.status.idle": "2023-11-07T05:12:29.735807Z",
     "shell.execute_reply": "2023-11-07T05:12:29.734933Z"
    },
    "papermill": {
     "duration": 0.72288,
     "end_time": "2023-11-07T05:12:29.738068",
     "exception": false,
     "start_time": "2023-11-07T05:12:29.015188",
     "status": "completed"
    },
    "tags": []
   },
   "outputs": [],
   "source": [
    "pred_binary = np.where(pred > 0.5, 1, 0)"
   ]
  },
  {
   "cell_type": "code",
   "execution_count": 45,
   "id": "47812343",
   "metadata": {
    "execution": {
     "iopub.execute_input": "2023-11-07T05:12:31.189614Z",
     "iopub.status.busy": "2023-11-07T05:12:31.188768Z",
     "iopub.status.idle": "2023-11-07T05:12:32.263433Z",
     "shell.execute_reply": "2023-11-07T05:12:32.262609Z"
    },
    "papermill": {
     "duration": 1.812215,
     "end_time": "2023-11-07T05:12:32.265545",
     "exception": false,
     "start_time": "2023-11-07T05:12:30.453330",
     "status": "completed"
    },
    "tags": []
   },
   "outputs": [
    {
     "name": "stderr",
     "output_type": "stream",
     "text": [
      "/tmp/ipykernel_20/2301599994.py:17: MatplotlibDeprecationWarning: Auto-removal of overlapping axes is deprecated since 3.6 and will be removed two minor releases later; explicitly call ax.remove() as needed.\n",
      "  plt.subplot(1, 2, 1)\n",
      "/tmp/ipykernel_20/2301599994.py:27: MatplotlibDeprecationWarning: Auto-removal of overlapping axes is deprecated since 3.6 and will be removed two minor releases later; explicitly call ax.remove() as needed.\n",
      "  plt.subplot(1, 2, 2)\n"
     ]
    },
    {
     "data": {
      "image/png": "[encoded data removed]",
      "text/plain": [
       "<Figure size 1000x400 with 3 Axes>"
      ]
     },
     "metadata": {},
     "output_type": "display_data"
    },
    {
     "data": {
      "text/html": [
       "<div>\n",
       "<style scoped>\n",
       "    .dataframe tbody tr th:only-of-type {\n",
       "        vertical-align: middle;\n",
       "    }\n",
       "\n",
       "    .dataframe tbody tr th {\n",
       "        vertical-align: top;\n",
       "    }\n",
       "\n",
       "    .dataframe thead th {\n",
       "        text-align: right;\n",
       "    }\n",
       "</style>\n",
       "<table border=\"1\" class=\"dataframe\">\n",
       "  <thead>\n",
       "    <tr style=\"text-align: right;\">\n",
       "      <th></th>\n",
       "      <th>Precision</th>\n",
       "      <th>Recall</th>\n",
       "      <th>F1</th>\n",
       "      <th>Accuracy</th>\n",
       "      <th>ROC AUC Score</th>\n",
       "    </tr>\n",
       "  </thead>\n",
       "  <tbody>\n",
       "    <tr>\n",
       "      <th>0</th>\n",
       "      <td>0.79</td>\n",
       "      <td>0.8</td>\n",
       "      <td>0.8</td>\n",
       "      <td>0.79</td>\n",
       "      <td>0.79</td>\n",
       "    </tr>\n",
       "  </tbody>\n",
       "</table>\n",
       "</div>"
      ],
      "text/plain": [
       "   Precision  Recall   F1  Accuracy  ROC AUC Score\n",
       "0       0.79     0.8  0.8      0.79           0.79"
      ]
     },
     "metadata": {},
     "output_type": "display_data"
    }
   ],
   "source": [
    "AllScores = []\n",
    "name = 'LSTM_model'\n",
    "returnValues = [name]+metrixAndScoring(y_test, pred_binary)\n",
    "AllScores.append(returnValues)\n",
    "display(pd.DataFrame([[returnValues[1], returnValues[2], returnValues[3], returnValues[4], returnValues[5]]], columns=['Precision', 'Recall', 'F1', 'Accuracy', 'ROC AUC Score']).round(2))\n"
   ]
  },
  {
   "cell_type": "code",
   "execution_count": 46,
   "id": "fb13f736",
   "metadata": {
    "execution": {
     "iopub.execute_input": "2023-11-07T05:12:33.697556Z",
     "iopub.status.busy": "2023-11-07T05:12:33.696429Z",
     "iopub.status.idle": "2023-11-07T05:12:37.521532Z",
     "shell.execute_reply": "2023-11-07T05:12:37.520334Z"
    },
    "papermill": {
     "duration": 4.540707,
     "end_time": "2023-11-07T05:12:37.524155",
     "exception": false,
     "start_time": "2023-11-07T05:12:32.983448",
     "status": "completed"
    },
    "tags": []
   },
   "outputs": [],
   "source": [
    "from tensorflow.keras.models import load_model\n",
    "\n",
    "model = load_model(\"lstm_model.h5\")"
   ]
  },
  {
   "cell_type": "markdown",
   "id": "c650ed99",
   "metadata": {
    "papermill": {
     "duration": 0.707874,
     "end_time": "2023-11-07T05:12:39.103299",
     "exception": false,
     "start_time": "2023-11-07T05:12:38.395425",
     "status": "completed"
    },
    "tags": []
   },
   "source": [
    "\n",
    "transformer\n",
    "1. cleaner data\n",
    "2. more detailed data"
   ]
  },
  {
   "cell_type": "code",
   "execution_count": null,
   "id": "7e1f15b9",
   "metadata": {
    "papermill": {
     "duration": 0.717318,
     "end_time": "2023-11-07T05:12:40.529499",
     "exception": false,
     "start_time": "2023-11-07T05:12:39.812181",
     "status": "completed"
    },
    "tags": []
   },
   "outputs": [],
   "source": []
  }
 ],
 "metadata": {
  "kernelspec": {
   "display_name": "Python 3",
   "language": "python",
   "name": "python3"
  },
  "language_info": {
   "codemirror_mode": {
    "name": "ipython",
    "version": 3
   },
   "file_extension": ".py",
   "mimetype": "text/x-python",
   "name": "python",
   "nbconvert_exporter": "python",
   "pygments_lexer": "ipython3",
   "version": "3.10.12"
  },
  "papermill": {
   "default_parameters": {},
   "duration": 25903.114882,
   "end_time": "2023-11-07T05:12:45.056939",
   "environment_variables": {},
   "exception": null,
   "input_path": "__notebook__.ipynb",
   "output_path": "__notebook__.ipynb",
   "parameters": {},
   "start_time": "2023-11-06T22:01:01.942057",
   "version": "2.4.0"
  }
 },
 "nbformat": 4,
 "nbformat_minor": 5
}
